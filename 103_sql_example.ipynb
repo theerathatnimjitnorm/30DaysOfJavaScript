{
  "nbformat": 4,
  "nbformat_minor": 0,
  "metadata": {
    "colab": {
      "name": "103_sql_example.ipynb",
      "provenance": [],
      "collapsed_sections": [],
      "toc_visible": true,
      "include_colab_link": true
    },
    "kernelspec": {
      "name": "python3",
      "display_name": "Python 3"
    },
    "accelerator": "GPU"
  },
  "cells": [
    {
      "cell_type": "markdown",
      "metadata": {
        "id": "view-in-github",
        "colab_type": "text"
      },
      "source": [
        "<a href=\"https://colab.research.google.com/github/theerathatnimjitnorm/30DaysOfJavaScript/blob/master/103_sql_example.ipynb\" target=\"_parent\"><img src=\"https://colab.research.google.com/assets/colab-badge.svg\" alt=\"Open In Colab\"/></a>"
      ]
    },
    {
      "cell_type": "markdown",
      "metadata": {
        "id": "0h4Srum9Rntj",
        "colab_type": "text"
      },
      "source": [
        "<img height=\"45px\" src=\"https://avatars3.githubusercontent.com/u/20337240?s=460&v=4\" align=\"left\" hspace=\"10px\" vspace=\"0px\">\n",
        "\n",
        "# สรุปภาษา SQL \n",
        "<h2>ฉบับนักเขียนโปรแกรม </h2>\n",
        "\n",
        "<a href='https://www.facebook.com/programmerthai'><font color='green'>สรุปและเรียบเรียงโดยโปรแกรมเมอร์ไทย thai programmer</font></a>\n",
        "\n",
        "\n",
        "* ตัวอย่างโค้ดจะใช้ภาษา Python\n",
        "* ส่วนฐานข้อมูลคือ SQLite\n",
        "\n",
        "\n",
        "<hr>\n"
      ]
    },
    {
      "cell_type": "markdown",
      "metadata": {
        "id": "2BdFnlcBW7An",
        "colab_type": "text"
      },
      "source": [
        "# วิธีใช้งาน colab\n",
        "\n",
        "Colab พัฒนาโดย google เป็นหน้าเว็บเอาไว้ใช้เขียนโค้ด python ได้ผ่านทางหน้าเว็บ และเชื่อมต่อกับ google drive ของเราก็ได้ด้วย ซึ่งอยากให้ดูวิธีการใช้งาน colab เสียก่อน\n",
        "\n",
        "<h3>กด Save a copy in Drive ... เพื่อบันทึกไว้ google drive เครื่องเรา</h3>\n",
        "\n",
        "(ต้องมี Gmail และ google drive)\n",
        "\n",
        "<img height=\"300px\" src=\"https://www.patanasongsivilai.com/blog/wp-content/uploads/2019/11/python_matayom_1.png\" align=\"left\" hspace=\"10px\" vspace=\"0px\">\n",
        "\n",
        "<img height=\"200px\" src=\"https://www.patanasongsivilai.com/blog/wp-content/uploads/2019/11/python_matayom_2.png\" align=\"left\" hspace=\"10px\" vspace=\"0px\">\n",
        "\n",
        "\n",
        "<img height=\"200px\" src=\"https://www.patanasongsivilai.com/blog/wp-content/uploads/2019/11/python_matayom_3.png\" align=\"left\" hspace=\"10px\" vspace=\"0px\">"
      ]
    },
    {
      "cell_type": "markdown",
      "metadata": {
        "id": "8Q4zpW4LhFrY",
        "colab_type": "text"
      },
      "source": [
        "# สร้างฟังก์ชัน Utility \n",
        "\n",
        "จะเอาไว้ใชในตัวโค้ด\n",
        "\n",
        "\n",
        "---\n",
        "\n"
      ]
    },
    {
      "cell_type": "markdown",
      "metadata": {
        "id": "b5BVeaUEiLur",
        "colab_type": "text"
      },
      "source": [
        "**ใช้มอดูล Pandas**"
      ]
    },
    {
      "cell_type": "code",
      "metadata": {
        "id": "sNbN8OrOiK0a",
        "colab_type": "code",
        "outputId": "88d13901-8808-4ff4-c2d1-fc788f5a1135",
        "colab": {
          "base_uri": "https://localhost:8080/",
          "height": 17
        }
      },
      "source": [
        "import numpy as np\n",
        "import pandas as pd  \n",
        "\n",
        "from IPython.core.display import display, HTML\n",
        "\n",
        "display(HTML(\"<style>.container { width:90% !important; }</style>\"))\n",
        "pd.options.display.max_columns = 999\n",
        "pd.options.display.max_rows = 999"
      ],
      "execution_count": 0,
      "outputs": [
        {
          "output_type": "display_data",
          "data": {
            "text/html": [
              "<style>.container { width:90% !important; }</style>"
            ],
            "text/plain": [
              "<IPython.core.display.HTML object>"
            ]
          },
          "metadata": {
            "tags": []
          }
        }
      ]
    },
    {
      "cell_type": "code",
      "metadata": {
        "id": "8owtMKVehLgu",
        "colab_type": "code",
        "colab": {}
      },
      "source": [
        "def get_data(cursor):\n",
        "  all_rows = cursor.fetchall()\n",
        "  #[all_rows.append(np.array(row)) for row in cursor]\n",
        "  column_names = [description[0] for description in cursor.description]\n",
        "  df = pd.DataFrame(data=all_rows, columns = column_names)  \n",
        "  # ซ่อน index\n",
        "  blankIndex=[''] * len(df)\n",
        "  df.index=blankIndex\n",
        "  return df"
      ],
      "execution_count": 0,
      "outputs": []
    },
    {
      "cell_type": "markdown",
      "metadata": {
        "id": "dubt0bGaRwWU",
        "colab_type": "text"
      },
      "source": [
        "# เชื่อมต่อฐานข้อมูล (Connect to Database)\n",
        "\n",
        "\n",
        "---\n",
        "\n",
        "\n",
        "\n"
      ]
    },
    {
      "cell_type": "code",
      "metadata": {
        "id": "R6iwvf90svWe",
        "colab_type": "code",
        "outputId": "e1c0c328-c28b-4f19-a68f-4cf0341a1ac3",
        "colab": {
          "base_uri": "https://localhost:8080/",
          "height": 34
        }
      },
      "source": [
        "import sqlite3\n",
        "\n",
        "conn = sqlite3.connect('test.db')\n",
        "print(\"Opened database successfully\")\n",
        "conn.close()"
      ],
      "execution_count": 0,
      "outputs": [
        {
          "output_type": "stream",
          "text": [
            "Opened database successfully\n"
          ],
          "name": "stdout"
        }
      ]
    },
    {
      "cell_type": "markdown",
      "metadata": {
        "id": "HPVYCE3YSDLv",
        "colab_type": "text"
      },
      "source": [
        "# สร้าง Table (Create a Table)\n",
        "\n",
        "\n",
        "---\n",
        "\n"
      ]
    },
    {
      "cell_type": "code",
      "metadata": {
        "id": "lKzBNYe9SBsx",
        "colab_type": "code",
        "outputId": "74a57577-b57a-4426-df90-47434be37dd6",
        "colab": {
          "base_uri": "https://localhost:8080/",
          "height": 34
        }
      },
      "source": [
        "conn = sqlite3.connect('test.db')\n",
        "\n",
        "with conn:\n",
        "  conn.execute('''CREATE TABLE COMPANY\n",
        "         (ID INT PRIMARY KEY     NOT NULL,\n",
        "         NAME           TEXT    NOT NULL,\n",
        "         AGE            INT     NOT NULL,\n",
        "         ADDRESS        CHAR(50),\n",
        "         SALARY         REAL)''')\n",
        "\n",
        "conn.close() \n",
        "print(\"Table created successfully\")"
      ],
      "execution_count": 0,
      "outputs": [
        {
          "output_type": "stream",
          "text": [
            "Table created successfully\n"
          ],
          "name": "stdout"
        }
      ]
    },
    {
      "cell_type": "markdown",
      "metadata": {
        "id": "0HtpWBgOSVQB",
        "colab_type": "text"
      },
      "source": [
        "# แทรกข้อมูล (INSERT Query)\n",
        "\n",
        "\n",
        "---\n",
        "\n"
      ]
    },
    {
      "cell_type": "code",
      "metadata": {
        "id": "_uwdSmr_SMNR",
        "colab_type": "code",
        "outputId": "53002213-96c8-4b45-cf10-bc7f1bacd715",
        "colab": {
          "base_uri": "https://localhost:8080/",
          "height": 34
        }
      },
      "source": [
        "conn = sqlite3.connect('test.db')\n",
        "\n",
        "with conn:\n",
        "  conn.execute(\"INSERT INTO COMPANY (ID,NAME,AGE,ADDRESS,SALARY) \\\n",
        "      VALUES (1, 'Paul', 32, 'California', 20000.00 )\");\n",
        "\n",
        "  conn.execute(\"INSERT INTO COMPANY (ID,NAME,AGE,ADDRESS,SALARY) \\\n",
        "      VALUES (2, 'Allen', 25, 'Texas', 15000.00 )\");\n",
        "\n",
        "  conn.execute(\"INSERT INTO COMPANY (ID,NAME,AGE,ADDRESS,SALARY) \\\n",
        "      VALUES (3, 'Teddy', 23, 'Norway', 20000.00 )\");\n",
        "\n",
        "  conn.execute(\"INSERT INTO COMPANY (ID,NAME,AGE,ADDRESS,SALARY) \\\n",
        "      VALUES (4, 'Mark', 25, 'Rich-Mond ', 65000.00 )\");\n",
        "\n",
        "  conn.execute(\"INSERT INTO COMPANY (ID,NAME,AGE,ADDRESS,SALARY) \\\n",
        "      VALUES (5, 'David', 27, 'Texas', 85000.00 )\")\n",
        "\n",
        "  conn.execute(\"INSERT INTO COMPANY (ID,NAME,AGE,ADDRESS,SALARY) \\\n",
        "      VALUES (6, 'Kim', 22, 'South-Hall', 45000.00 )\")\n",
        "  #conn.commit()\n",
        "\n",
        "conn.close() \n",
        "print(\"Records created successfully\")"
      ],
      "execution_count": 0,
      "outputs": [
        {
          "output_type": "stream",
          "text": [
            "Records created successfully\n"
          ],
          "name": "stdout"
        }
      ]
    },
    {
      "cell_type": "markdown",
      "metadata": {
        "id": "5EUgPjIDu90l",
        "colab_type": "text"
      },
      "source": [
        "**หรือจะเขียนสั้นๆ แบบนี้ก็ได้ (เมื่อต้องแทรกทุก fields)**"
      ]
    },
    {
      "cell_type": "code",
      "metadata": {
        "id": "454KFl27vCF1",
        "colab_type": "code",
        "outputId": "23410540-591f-4906-9174-f8a46272dcac",
        "colab": {
          "base_uri": "https://localhost:8080/",
          "height": 34
        }
      },
      "source": [
        "conn = sqlite3.connect('test.db')\n",
        "\n",
        "with conn:\n",
        "  conn.execute(\"INSERT INTO COMPANY VALUES (7, 'James', 24, 'Houston', 10000.00)\")\n",
        "  conn.execute(\"INSERT INTO COMPANY VALUES (8, 'Paul', 24, 'Houston', 20000.00)\")\n",
        "  conn.execute(\"INSERT INTO COMPANY VALUES (9, 'James', 44, 'Norway', 5000.00)\")\n",
        "  #conn.commit()\n",
        "\n",
        "conn.close() \n",
        "print(\"Records created successfully\")"
      ],
      "execution_count": 0,
      "outputs": [
        {
          "output_type": "stream",
          "text": [
            "Records created successfully\n"
          ],
          "name": "stdout"
        }
      ]
    },
    {
      "cell_type": "markdown",
      "metadata": {
        "id": "fmJcGv2Ea9At",
        "colab_type": "text"
      },
      "source": [
        "# แก้ไขตาราง (ALTER)"
      ]
    },
    {
      "cell_type": "markdown",
      "metadata": {
        "id": "uBbpsz61bhE8",
        "colab_type": "text"
      },
      "source": [
        "## ตัวอย่างเปลี่ยนชื่อ Table"
      ]
    },
    {
      "cell_type": "code",
      "metadata": {
        "id": "lJKJrVXIbbGQ",
        "colab_type": "code",
        "outputId": "f9567492-dad3-4a8f-e8c0-e103e13784a6",
        "colab": {
          "base_uri": "https://localhost:8080/",
          "height": 34
        }
      },
      "source": [
        "conn = sqlite3.connect('test.db')\n",
        "\n",
        "with conn:\n",
        "  cursor = conn.execute(\"ALTER TABLE COMPANY RENAME TO OLD_COMPANY\")\n",
        "\n",
        "conn.close() \n",
        "print(\"Operation done successfully\")"
      ],
      "execution_count": 0,
      "outputs": [
        {
          "output_type": "stream",
          "text": [
            "Operation done successfully\n"
          ],
          "name": "stdout"
        }
      ]
    },
    {
      "cell_type": "markdown",
      "metadata": {
        "id": "wKQAYaq_b2kS",
        "colab_type": "text"
      },
      "source": [
        "## ตัวอย่างเพิ่มคอลัมน์"
      ]
    },
    {
      "cell_type": "code",
      "metadata": {
        "id": "Sdf7Bv_BbxG4",
        "colab_type": "code",
        "outputId": "6c5692d6-04b6-49a0-e510-ca8cfe6abe8d",
        "colab": {
          "base_uri": "https://localhost:8080/",
          "height": 34
        }
      },
      "source": [
        "conn = sqlite3.connect('test.db')\n",
        "\n",
        "with conn:\n",
        "  cursor = conn.execute(\"ALTER TABLE OLD_COMPANY ADD COLUMN SEX char(1)\")\n",
        "\n",
        "conn.close() \n",
        "print(\"Operation done successfully\")"
      ],
      "execution_count": 0,
      "outputs": [
        {
          "output_type": "stream",
          "text": [
            "Operation done successfully\n"
          ],
          "name": "stdout"
        }
      ]
    },
    {
      "cell_type": "markdown",
      "metadata": {
        "id": "QxKiorNdb5xC",
        "colab_type": "text"
      },
      "source": [
        "## ลองคิวรี่ดูข้อมูล"
      ]
    },
    {
      "cell_type": "code",
      "metadata": {
        "id": "-CYx4hF2cFma",
        "colab_type": "code",
        "outputId": "6c383603-2f98-45f0-fe23-65737996e05a",
        "colab": {
          "base_uri": "https://localhost:8080/",
          "height": 345
        }
      },
      "source": [
        "conn = sqlite3.connect('test.db')\n",
        "\n",
        "with conn:\n",
        "  cursor = conn.execute(\"SELECT * FROM OLD_COMPANY\")\n",
        "\n",
        "df=get_data(cursor)\n",
        "conn.close() \n",
        "print(\"Operation done successfully\")\n",
        "df"
      ],
      "execution_count": 0,
      "outputs": [
        {
          "output_type": "stream",
          "text": [
            "Operation done successfully\n"
          ],
          "name": "stdout"
        },
        {
          "output_type": "execute_result",
          "data": {
            "text/html": [
              "<div>\n",
              "<style scoped>\n",
              "    .dataframe tbody tr th:only-of-type {\n",
              "        vertical-align: middle;\n",
              "    }\n",
              "\n",
              "    .dataframe tbody tr th {\n",
              "        vertical-align: top;\n",
              "    }\n",
              "\n",
              "    .dataframe thead th {\n",
              "        text-align: right;\n",
              "    }\n",
              "</style>\n",
              "<table border=\"1\" class=\"dataframe\">\n",
              "  <thead>\n",
              "    <tr style=\"text-align: right;\">\n",
              "      <th></th>\n",
              "      <th>ID</th>\n",
              "      <th>NAME</th>\n",
              "      <th>AGE</th>\n",
              "      <th>ADDRESS</th>\n",
              "      <th>SALARY</th>\n",
              "      <th>SEX</th>\n",
              "    </tr>\n",
              "  </thead>\n",
              "  <tbody>\n",
              "    <tr>\n",
              "      <th></th>\n",
              "      <td>1</td>\n",
              "      <td>Paul</td>\n",
              "      <td>32</td>\n",
              "      <td>California</td>\n",
              "      <td>20000.0</td>\n",
              "      <td>None</td>\n",
              "    </tr>\n",
              "    <tr>\n",
              "      <th></th>\n",
              "      <td>2</td>\n",
              "      <td>Allen</td>\n",
              "      <td>25</td>\n",
              "      <td>Texas</td>\n",
              "      <td>15000.0</td>\n",
              "      <td>None</td>\n",
              "    </tr>\n",
              "    <tr>\n",
              "      <th></th>\n",
              "      <td>3</td>\n",
              "      <td>Teddy</td>\n",
              "      <td>23</td>\n",
              "      <td>Norway</td>\n",
              "      <td>20000.0</td>\n",
              "      <td>None</td>\n",
              "    </tr>\n",
              "    <tr>\n",
              "      <th></th>\n",
              "      <td>4</td>\n",
              "      <td>Mark</td>\n",
              "      <td>25</td>\n",
              "      <td>Rich-Mond</td>\n",
              "      <td>65000.0</td>\n",
              "      <td>None</td>\n",
              "    </tr>\n",
              "    <tr>\n",
              "      <th></th>\n",
              "      <td>5</td>\n",
              "      <td>David</td>\n",
              "      <td>27</td>\n",
              "      <td>Texas</td>\n",
              "      <td>85000.0</td>\n",
              "      <td>None</td>\n",
              "    </tr>\n",
              "    <tr>\n",
              "      <th></th>\n",
              "      <td>6</td>\n",
              "      <td>Kim</td>\n",
              "      <td>22</td>\n",
              "      <td>South-Hall</td>\n",
              "      <td>45000.0</td>\n",
              "      <td>None</td>\n",
              "    </tr>\n",
              "    <tr>\n",
              "      <th></th>\n",
              "      <td>7</td>\n",
              "      <td>James</td>\n",
              "      <td>24</td>\n",
              "      <td>Houston</td>\n",
              "      <td>10000.0</td>\n",
              "      <td>None</td>\n",
              "    </tr>\n",
              "    <tr>\n",
              "      <th></th>\n",
              "      <td>8</td>\n",
              "      <td>Paul</td>\n",
              "      <td>24</td>\n",
              "      <td>Houston</td>\n",
              "      <td>20000.0</td>\n",
              "      <td>None</td>\n",
              "    </tr>\n",
              "    <tr>\n",
              "      <th></th>\n",
              "      <td>9</td>\n",
              "      <td>James</td>\n",
              "      <td>44</td>\n",
              "      <td>Norway</td>\n",
              "      <td>5000.0</td>\n",
              "      <td>None</td>\n",
              "    </tr>\n",
              "  </tbody>\n",
              "</table>\n",
              "</div>"
            ],
            "text/plain": [
              "  ID   NAME  AGE     ADDRESS   SALARY   SEX\n",
              "   1   Paul   32  California  20000.0  None\n",
              "   2  Allen   25       Texas  15000.0  None\n",
              "   3  Teddy   23      Norway  20000.0  None\n",
              "   4   Mark   25  Rich-Mond   65000.0  None\n",
              "   5  David   27       Texas  85000.0  None\n",
              "   6    Kim   22  South-Hall  45000.0  None\n",
              "   7  James   24     Houston  10000.0  None\n",
              "   8   Paul   24     Houston  20000.0  None\n",
              "   9  James   44      Norway   5000.0  None"
            ]
          },
          "metadata": {
            "tags": []
          },
          "execution_count": 9
        }
      ]
    },
    {
      "cell_type": "markdown",
      "metadata": {
        "id": "AqebxnVUQxT4",
        "colab_type": "text"
      },
      "source": [
        "# ทิ้ง Table (Drop Table)\n",
        "\n",
        "\n",
        "---\n",
        "\n"
      ]
    },
    {
      "cell_type": "code",
      "metadata": {
        "id": "19-yAyAXRCMI",
        "colab_type": "code",
        "outputId": "fd2a4eb1-fe8a-4454-f7b8-36ac72adedef",
        "colab": {
          "base_uri": "https://localhost:8080/",
          "height": 34
        }
      },
      "source": [
        "conn = sqlite3.connect('test.db')\n",
        "\n",
        "with conn:\n",
        "  conn.execute(\"DROP table IF EXISTS OLD_COMPANY\")\n",
        "\n",
        "conn.close() \n",
        "print(\"Table dropped successfully\")"
      ],
      "execution_count": 0,
      "outputs": [
        {
          "output_type": "stream",
          "text": [
            "Table dropped successfully\n"
          ],
          "name": "stdout"
        }
      ]
    },
    {
      "cell_type": "markdown",
      "metadata": {
        "id": "1gUzfOBW7PTv",
        "colab_type": "text"
      },
      "source": [
        "# AUTOINCREMENT "
      ]
    },
    {
      "cell_type": "markdown",
      "metadata": {
        "id": "nDViecuj9ixW",
        "colab_type": "text"
      },
      "source": [
        "ตัวอย่างสร้าง TABLE ชื่อ COMPANY ขึ้นมาใหม่ โดยให้ PRIMARY KEY เพิ่มเองอัตโนมัติ"
      ]
    },
    {
      "cell_type": "code",
      "metadata": {
        "id": "fAKc27xJ7R0a",
        "colab_type": "code",
        "outputId": "1880b14b-1e12-48dd-916c-a63413d67527",
        "colab": {
          "base_uri": "https://localhost:8080/",
          "height": 34
        }
      },
      "source": [
        "conn = sqlite3.connect('test.db')\n",
        "\n",
        "with conn:\n",
        "  conn.execute('''CREATE TABLE COMPANY\n",
        "        (ID INTEGER PRIMARY KEY AUTOINCREMENT,\n",
        "         NAME           TEXT    NOT NULL,\n",
        "         AGE            INT     NOT NULL,\n",
        "         ADDRESS        CHAR(50),\n",
        "         SALARY         REAL)''')\n",
        "\n",
        "conn.close()   \n",
        "print(\"Table created successfully\")"
      ],
      "execution_count": 0,
      "outputs": [
        {
          "output_type": "stream",
          "text": [
            "Table created successfully\n"
          ],
          "name": "stdout"
        }
      ]
    },
    {
      "cell_type": "markdown",
      "metadata": {
        "id": "i0Y16dJO8g1F",
        "colab_type": "text"
      },
      "source": [
        "**เพิ่มข้อมูลลงไปในตาราง COMPANY ใหม่อีกครั้ง โดยไม่ต้องระบุ PRIMARY KEY**"
      ]
    },
    {
      "cell_type": "code",
      "metadata": {
        "id": "AEm3DYjP8gF5",
        "colab_type": "code",
        "outputId": "c3e964af-8db2-4a4b-dbe5-dedf48f76113",
        "colab": {
          "base_uri": "https://localhost:8080/",
          "height": 34
        }
      },
      "source": [
        "conn = sqlite3.connect('test.db')\n",
        "\n",
        "with conn:\n",
        "  conn.execute(\"INSERT INTO COMPANY (NAME,AGE,ADDRESS,SALARY)\\\n",
        "             VALUES ('Paul', 32, 'California', 20000.00 )\")\n",
        "\n",
        "  conn.execute(\"INSERT INTO COMPANY (NAME,AGE,ADDRESS,SALARY)\\\n",
        "            VALUES ('Allen', 25, 'Texas', 15000.00 )\")\n",
        "\n",
        "  conn.execute(\"INSERT INTO COMPANY (NAME,AGE,ADDRESS,SALARY)\\\n",
        "            VALUES ('Teddy', 23, 'Norway', 20000.00 )\")\n",
        "\n",
        "  conn.execute(\"INSERT INTO COMPANY (NAME,AGE,ADDRESS,SALARY)\\\n",
        "            VALUES ('Mark', 25, 'Rich-Mond ', 65000.00 )\")\n",
        "\n",
        "  conn.execute(\"INSERT INTO COMPANY (NAME,AGE,ADDRESS,SALARY)\\\n",
        "            VALUES ('David', 27, 'Texas', 85000.00 )\")\n",
        "\n",
        "  conn.execute(\"INSERT INTO COMPANY (NAME,AGE,ADDRESS,SALARY)\\\n",
        "            VALUES ('Kim', 22, 'South-Hall', 45000.00 )\")\n",
        "\n",
        "  conn.execute(\"INSERT INTO COMPANY (NAME,AGE,ADDRESS,SALARY)\\\n",
        "            VALUES ('James', 24, 'Houston', 10000.00)\")\n",
        "\n",
        "  conn.execute(\"INSERT INTO COMPANY (NAME,AGE,ADDRESS,SALARY)\\\n",
        "            VALUES ('Paul', 24, 'Houston', 20000.00)\")\n",
        "\n",
        "  conn.execute(\"INSERT INTO COMPANY (NAME,AGE,ADDRESS,SALARY)\\\n",
        "            VALUES ('James', 44, 'Norway', 5000.00)\")\n",
        "  #conn.commit()\n",
        "\n",
        "print(\"Records created successfully\")"
      ],
      "execution_count": 0,
      "outputs": [
        {
          "output_type": "stream",
          "text": [
            "Records created successfully\n"
          ],
          "name": "stdout"
        }
      ]
    },
    {
      "cell_type": "markdown",
      "metadata": {
        "id": "dTobge15SzjO",
        "colab_type": "text"
      },
      "source": [
        "# ค้นหาข้อมูล (SELECT Query)\n",
        "\n",
        "\n",
        "---\n",
        "\n"
      ]
    },
    {
      "cell_type": "markdown",
      "metadata": {
        "id": "GCENLpYlyBRV",
        "colab_type": "text"
      },
      "source": [
        "**ใช้ฟังก์ชัน Utility ที่เตรียมไว้ให้ เพื่อแสดงข้อมูลจากการคิวรี่ดีกว่า**"
      ]
    },
    {
      "cell_type": "code",
      "metadata": {
        "id": "G_9AUqdEdzJw",
        "colab_type": "code",
        "outputId": "01805c45-d045-4374-8883-deb530e033c7",
        "colab": {
          "base_uri": "https://localhost:8080/",
          "height": 345
        }
      },
      "source": [
        "conn = sqlite3.connect('test.db')\n",
        "\n",
        "cursor = conn.execute(\"SELECT id, name, address, salary from COMPANY\")\n",
        "df = get_data(cursor)\n",
        "\n",
        "conn.close() \n",
        "print(\"Operation done successfully\")\n",
        "df"
      ],
      "execution_count": 0,
      "outputs": [
        {
          "output_type": "stream",
          "text": [
            "Operation done successfully\n"
          ],
          "name": "stdout"
        },
        {
          "output_type": "execute_result",
          "data": {
            "text/html": [
              "<div>\n",
              "<style scoped>\n",
              "    .dataframe tbody tr th:only-of-type {\n",
              "        vertical-align: middle;\n",
              "    }\n",
              "\n",
              "    .dataframe tbody tr th {\n",
              "        vertical-align: top;\n",
              "    }\n",
              "\n",
              "    .dataframe thead th {\n",
              "        text-align: right;\n",
              "    }\n",
              "</style>\n",
              "<table border=\"1\" class=\"dataframe\">\n",
              "  <thead>\n",
              "    <tr style=\"text-align: right;\">\n",
              "      <th></th>\n",
              "      <th>ID</th>\n",
              "      <th>NAME</th>\n",
              "      <th>ADDRESS</th>\n",
              "      <th>SALARY</th>\n",
              "    </tr>\n",
              "  </thead>\n",
              "  <tbody>\n",
              "    <tr>\n",
              "      <th></th>\n",
              "      <td>1</td>\n",
              "      <td>Paul</td>\n",
              "      <td>California</td>\n",
              "      <td>20000.0</td>\n",
              "    </tr>\n",
              "    <tr>\n",
              "      <th></th>\n",
              "      <td>2</td>\n",
              "      <td>Allen</td>\n",
              "      <td>Texas</td>\n",
              "      <td>15000.0</td>\n",
              "    </tr>\n",
              "    <tr>\n",
              "      <th></th>\n",
              "      <td>3</td>\n",
              "      <td>Teddy</td>\n",
              "      <td>Norway</td>\n",
              "      <td>20000.0</td>\n",
              "    </tr>\n",
              "    <tr>\n",
              "      <th></th>\n",
              "      <td>4</td>\n",
              "      <td>Mark</td>\n",
              "      <td>Rich-Mond</td>\n",
              "      <td>65000.0</td>\n",
              "    </tr>\n",
              "    <tr>\n",
              "      <th></th>\n",
              "      <td>5</td>\n",
              "      <td>David</td>\n",
              "      <td>Texas</td>\n",
              "      <td>85000.0</td>\n",
              "    </tr>\n",
              "    <tr>\n",
              "      <th></th>\n",
              "      <td>6</td>\n",
              "      <td>Kim</td>\n",
              "      <td>South-Hall</td>\n",
              "      <td>45000.0</td>\n",
              "    </tr>\n",
              "    <tr>\n",
              "      <th></th>\n",
              "      <td>7</td>\n",
              "      <td>James</td>\n",
              "      <td>Houston</td>\n",
              "      <td>10000.0</td>\n",
              "    </tr>\n",
              "    <tr>\n",
              "      <th></th>\n",
              "      <td>8</td>\n",
              "      <td>Paul</td>\n",
              "      <td>Houston</td>\n",
              "      <td>20000.0</td>\n",
              "    </tr>\n",
              "    <tr>\n",
              "      <th></th>\n",
              "      <td>9</td>\n",
              "      <td>James</td>\n",
              "      <td>Norway</td>\n",
              "      <td>5000.0</td>\n",
              "    </tr>\n",
              "  </tbody>\n",
              "</table>\n",
              "</div>"
            ],
            "text/plain": [
              "  ID   NAME     ADDRESS   SALARY\n",
              "   1   Paul  California  20000.0\n",
              "   2  Allen       Texas  15000.0\n",
              "   3  Teddy      Norway  20000.0\n",
              "   4   Mark  Rich-Mond   65000.0\n",
              "   5  David       Texas  85000.0\n",
              "   6    Kim  South-Hall  45000.0\n",
              "   7  James     Houston  10000.0\n",
              "   8   Paul     Houston  20000.0\n",
              "   9  James      Norway   5000.0"
            ]
          },
          "metadata": {
            "tags": []
          },
          "execution_count": 13
        }
      ]
    },
    {
      "cell_type": "markdown",
      "metadata": {
        "id": "sI_WfcU1Tt9Q",
        "colab_type": "text"
      },
      "source": [
        "# ประโยค WHERE (WHERE Clause)"
      ]
    },
    {
      "cell_type": "markdown",
      "metadata": {
        "id": "wXpbIblmVmfr",
        "colab_type": "text"
      },
      "source": [
        "## ตัวอย่างใช้ operator เป็น AND"
      ]
    },
    {
      "cell_type": "code",
      "metadata": {
        "id": "IQ9CMcO1Uirj",
        "colab_type": "code",
        "outputId": "7aa615aa-3d9c-45e3-9cb1-82f57623b643",
        "colab": {
          "base_uri": "https://localhost:8080/",
          "height": 128
        }
      },
      "source": [
        "conn = sqlite3.connect('test.db')\n",
        "\n",
        "cursor = conn.execute(\"SELECT * FROM COMPANY WHERE AGE >= 25 AND SALARY >= 65000\")\n",
        "df = get_data(cursor)\n",
        "\n",
        "conn.close() \n",
        "print(\"Operation done successfully\")\n",
        "df"
      ],
      "execution_count": 0,
      "outputs": [
        {
          "output_type": "stream",
          "text": [
            "Operation done successfully\n"
          ],
          "name": "stdout"
        },
        {
          "output_type": "execute_result",
          "data": {
            "text/html": [
              "<div>\n",
              "<style scoped>\n",
              "    .dataframe tbody tr th:only-of-type {\n",
              "        vertical-align: middle;\n",
              "    }\n",
              "\n",
              "    .dataframe tbody tr th {\n",
              "        vertical-align: top;\n",
              "    }\n",
              "\n",
              "    .dataframe thead th {\n",
              "        text-align: right;\n",
              "    }\n",
              "</style>\n",
              "<table border=\"1\" class=\"dataframe\">\n",
              "  <thead>\n",
              "    <tr style=\"text-align: right;\">\n",
              "      <th></th>\n",
              "      <th>ID</th>\n",
              "      <th>NAME</th>\n",
              "      <th>AGE</th>\n",
              "      <th>ADDRESS</th>\n",
              "      <th>SALARY</th>\n",
              "    </tr>\n",
              "  </thead>\n",
              "  <tbody>\n",
              "    <tr>\n",
              "      <th></th>\n",
              "      <td>4</td>\n",
              "      <td>Mark</td>\n",
              "      <td>25</td>\n",
              "      <td>Rich-Mond</td>\n",
              "      <td>65000.0</td>\n",
              "    </tr>\n",
              "    <tr>\n",
              "      <th></th>\n",
              "      <td>5</td>\n",
              "      <td>David</td>\n",
              "      <td>27</td>\n",
              "      <td>Texas</td>\n",
              "      <td>85000.0</td>\n",
              "    </tr>\n",
              "  </tbody>\n",
              "</table>\n",
              "</div>"
            ],
            "text/plain": [
              "  ID   NAME  AGE     ADDRESS   SALARY\n",
              "   4   Mark   25  Rich-Mond   65000.0\n",
              "   5  David   27       Texas  85000.0"
            ]
          },
          "metadata": {
            "tags": []
          },
          "execution_count": 14
        }
      ]
    },
    {
      "cell_type": "markdown",
      "metadata": {
        "id": "F92RIvIbVrtv",
        "colab_type": "text"
      },
      "source": [
        "## ตัวอย่างใช้ operator เป็น OR\n",
        "\n",
        "\n"
      ]
    },
    {
      "cell_type": "code",
      "metadata": {
        "id": "-52ZMmqrUlZf",
        "colab_type": "code",
        "outputId": "4130faf8-6534-4bf2-e17a-9e5c3c79bb2d",
        "colab": {
          "base_uri": "https://localhost:8080/",
          "height": 221
        }
      },
      "source": [
        "conn = sqlite3.connect('test.db')\n",
        "\n",
        "cursor = conn.execute(\"SELECT * FROM COMPANY WHERE AGE >= 25 OR SALARY >= 65000\")\n",
        "df = get_data(cursor)\n",
        "\n",
        "conn.close() \n",
        "print(\"Operation done successfully\")\n",
        "df"
      ],
      "execution_count": 0,
      "outputs": [
        {
          "output_type": "stream",
          "text": [
            "Operation done successfully\n"
          ],
          "name": "stdout"
        },
        {
          "output_type": "execute_result",
          "data": {
            "text/html": [
              "<div>\n",
              "<style scoped>\n",
              "    .dataframe tbody tr th:only-of-type {\n",
              "        vertical-align: middle;\n",
              "    }\n",
              "\n",
              "    .dataframe tbody tr th {\n",
              "        vertical-align: top;\n",
              "    }\n",
              "\n",
              "    .dataframe thead th {\n",
              "        text-align: right;\n",
              "    }\n",
              "</style>\n",
              "<table border=\"1\" class=\"dataframe\">\n",
              "  <thead>\n",
              "    <tr style=\"text-align: right;\">\n",
              "      <th></th>\n",
              "      <th>ID</th>\n",
              "      <th>NAME</th>\n",
              "      <th>AGE</th>\n",
              "      <th>ADDRESS</th>\n",
              "      <th>SALARY</th>\n",
              "    </tr>\n",
              "  </thead>\n",
              "  <tbody>\n",
              "    <tr>\n",
              "      <th></th>\n",
              "      <td>1</td>\n",
              "      <td>Paul</td>\n",
              "      <td>32</td>\n",
              "      <td>California</td>\n",
              "      <td>20000.0</td>\n",
              "    </tr>\n",
              "    <tr>\n",
              "      <th></th>\n",
              "      <td>2</td>\n",
              "      <td>Allen</td>\n",
              "      <td>25</td>\n",
              "      <td>Texas</td>\n",
              "      <td>15000.0</td>\n",
              "    </tr>\n",
              "    <tr>\n",
              "      <th></th>\n",
              "      <td>4</td>\n",
              "      <td>Mark</td>\n",
              "      <td>25</td>\n",
              "      <td>Rich-Mond</td>\n",
              "      <td>65000.0</td>\n",
              "    </tr>\n",
              "    <tr>\n",
              "      <th></th>\n",
              "      <td>5</td>\n",
              "      <td>David</td>\n",
              "      <td>27</td>\n",
              "      <td>Texas</td>\n",
              "      <td>85000.0</td>\n",
              "    </tr>\n",
              "    <tr>\n",
              "      <th></th>\n",
              "      <td>9</td>\n",
              "      <td>James</td>\n",
              "      <td>44</td>\n",
              "      <td>Norway</td>\n",
              "      <td>5000.0</td>\n",
              "    </tr>\n",
              "  </tbody>\n",
              "</table>\n",
              "</div>"
            ],
            "text/plain": [
              "  ID   NAME  AGE     ADDRESS   SALARY\n",
              "   1   Paul   32  California  20000.0\n",
              "   2  Allen   25       Texas  15000.0\n",
              "   4   Mark   25  Rich-Mond   65000.0\n",
              "   5  David   27       Texas  85000.0\n",
              "   9  James   44      Norway   5000.0"
            ]
          },
          "metadata": {
            "tags": []
          },
          "execution_count": 15
        }
      ]
    },
    {
      "cell_type": "markdown",
      "metadata": {
        "id": "hZgAQdvUwGUa",
        "colab_type": "text"
      },
      "source": [
        "## ตัวอย่างใช้ประโยค IS NULL"
      ]
    },
    {
      "cell_type": "code",
      "metadata": {
        "id": "UCpEwjniwR8C",
        "colab_type": "code",
        "outputId": "0db912ab-d688-453e-d8f7-23b849de35e6",
        "colab": {
          "base_uri": "https://localhost:8080/",
          "height": 66
        }
      },
      "source": [
        "conn = sqlite3.connect('test.db')\n",
        "\n",
        "cursor = conn.execute(\"SELECT * FROM COMPANY WHERE SALARY IS NULL\")\n",
        "df = get_data(cursor)\n",
        "\n",
        "conn.close() \n",
        "print(\"Operation done successfully\")\n",
        "df"
      ],
      "execution_count": 0,
      "outputs": [
        {
          "output_type": "stream",
          "text": [
            "Operation done successfully\n"
          ],
          "name": "stdout"
        },
        {
          "output_type": "execute_result",
          "data": {
            "text/html": [
              "<div>\n",
              "<style scoped>\n",
              "    .dataframe tbody tr th:only-of-type {\n",
              "        vertical-align: middle;\n",
              "    }\n",
              "\n",
              "    .dataframe tbody tr th {\n",
              "        vertical-align: top;\n",
              "    }\n",
              "\n",
              "    .dataframe thead th {\n",
              "        text-align: right;\n",
              "    }\n",
              "</style>\n",
              "<table border=\"1\" class=\"dataframe\">\n",
              "  <thead>\n",
              "    <tr style=\"text-align: right;\">\n",
              "      <th></th>\n",
              "      <th>ID</th>\n",
              "      <th>NAME</th>\n",
              "      <th>AGE</th>\n",
              "      <th>ADDRESS</th>\n",
              "      <th>SALARY</th>\n",
              "    </tr>\n",
              "  </thead>\n",
              "  <tbody>\n",
              "  </tbody>\n",
              "</table>\n",
              "</div>"
            ],
            "text/plain": [
              "Empty DataFrame\n",
              "Columns: [ID, NAME, AGE, ADDRESS, SALARY]\n",
              "Index: []"
            ]
          },
          "metadata": {
            "tags": []
          },
          "execution_count": 16
        }
      ]
    },
    {
      "cell_type": "markdown",
      "metadata": {
        "id": "pXII6DAKVyUc",
        "colab_type": "text"
      },
      "source": [
        "## ตัวอย่างใช้ประโยค IS NOT NULL"
      ]
    },
    {
      "cell_type": "code",
      "metadata": {
        "id": "VvVwSZyfUp4l",
        "colab_type": "code",
        "outputId": "0b42797c-35e3-4a1d-ed44-759837503a1b",
        "colab": {
          "base_uri": "https://localhost:8080/",
          "height": 345
        }
      },
      "source": [
        "conn = sqlite3.connect('test.db')\n",
        "\n",
        "cursor = conn.execute(\"SELECT * FROM COMPANY WHERE AGE IS NOT NULL\")\n",
        "df = get_data(cursor)\n",
        "\n",
        "conn.close() \n",
        "print(\"Operation done successfully\")\n",
        "df "
      ],
      "execution_count": 0,
      "outputs": [
        {
          "output_type": "stream",
          "text": [
            "Operation done successfully\n"
          ],
          "name": "stdout"
        },
        {
          "output_type": "execute_result",
          "data": {
            "text/html": [
              "<div>\n",
              "<style scoped>\n",
              "    .dataframe tbody tr th:only-of-type {\n",
              "        vertical-align: middle;\n",
              "    }\n",
              "\n",
              "    .dataframe tbody tr th {\n",
              "        vertical-align: top;\n",
              "    }\n",
              "\n",
              "    .dataframe thead th {\n",
              "        text-align: right;\n",
              "    }\n",
              "</style>\n",
              "<table border=\"1\" class=\"dataframe\">\n",
              "  <thead>\n",
              "    <tr style=\"text-align: right;\">\n",
              "      <th></th>\n",
              "      <th>ID</th>\n",
              "      <th>NAME</th>\n",
              "      <th>AGE</th>\n",
              "      <th>ADDRESS</th>\n",
              "      <th>SALARY</th>\n",
              "    </tr>\n",
              "  </thead>\n",
              "  <tbody>\n",
              "    <tr>\n",
              "      <th></th>\n",
              "      <td>1</td>\n",
              "      <td>Paul</td>\n",
              "      <td>32</td>\n",
              "      <td>California</td>\n",
              "      <td>20000.0</td>\n",
              "    </tr>\n",
              "    <tr>\n",
              "      <th></th>\n",
              "      <td>2</td>\n",
              "      <td>Allen</td>\n",
              "      <td>25</td>\n",
              "      <td>Texas</td>\n",
              "      <td>15000.0</td>\n",
              "    </tr>\n",
              "    <tr>\n",
              "      <th></th>\n",
              "      <td>3</td>\n",
              "      <td>Teddy</td>\n",
              "      <td>23</td>\n",
              "      <td>Norway</td>\n",
              "      <td>20000.0</td>\n",
              "    </tr>\n",
              "    <tr>\n",
              "      <th></th>\n",
              "      <td>4</td>\n",
              "      <td>Mark</td>\n",
              "      <td>25</td>\n",
              "      <td>Rich-Mond</td>\n",
              "      <td>65000.0</td>\n",
              "    </tr>\n",
              "    <tr>\n",
              "      <th></th>\n",
              "      <td>5</td>\n",
              "      <td>David</td>\n",
              "      <td>27</td>\n",
              "      <td>Texas</td>\n",
              "      <td>85000.0</td>\n",
              "    </tr>\n",
              "    <tr>\n",
              "      <th></th>\n",
              "      <td>6</td>\n",
              "      <td>Kim</td>\n",
              "      <td>22</td>\n",
              "      <td>South-Hall</td>\n",
              "      <td>45000.0</td>\n",
              "    </tr>\n",
              "    <tr>\n",
              "      <th></th>\n",
              "      <td>7</td>\n",
              "      <td>James</td>\n",
              "      <td>24</td>\n",
              "      <td>Houston</td>\n",
              "      <td>10000.0</td>\n",
              "    </tr>\n",
              "    <tr>\n",
              "      <th></th>\n",
              "      <td>8</td>\n",
              "      <td>Paul</td>\n",
              "      <td>24</td>\n",
              "      <td>Houston</td>\n",
              "      <td>20000.0</td>\n",
              "    </tr>\n",
              "    <tr>\n",
              "      <th></th>\n",
              "      <td>9</td>\n",
              "      <td>James</td>\n",
              "      <td>44</td>\n",
              "      <td>Norway</td>\n",
              "      <td>5000.0</td>\n",
              "    </tr>\n",
              "  </tbody>\n",
              "</table>\n",
              "</div>"
            ],
            "text/plain": [
              "  ID   NAME  AGE     ADDRESS   SALARY\n",
              "   1   Paul   32  California  20000.0\n",
              "   2  Allen   25       Texas  15000.0\n",
              "   3  Teddy   23      Norway  20000.0\n",
              "   4   Mark   25  Rich-Mond   65000.0\n",
              "   5  David   27       Texas  85000.0\n",
              "   6    Kim   22  South-Hall  45000.0\n",
              "   7  James   24     Houston  10000.0\n",
              "   8   Paul   24     Houston  20000.0\n",
              "   9  James   44      Norway   5000.0"
            ]
          },
          "metadata": {
            "tags": []
          },
          "execution_count": 17
        }
      ]
    },
    {
      "cell_type": "markdown",
      "metadata": {
        "id": "NA065cJtpg3G",
        "colab_type": "text"
      },
      "source": [
        "## ตัวอย่างใช้ประโยค LIKE "
      ]
    },
    {
      "cell_type": "code",
      "metadata": {
        "id": "WfBt42qkpe4N",
        "colab_type": "code",
        "outputId": "2a832c45-f5a4-4dd1-9c27-9926994db4bb",
        "colab": {
          "base_uri": "https://localhost:8080/",
          "height": 283
        }
      },
      "source": [
        "conn = sqlite3.connect('test.db')\n",
        "\n",
        "cursor = conn.execute(\"SELECT * FROM COMPANY WHERE age LIKE '2%'\")\n",
        "df = get_data(cursor)\n",
        "\n",
        "conn.close() \n",
        "print(\"Operation done successfully\")\n",
        "df"
      ],
      "execution_count": 0,
      "outputs": [
        {
          "output_type": "stream",
          "text": [
            "Operation done successfully\n"
          ],
          "name": "stdout"
        },
        {
          "output_type": "execute_result",
          "data": {
            "text/html": [
              "<div>\n",
              "<style scoped>\n",
              "    .dataframe tbody tr th:only-of-type {\n",
              "        vertical-align: middle;\n",
              "    }\n",
              "\n",
              "    .dataframe tbody tr th {\n",
              "        vertical-align: top;\n",
              "    }\n",
              "\n",
              "    .dataframe thead th {\n",
              "        text-align: right;\n",
              "    }\n",
              "</style>\n",
              "<table border=\"1\" class=\"dataframe\">\n",
              "  <thead>\n",
              "    <tr style=\"text-align: right;\">\n",
              "      <th></th>\n",
              "      <th>ID</th>\n",
              "      <th>NAME</th>\n",
              "      <th>AGE</th>\n",
              "      <th>ADDRESS</th>\n",
              "      <th>SALARY</th>\n",
              "    </tr>\n",
              "  </thead>\n",
              "  <tbody>\n",
              "    <tr>\n",
              "      <th></th>\n",
              "      <td>2</td>\n",
              "      <td>Allen</td>\n",
              "      <td>25</td>\n",
              "      <td>Texas</td>\n",
              "      <td>15000.0</td>\n",
              "    </tr>\n",
              "    <tr>\n",
              "      <th></th>\n",
              "      <td>3</td>\n",
              "      <td>Teddy</td>\n",
              "      <td>23</td>\n",
              "      <td>Norway</td>\n",
              "      <td>20000.0</td>\n",
              "    </tr>\n",
              "    <tr>\n",
              "      <th></th>\n",
              "      <td>4</td>\n",
              "      <td>Mark</td>\n",
              "      <td>25</td>\n",
              "      <td>Rich-Mond</td>\n",
              "      <td>65000.0</td>\n",
              "    </tr>\n",
              "    <tr>\n",
              "      <th></th>\n",
              "      <td>5</td>\n",
              "      <td>David</td>\n",
              "      <td>27</td>\n",
              "      <td>Texas</td>\n",
              "      <td>85000.0</td>\n",
              "    </tr>\n",
              "    <tr>\n",
              "      <th></th>\n",
              "      <td>6</td>\n",
              "      <td>Kim</td>\n",
              "      <td>22</td>\n",
              "      <td>South-Hall</td>\n",
              "      <td>45000.0</td>\n",
              "    </tr>\n",
              "    <tr>\n",
              "      <th></th>\n",
              "      <td>7</td>\n",
              "      <td>James</td>\n",
              "      <td>24</td>\n",
              "      <td>Houston</td>\n",
              "      <td>10000.0</td>\n",
              "    </tr>\n",
              "    <tr>\n",
              "      <th></th>\n",
              "      <td>8</td>\n",
              "      <td>Paul</td>\n",
              "      <td>24</td>\n",
              "      <td>Houston</td>\n",
              "      <td>20000.0</td>\n",
              "    </tr>\n",
              "  </tbody>\n",
              "</table>\n",
              "</div>"
            ],
            "text/plain": [
              "  ID   NAME  AGE     ADDRESS   SALARY\n",
              "   2  Allen   25       Texas  15000.0\n",
              "   3  Teddy   23      Norway  20000.0\n",
              "   4   Mark   25  Rich-Mond   65000.0\n",
              "   5  David   27       Texas  85000.0\n",
              "   6    Kim   22  South-Hall  45000.0\n",
              "   7  James   24     Houston  10000.0\n",
              "   8   Paul   24     Houston  20000.0"
            ]
          },
          "metadata": {
            "tags": []
          },
          "execution_count": 18
        }
      ]
    },
    {
      "cell_type": "code",
      "metadata": {
        "id": "DdRjiumppqoY",
        "colab_type": "code",
        "outputId": "8490330f-561c-412d-a957-31e84cecd1c5",
        "colab": {
          "base_uri": "https://localhost:8080/",
          "height": 128
        }
      },
      "source": [
        "conn = sqlite3.connect('test.db')\n",
        "\n",
        "cursor = conn.execute(\"SELECT * FROM COMPANY WHERE ADDRESS  LIKE '%-%'\")\n",
        "df = get_data(cursor)\n",
        "\n",
        "conn.close() \n",
        "print(\"Operation done successfully\")\n",
        "df "
      ],
      "execution_count": 0,
      "outputs": [
        {
          "output_type": "stream",
          "text": [
            "Operation done successfully\n"
          ],
          "name": "stdout"
        },
        {
          "output_type": "execute_result",
          "data": {
            "text/html": [
              "<div>\n",
              "<style scoped>\n",
              "    .dataframe tbody tr th:only-of-type {\n",
              "        vertical-align: middle;\n",
              "    }\n",
              "\n",
              "    .dataframe tbody tr th {\n",
              "        vertical-align: top;\n",
              "    }\n",
              "\n",
              "    .dataframe thead th {\n",
              "        text-align: right;\n",
              "    }\n",
              "</style>\n",
              "<table border=\"1\" class=\"dataframe\">\n",
              "  <thead>\n",
              "    <tr style=\"text-align: right;\">\n",
              "      <th></th>\n",
              "      <th>ID</th>\n",
              "      <th>NAME</th>\n",
              "      <th>AGE</th>\n",
              "      <th>ADDRESS</th>\n",
              "      <th>SALARY</th>\n",
              "    </tr>\n",
              "  </thead>\n",
              "  <tbody>\n",
              "    <tr>\n",
              "      <th></th>\n",
              "      <td>4</td>\n",
              "      <td>Mark</td>\n",
              "      <td>25</td>\n",
              "      <td>Rich-Mond</td>\n",
              "      <td>65000.0</td>\n",
              "    </tr>\n",
              "    <tr>\n",
              "      <th></th>\n",
              "      <td>6</td>\n",
              "      <td>Kim</td>\n",
              "      <td>22</td>\n",
              "      <td>South-Hall</td>\n",
              "      <td>45000.0</td>\n",
              "    </tr>\n",
              "  </tbody>\n",
              "</table>\n",
              "</div>"
            ],
            "text/plain": [
              "  ID  NAME  AGE     ADDRESS   SALARY\n",
              "   4  Mark   25  Rich-Mond   65000.0\n",
              "   6   Kim   22  South-Hall  45000.0"
            ]
          },
          "metadata": {
            "tags": []
          },
          "execution_count": 19
        }
      ]
    },
    {
      "cell_type": "markdown",
      "metadata": {
        "id": "GtW_RyOjWP9A",
        "colab_type": "text"
      },
      "source": [
        "## ตัวอย่างใช้ประโยค GLOB"
      ]
    },
    {
      "cell_type": "code",
      "metadata": {
        "id": "vaXZ5-9FTzOk",
        "colab_type": "code",
        "outputId": "0665de79-e31d-4bd5-f1ab-db68ed2ea708",
        "colab": {
          "base_uri": "https://localhost:8080/",
          "height": 97
        }
      },
      "source": [
        "conn = sqlite3.connect('test.db')\n",
        "\n",
        "cursor = conn.execute(\"SELECT * FROM COMPANY WHERE NAME GLOB 'Ki*'\")\n",
        "df = get_data(cursor)\n",
        "\n",
        "conn.close() \n",
        "print(\"Operation done successfully\")\n",
        "df "
      ],
      "execution_count": 0,
      "outputs": [
        {
          "output_type": "stream",
          "text": [
            "Operation done successfully\n"
          ],
          "name": "stdout"
        },
        {
          "output_type": "execute_result",
          "data": {
            "text/html": [
              "<div>\n",
              "<style scoped>\n",
              "    .dataframe tbody tr th:only-of-type {\n",
              "        vertical-align: middle;\n",
              "    }\n",
              "\n",
              "    .dataframe tbody tr th {\n",
              "        vertical-align: top;\n",
              "    }\n",
              "\n",
              "    .dataframe thead th {\n",
              "        text-align: right;\n",
              "    }\n",
              "</style>\n",
              "<table border=\"1\" class=\"dataframe\">\n",
              "  <thead>\n",
              "    <tr style=\"text-align: right;\">\n",
              "      <th></th>\n",
              "      <th>ID</th>\n",
              "      <th>NAME</th>\n",
              "      <th>AGE</th>\n",
              "      <th>ADDRESS</th>\n",
              "      <th>SALARY</th>\n",
              "    </tr>\n",
              "  </thead>\n",
              "  <tbody>\n",
              "    <tr>\n",
              "      <th></th>\n",
              "      <td>6</td>\n",
              "      <td>Kim</td>\n",
              "      <td>22</td>\n",
              "      <td>South-Hall</td>\n",
              "      <td>45000.0</td>\n",
              "    </tr>\n",
              "  </tbody>\n",
              "</table>\n",
              "</div>"
            ],
            "text/plain": [
              "  ID NAME  AGE     ADDRESS   SALARY\n",
              "   6  Kim   22  South-Hall  45000.0"
            ]
          },
          "metadata": {
            "tags": []
          },
          "execution_count": 20
        }
      ]
    },
    {
      "cell_type": "markdown",
      "metadata": {
        "id": "5DrZTtF_XXxD",
        "colab_type": "text"
      },
      "source": [
        "## ตัวอย่างใช้ operator เป็น  IN"
      ]
    },
    {
      "cell_type": "code",
      "metadata": {
        "id": "WkhKPWrJU9Az",
        "colab_type": "code",
        "outputId": "a967fa5f-48b2-4750-fe2c-8f227ebc6e18",
        "colab": {
          "base_uri": "https://localhost:8080/",
          "height": 159
        }
      },
      "source": [
        "conn = sqlite3.connect('test.db')\n",
        "\n",
        "cursor = conn.execute(\"SELECT * FROM COMPANY WHERE AGE IN ( 25, 27 )\")\n",
        "df = get_data(cursor)\n",
        "\n",
        "conn.close() \n",
        "print(\"Operation done successfully\")\n",
        "df "
      ],
      "execution_count": 0,
      "outputs": [
        {
          "output_type": "stream",
          "text": [
            "Operation done successfully\n"
          ],
          "name": "stdout"
        },
        {
          "output_type": "execute_result",
          "data": {
            "text/html": [
              "<div>\n",
              "<style scoped>\n",
              "    .dataframe tbody tr th:only-of-type {\n",
              "        vertical-align: middle;\n",
              "    }\n",
              "\n",
              "    .dataframe tbody tr th {\n",
              "        vertical-align: top;\n",
              "    }\n",
              "\n",
              "    .dataframe thead th {\n",
              "        text-align: right;\n",
              "    }\n",
              "</style>\n",
              "<table border=\"1\" class=\"dataframe\">\n",
              "  <thead>\n",
              "    <tr style=\"text-align: right;\">\n",
              "      <th></th>\n",
              "      <th>ID</th>\n",
              "      <th>NAME</th>\n",
              "      <th>AGE</th>\n",
              "      <th>ADDRESS</th>\n",
              "      <th>SALARY</th>\n",
              "    </tr>\n",
              "  </thead>\n",
              "  <tbody>\n",
              "    <tr>\n",
              "      <th></th>\n",
              "      <td>2</td>\n",
              "      <td>Allen</td>\n",
              "      <td>25</td>\n",
              "      <td>Texas</td>\n",
              "      <td>15000.0</td>\n",
              "    </tr>\n",
              "    <tr>\n",
              "      <th></th>\n",
              "      <td>4</td>\n",
              "      <td>Mark</td>\n",
              "      <td>25</td>\n",
              "      <td>Rich-Mond</td>\n",
              "      <td>65000.0</td>\n",
              "    </tr>\n",
              "    <tr>\n",
              "      <th></th>\n",
              "      <td>5</td>\n",
              "      <td>David</td>\n",
              "      <td>27</td>\n",
              "      <td>Texas</td>\n",
              "      <td>85000.0</td>\n",
              "    </tr>\n",
              "  </tbody>\n",
              "</table>\n",
              "</div>"
            ],
            "text/plain": [
              "  ID   NAME  AGE     ADDRESS   SALARY\n",
              "   2  Allen   25       Texas  15000.0\n",
              "   4   Mark   25  Rich-Mond   65000.0\n",
              "   5  David   27       Texas  85000.0"
            ]
          },
          "metadata": {
            "tags": []
          },
          "execution_count": 21
        }
      ]
    },
    {
      "cell_type": "markdown",
      "metadata": {
        "id": "QoV84m_AXkcs",
        "colab_type": "text"
      },
      "source": [
        "## ตัวอย่างใช้ operator เป็น NOT IN"
      ]
    },
    {
      "cell_type": "code",
      "metadata": {
        "id": "SDiZPWnEU_ed",
        "colab_type": "code",
        "outputId": "a9f2c7c7-4bfa-4684-deda-c480d5dda53e",
        "colab": {
          "base_uri": "https://localhost:8080/",
          "height": 252
        }
      },
      "source": [
        "conn = sqlite3.connect('test.db')\n",
        "\n",
        "cursor = conn.execute(\"SELECT * FROM COMPANY WHERE AGE NOT IN ( 25, 27 )\")\n",
        "df = get_data(cursor)\n",
        "\n",
        "conn.close() \n",
        "print(\"Operation done successfully\")\n",
        "df "
      ],
      "execution_count": 0,
      "outputs": [
        {
          "output_type": "stream",
          "text": [
            "Operation done successfully\n"
          ],
          "name": "stdout"
        },
        {
          "output_type": "execute_result",
          "data": {
            "text/html": [
              "<div>\n",
              "<style scoped>\n",
              "    .dataframe tbody tr th:only-of-type {\n",
              "        vertical-align: middle;\n",
              "    }\n",
              "\n",
              "    .dataframe tbody tr th {\n",
              "        vertical-align: top;\n",
              "    }\n",
              "\n",
              "    .dataframe thead th {\n",
              "        text-align: right;\n",
              "    }\n",
              "</style>\n",
              "<table border=\"1\" class=\"dataframe\">\n",
              "  <thead>\n",
              "    <tr style=\"text-align: right;\">\n",
              "      <th></th>\n",
              "      <th>ID</th>\n",
              "      <th>NAME</th>\n",
              "      <th>AGE</th>\n",
              "      <th>ADDRESS</th>\n",
              "      <th>SALARY</th>\n",
              "    </tr>\n",
              "  </thead>\n",
              "  <tbody>\n",
              "    <tr>\n",
              "      <th></th>\n",
              "      <td>1</td>\n",
              "      <td>Paul</td>\n",
              "      <td>32</td>\n",
              "      <td>California</td>\n",
              "      <td>20000.0</td>\n",
              "    </tr>\n",
              "    <tr>\n",
              "      <th></th>\n",
              "      <td>3</td>\n",
              "      <td>Teddy</td>\n",
              "      <td>23</td>\n",
              "      <td>Norway</td>\n",
              "      <td>20000.0</td>\n",
              "    </tr>\n",
              "    <tr>\n",
              "      <th></th>\n",
              "      <td>6</td>\n",
              "      <td>Kim</td>\n",
              "      <td>22</td>\n",
              "      <td>South-Hall</td>\n",
              "      <td>45000.0</td>\n",
              "    </tr>\n",
              "    <tr>\n",
              "      <th></th>\n",
              "      <td>7</td>\n",
              "      <td>James</td>\n",
              "      <td>24</td>\n",
              "      <td>Houston</td>\n",
              "      <td>10000.0</td>\n",
              "    </tr>\n",
              "    <tr>\n",
              "      <th></th>\n",
              "      <td>8</td>\n",
              "      <td>Paul</td>\n",
              "      <td>24</td>\n",
              "      <td>Houston</td>\n",
              "      <td>20000.0</td>\n",
              "    </tr>\n",
              "    <tr>\n",
              "      <th></th>\n",
              "      <td>9</td>\n",
              "      <td>James</td>\n",
              "      <td>44</td>\n",
              "      <td>Norway</td>\n",
              "      <td>5000.0</td>\n",
              "    </tr>\n",
              "  </tbody>\n",
              "</table>\n",
              "</div>"
            ],
            "text/plain": [
              "  ID   NAME  AGE     ADDRESS   SALARY\n",
              "   1   Paul   32  California  20000.0\n",
              "   3  Teddy   23      Norway  20000.0\n",
              "   6    Kim   22  South-Hall  45000.0\n",
              "   7  James   24     Houston  10000.0\n",
              "   8   Paul   24     Houston  20000.0\n",
              "   9  James   44      Norway   5000.0"
            ]
          },
          "metadata": {
            "tags": []
          },
          "execution_count": 22
        }
      ]
    },
    {
      "cell_type": "markdown",
      "metadata": {
        "id": "4cNaEmOXXtod",
        "colab_type": "text"
      },
      "source": [
        "## ตัวอย่างใช้ operator เป็น BETWEEN"
      ]
    },
    {
      "cell_type": "code",
      "metadata": {
        "id": "UdH0qa5MU8-v",
        "colab_type": "code",
        "outputId": "380b0c35-7325-4183-b3ac-8b60799e0d99",
        "colab": {
          "base_uri": "https://localhost:8080/",
          "height": 159
        }
      },
      "source": [
        "conn = sqlite3.connect('test.db')\n",
        "\n",
        "cursor = conn.execute(\"SELECT * FROM COMPANY WHERE AGE BETWEEN 25 AND 27\")\n",
        "df = get_data(cursor)\n",
        "\n",
        "conn.close() \n",
        "print(\"Operation done successfully\")\n",
        "df "
      ],
      "execution_count": 0,
      "outputs": [
        {
          "output_type": "stream",
          "text": [
            "Operation done successfully\n"
          ],
          "name": "stdout"
        },
        {
          "output_type": "execute_result",
          "data": {
            "text/html": [
              "<div>\n",
              "<style scoped>\n",
              "    .dataframe tbody tr th:only-of-type {\n",
              "        vertical-align: middle;\n",
              "    }\n",
              "\n",
              "    .dataframe tbody tr th {\n",
              "        vertical-align: top;\n",
              "    }\n",
              "\n",
              "    .dataframe thead th {\n",
              "        text-align: right;\n",
              "    }\n",
              "</style>\n",
              "<table border=\"1\" class=\"dataframe\">\n",
              "  <thead>\n",
              "    <tr style=\"text-align: right;\">\n",
              "      <th></th>\n",
              "      <th>ID</th>\n",
              "      <th>NAME</th>\n",
              "      <th>AGE</th>\n",
              "      <th>ADDRESS</th>\n",
              "      <th>SALARY</th>\n",
              "    </tr>\n",
              "  </thead>\n",
              "  <tbody>\n",
              "    <tr>\n",
              "      <th></th>\n",
              "      <td>2</td>\n",
              "      <td>Allen</td>\n",
              "      <td>25</td>\n",
              "      <td>Texas</td>\n",
              "      <td>15000.0</td>\n",
              "    </tr>\n",
              "    <tr>\n",
              "      <th></th>\n",
              "      <td>4</td>\n",
              "      <td>Mark</td>\n",
              "      <td>25</td>\n",
              "      <td>Rich-Mond</td>\n",
              "      <td>65000.0</td>\n",
              "    </tr>\n",
              "    <tr>\n",
              "      <th></th>\n",
              "      <td>5</td>\n",
              "      <td>David</td>\n",
              "      <td>27</td>\n",
              "      <td>Texas</td>\n",
              "      <td>85000.0</td>\n",
              "    </tr>\n",
              "  </tbody>\n",
              "</table>\n",
              "</div>"
            ],
            "text/plain": [
              "  ID   NAME  AGE     ADDRESS   SALARY\n",
              "   2  Allen   25       Texas  15000.0\n",
              "   4   Mark   25  Rich-Mond   65000.0\n",
              "   5  David   27       Texas  85000.0"
            ]
          },
          "metadata": {
            "tags": []
          },
          "execution_count": 23
        }
      ]
    },
    {
      "cell_type": "markdown",
      "metadata": {
        "id": "SbmzAme_YzPN",
        "colab_type": "text"
      },
      "source": [
        "## ตัวอย่างใช้ประโยค EXISTS"
      ]
    },
    {
      "cell_type": "code",
      "metadata": {
        "id": "a3h5EtRSYz47",
        "colab_type": "code",
        "outputId": "ba64f108-340a-4345-edcf-d612c3cc3ad6",
        "colab": {
          "base_uri": "https://localhost:8080/",
          "height": 345
        }
      },
      "source": [
        "conn = sqlite3.connect('test.db')\n",
        "\n",
        "cursor = conn.execute(\"SELECT AGE FROM COMPANY\\\n",
        "   WHERE EXISTS (SELECT AGE FROM COMPANY WHERE SALARY > 65000);\")\n",
        "df = get_data(cursor)\n",
        "\n",
        "conn.close() \n",
        "print(\"Operation done successfully\")\n",
        "df\n"
      ],
      "execution_count": 0,
      "outputs": [
        {
          "output_type": "stream",
          "text": [
            "Operation done successfully\n"
          ],
          "name": "stdout"
        },
        {
          "output_type": "execute_result",
          "data": {
            "text/html": [
              "<div>\n",
              "<style scoped>\n",
              "    .dataframe tbody tr th:only-of-type {\n",
              "        vertical-align: middle;\n",
              "    }\n",
              "\n",
              "    .dataframe tbody tr th {\n",
              "        vertical-align: top;\n",
              "    }\n",
              "\n",
              "    .dataframe thead th {\n",
              "        text-align: right;\n",
              "    }\n",
              "</style>\n",
              "<table border=\"1\" class=\"dataframe\">\n",
              "  <thead>\n",
              "    <tr style=\"text-align: right;\">\n",
              "      <th></th>\n",
              "      <th>AGE</th>\n",
              "    </tr>\n",
              "  </thead>\n",
              "  <tbody>\n",
              "    <tr>\n",
              "      <th></th>\n",
              "      <td>32</td>\n",
              "    </tr>\n",
              "    <tr>\n",
              "      <th></th>\n",
              "      <td>25</td>\n",
              "    </tr>\n",
              "    <tr>\n",
              "      <th></th>\n",
              "      <td>23</td>\n",
              "    </tr>\n",
              "    <tr>\n",
              "      <th></th>\n",
              "      <td>25</td>\n",
              "    </tr>\n",
              "    <tr>\n",
              "      <th></th>\n",
              "      <td>27</td>\n",
              "    </tr>\n",
              "    <tr>\n",
              "      <th></th>\n",
              "      <td>22</td>\n",
              "    </tr>\n",
              "    <tr>\n",
              "      <th></th>\n",
              "      <td>24</td>\n",
              "    </tr>\n",
              "    <tr>\n",
              "      <th></th>\n",
              "      <td>24</td>\n",
              "    </tr>\n",
              "    <tr>\n",
              "      <th></th>\n",
              "      <td>44</td>\n",
              "    </tr>\n",
              "  </tbody>\n",
              "</table>\n",
              "</div>"
            ],
            "text/plain": [
              "  AGE\n",
              "   32\n",
              "   25\n",
              "   23\n",
              "   25\n",
              "   27\n",
              "   22\n",
              "   24\n",
              "   24\n",
              "   44"
            ]
          },
          "metadata": {
            "tags": []
          },
          "execution_count": 24
        }
      ]
    },
    {
      "cell_type": "markdown",
      "metadata": {
        "id": "3iSbNkiKZXvg",
        "colab_type": "text"
      },
      "source": [
        "## ตัวอย่างใช้ sub-query"
      ]
    },
    {
      "cell_type": "code",
      "metadata": {
        "id": "AY1FbUwWZbGH",
        "colab_type": "code",
        "outputId": "78e6b882-9b6b-4708-f1fc-10f7991f732b",
        "colab": {
          "base_uri": "https://localhost:8080/",
          "height": 128
        }
      },
      "source": [
        "conn = sqlite3.connect('test.db')\n",
        "\n",
        "cursor = conn.execute(\"SELECT * FROM COMPANY \\\n",
        "   WHERE AGE > (SELECT AGE FROM COMPANY WHERE SALARY > 65000)\")\n",
        "df = get_data(cursor)\n",
        "\n",
        "conn.close() \n",
        "print(\"Operation done successfully\")\n",
        "df\n"
      ],
      "execution_count": 0,
      "outputs": [
        {
          "output_type": "stream",
          "text": [
            "Operation done successfully\n"
          ],
          "name": "stdout"
        },
        {
          "output_type": "execute_result",
          "data": {
            "text/html": [
              "<div>\n",
              "<style scoped>\n",
              "    .dataframe tbody tr th:only-of-type {\n",
              "        vertical-align: middle;\n",
              "    }\n",
              "\n",
              "    .dataframe tbody tr th {\n",
              "        vertical-align: top;\n",
              "    }\n",
              "\n",
              "    .dataframe thead th {\n",
              "        text-align: right;\n",
              "    }\n",
              "</style>\n",
              "<table border=\"1\" class=\"dataframe\">\n",
              "  <thead>\n",
              "    <tr style=\"text-align: right;\">\n",
              "      <th></th>\n",
              "      <th>ID</th>\n",
              "      <th>NAME</th>\n",
              "      <th>AGE</th>\n",
              "      <th>ADDRESS</th>\n",
              "      <th>SALARY</th>\n",
              "    </tr>\n",
              "  </thead>\n",
              "  <tbody>\n",
              "    <tr>\n",
              "      <th></th>\n",
              "      <td>1</td>\n",
              "      <td>Paul</td>\n",
              "      <td>32</td>\n",
              "      <td>California</td>\n",
              "      <td>20000.0</td>\n",
              "    </tr>\n",
              "    <tr>\n",
              "      <th></th>\n",
              "      <td>9</td>\n",
              "      <td>James</td>\n",
              "      <td>44</td>\n",
              "      <td>Norway</td>\n",
              "      <td>5000.0</td>\n",
              "    </tr>\n",
              "  </tbody>\n",
              "</table>\n",
              "</div>"
            ],
            "text/plain": [
              "  ID   NAME  AGE     ADDRESS   SALARY\n",
              "   1   Paul   32  California  20000.0\n",
              "   9  James   44      Norway   5000.0"
            ]
          },
          "metadata": {
            "tags": []
          },
          "execution_count": 25
        }
      ]
    },
    {
      "cell_type": "markdown",
      "metadata": {
        "id": "FqxFvw_xezLG",
        "colab_type": "text"
      },
      "source": [
        "# คำสั่ง DISTINCT "
      ]
    },
    {
      "cell_type": "markdown",
      "metadata": {
        "id": "taTvNsO9fh20",
        "colab_type": "text"
      },
      "source": [
        "**ก่อนใช้ DISTINCT**"
      ]
    },
    {
      "cell_type": "code",
      "metadata": {
        "id": "y-ZugsEdfeqO",
        "colab_type": "code",
        "outputId": "652d8e9c-c021-4c38-b621-b1c5b356cf19",
        "colab": {
          "base_uri": "https://localhost:8080/",
          "height": 283
        }
      },
      "source": [
        "conn = sqlite3.connect('test.db')\n",
        "\n",
        "cursor = conn.execute(\"SELECT DISTINCT name FROM COMPANY\")\n",
        "df = get_data(cursor)\n",
        "\n",
        "conn.close() \n",
        "print(\"Operation done successfully\")\n",
        "df"
      ],
      "execution_count": 0,
      "outputs": [
        {
          "output_type": "stream",
          "text": [
            "Operation done successfully\n"
          ],
          "name": "stdout"
        },
        {
          "output_type": "execute_result",
          "data": {
            "text/html": [
              "<div>\n",
              "<style scoped>\n",
              "    .dataframe tbody tr th:only-of-type {\n",
              "        vertical-align: middle;\n",
              "    }\n",
              "\n",
              "    .dataframe tbody tr th {\n",
              "        vertical-align: top;\n",
              "    }\n",
              "\n",
              "    .dataframe thead th {\n",
              "        text-align: right;\n",
              "    }\n",
              "</style>\n",
              "<table border=\"1\" class=\"dataframe\">\n",
              "  <thead>\n",
              "    <tr style=\"text-align: right;\">\n",
              "      <th></th>\n",
              "      <th>NAME</th>\n",
              "    </tr>\n",
              "  </thead>\n",
              "  <tbody>\n",
              "    <tr>\n",
              "      <th></th>\n",
              "      <td>Paul</td>\n",
              "    </tr>\n",
              "    <tr>\n",
              "      <th></th>\n",
              "      <td>Allen</td>\n",
              "    </tr>\n",
              "    <tr>\n",
              "      <th></th>\n",
              "      <td>Teddy</td>\n",
              "    </tr>\n",
              "    <tr>\n",
              "      <th></th>\n",
              "      <td>Mark</td>\n",
              "    </tr>\n",
              "    <tr>\n",
              "      <th></th>\n",
              "      <td>David</td>\n",
              "    </tr>\n",
              "    <tr>\n",
              "      <th></th>\n",
              "      <td>Kim</td>\n",
              "    </tr>\n",
              "    <tr>\n",
              "      <th></th>\n",
              "      <td>James</td>\n",
              "    </tr>\n",
              "  </tbody>\n",
              "</table>\n",
              "</div>"
            ],
            "text/plain": [
              "   NAME\n",
              "   Paul\n",
              "  Allen\n",
              "  Teddy\n",
              "   Mark\n",
              "  David\n",
              "    Kim\n",
              "  James"
            ]
          },
          "metadata": {
            "tags": []
          },
          "execution_count": 26
        }
      ]
    },
    {
      "cell_type": "markdown",
      "metadata": {
        "id": "-HDuLEt9fkv6",
        "colab_type": "text"
      },
      "source": [
        "**หลังใช้ DISTINCT**"
      ]
    },
    {
      "cell_type": "code",
      "metadata": {
        "id": "V0Va7ClCe3vJ",
        "colab_type": "code",
        "outputId": "1b3c3985-a7ac-43f5-a69c-93b0e127ae28",
        "colab": {
          "base_uri": "https://localhost:8080/",
          "height": 283
        }
      },
      "source": [
        "conn = sqlite3.connect('test.db')\n",
        "\n",
        "cursor = conn.execute(\"SELECT DISTINCT name FROM COMPANY\")\n",
        "df = get_data(cursor)\n",
        "\n",
        "conn.close() \n",
        "print(\"Operation done successfully\")\n",
        "df"
      ],
      "execution_count": 0,
      "outputs": [
        {
          "output_type": "stream",
          "text": [
            "Operation done successfully\n"
          ],
          "name": "stdout"
        },
        {
          "output_type": "execute_result",
          "data": {
            "text/html": [
              "<div>\n",
              "<style scoped>\n",
              "    .dataframe tbody tr th:only-of-type {\n",
              "        vertical-align: middle;\n",
              "    }\n",
              "\n",
              "    .dataframe tbody tr th {\n",
              "        vertical-align: top;\n",
              "    }\n",
              "\n",
              "    .dataframe thead th {\n",
              "        text-align: right;\n",
              "    }\n",
              "</style>\n",
              "<table border=\"1\" class=\"dataframe\">\n",
              "  <thead>\n",
              "    <tr style=\"text-align: right;\">\n",
              "      <th></th>\n",
              "      <th>NAME</th>\n",
              "    </tr>\n",
              "  </thead>\n",
              "  <tbody>\n",
              "    <tr>\n",
              "      <th></th>\n",
              "      <td>Paul</td>\n",
              "    </tr>\n",
              "    <tr>\n",
              "      <th></th>\n",
              "      <td>Allen</td>\n",
              "    </tr>\n",
              "    <tr>\n",
              "      <th></th>\n",
              "      <td>Teddy</td>\n",
              "    </tr>\n",
              "    <tr>\n",
              "      <th></th>\n",
              "      <td>Mark</td>\n",
              "    </tr>\n",
              "    <tr>\n",
              "      <th></th>\n",
              "      <td>David</td>\n",
              "    </tr>\n",
              "    <tr>\n",
              "      <th></th>\n",
              "      <td>Kim</td>\n",
              "    </tr>\n",
              "    <tr>\n",
              "      <th></th>\n",
              "      <td>James</td>\n",
              "    </tr>\n",
              "  </tbody>\n",
              "</table>\n",
              "</div>"
            ],
            "text/plain": [
              "   NAME\n",
              "   Paul\n",
              "  Allen\n",
              "  Teddy\n",
              "   Mark\n",
              "  David\n",
              "    Kim\n",
              "  James"
            ]
          },
          "metadata": {
            "tags": []
          },
          "execution_count": 27
        }
      ]
    },
    {
      "cell_type": "markdown",
      "metadata": {
        "id": "R9IOGQRcbUmJ",
        "colab_type": "text"
      },
      "source": [
        "# ประโยค LIMIT (LIMIT Clause)"
      ]
    },
    {
      "cell_type": "markdown",
      "metadata": {
        "id": "aGgctigZbyrL",
        "colab_type": "text"
      },
      "source": [
        "## ตัวอย่างใช้ LIMIT"
      ]
    },
    {
      "cell_type": "code",
      "metadata": {
        "id": "4uXSXCUSbZ-Q",
        "colab_type": "code",
        "outputId": "3b0e343a-f980-4cf6-8cf5-c0a931be4f25",
        "colab": {
          "base_uri": "https://localhost:8080/",
          "height": 252
        }
      },
      "source": [
        "conn = sqlite3.connect('test.db')\n",
        "\n",
        "cursor = conn.execute(\"SELECT * FROM COMPANY LIMIT 6\")\n",
        "df = get_data(cursor)\n",
        "\n",
        "conn.close() \n",
        "print(\"Operation done successfully\")\n",
        "df"
      ],
      "execution_count": 0,
      "outputs": [
        {
          "output_type": "stream",
          "text": [
            "Operation done successfully\n"
          ],
          "name": "stdout"
        },
        {
          "output_type": "execute_result",
          "data": {
            "text/html": [
              "<div>\n",
              "<style scoped>\n",
              "    .dataframe tbody tr th:only-of-type {\n",
              "        vertical-align: middle;\n",
              "    }\n",
              "\n",
              "    .dataframe tbody tr th {\n",
              "        vertical-align: top;\n",
              "    }\n",
              "\n",
              "    .dataframe thead th {\n",
              "        text-align: right;\n",
              "    }\n",
              "</style>\n",
              "<table border=\"1\" class=\"dataframe\">\n",
              "  <thead>\n",
              "    <tr style=\"text-align: right;\">\n",
              "      <th></th>\n",
              "      <th>ID</th>\n",
              "      <th>NAME</th>\n",
              "      <th>AGE</th>\n",
              "      <th>ADDRESS</th>\n",
              "      <th>SALARY</th>\n",
              "    </tr>\n",
              "  </thead>\n",
              "  <tbody>\n",
              "    <tr>\n",
              "      <th></th>\n",
              "      <td>1</td>\n",
              "      <td>Paul</td>\n",
              "      <td>32</td>\n",
              "      <td>California</td>\n",
              "      <td>20000.0</td>\n",
              "    </tr>\n",
              "    <tr>\n",
              "      <th></th>\n",
              "      <td>2</td>\n",
              "      <td>Allen</td>\n",
              "      <td>25</td>\n",
              "      <td>Texas</td>\n",
              "      <td>15000.0</td>\n",
              "    </tr>\n",
              "    <tr>\n",
              "      <th></th>\n",
              "      <td>3</td>\n",
              "      <td>Teddy</td>\n",
              "      <td>23</td>\n",
              "      <td>Norway</td>\n",
              "      <td>20000.0</td>\n",
              "    </tr>\n",
              "    <tr>\n",
              "      <th></th>\n",
              "      <td>4</td>\n",
              "      <td>Mark</td>\n",
              "      <td>25</td>\n",
              "      <td>Rich-Mond</td>\n",
              "      <td>65000.0</td>\n",
              "    </tr>\n",
              "    <tr>\n",
              "      <th></th>\n",
              "      <td>5</td>\n",
              "      <td>David</td>\n",
              "      <td>27</td>\n",
              "      <td>Texas</td>\n",
              "      <td>85000.0</td>\n",
              "    </tr>\n",
              "    <tr>\n",
              "      <th></th>\n",
              "      <td>6</td>\n",
              "      <td>Kim</td>\n",
              "      <td>22</td>\n",
              "      <td>South-Hall</td>\n",
              "      <td>45000.0</td>\n",
              "    </tr>\n",
              "  </tbody>\n",
              "</table>\n",
              "</div>"
            ],
            "text/plain": [
              "  ID   NAME  AGE     ADDRESS   SALARY\n",
              "   1   Paul   32  California  20000.0\n",
              "   2  Allen   25       Texas  15000.0\n",
              "   3  Teddy   23      Norway  20000.0\n",
              "   4   Mark   25  Rich-Mond   65000.0\n",
              "   5  David   27       Texas  85000.0\n",
              "   6    Kim   22  South-Hall  45000.0"
            ]
          },
          "metadata": {
            "tags": []
          },
          "execution_count": 28
        }
      ]
    },
    {
      "cell_type": "markdown",
      "metadata": {
        "id": "yp0-7ttDciG3",
        "colab_type": "text"
      },
      "source": [
        "## ตัวอย่างใช้ OFFSET ร่วมเดียว"
      ]
    },
    {
      "cell_type": "code",
      "metadata": {
        "id": "csWNkxbRbWkC",
        "colab_type": "code",
        "outputId": "adfdbab1-980e-4636-92ec-9251cf53691b",
        "colab": {
          "base_uri": "https://localhost:8080/",
          "height": 159
        }
      },
      "source": [
        "conn = sqlite3.connect('test.db')\n",
        "\n",
        "cursor = conn.execute(\"SELECT * FROM COMPANY LIMIT 3 OFFSET 2\")\n",
        "df = get_data(cursor)\n",
        "\n",
        "conn.close() \n",
        "print(\"Operation done successfully\")\n",
        "df"
      ],
      "execution_count": 0,
      "outputs": [
        {
          "output_type": "stream",
          "text": [
            "Operation done successfully\n"
          ],
          "name": "stdout"
        },
        {
          "output_type": "execute_result",
          "data": {
            "text/html": [
              "<div>\n",
              "<style scoped>\n",
              "    .dataframe tbody tr th:only-of-type {\n",
              "        vertical-align: middle;\n",
              "    }\n",
              "\n",
              "    .dataframe tbody tr th {\n",
              "        vertical-align: top;\n",
              "    }\n",
              "\n",
              "    .dataframe thead th {\n",
              "        text-align: right;\n",
              "    }\n",
              "</style>\n",
              "<table border=\"1\" class=\"dataframe\">\n",
              "  <thead>\n",
              "    <tr style=\"text-align: right;\">\n",
              "      <th></th>\n",
              "      <th>ID</th>\n",
              "      <th>NAME</th>\n",
              "      <th>AGE</th>\n",
              "      <th>ADDRESS</th>\n",
              "      <th>SALARY</th>\n",
              "    </tr>\n",
              "  </thead>\n",
              "  <tbody>\n",
              "    <tr>\n",
              "      <th></th>\n",
              "      <td>3</td>\n",
              "      <td>Teddy</td>\n",
              "      <td>23</td>\n",
              "      <td>Norway</td>\n",
              "      <td>20000.0</td>\n",
              "    </tr>\n",
              "    <tr>\n",
              "      <th></th>\n",
              "      <td>4</td>\n",
              "      <td>Mark</td>\n",
              "      <td>25</td>\n",
              "      <td>Rich-Mond</td>\n",
              "      <td>65000.0</td>\n",
              "    </tr>\n",
              "    <tr>\n",
              "      <th></th>\n",
              "      <td>5</td>\n",
              "      <td>David</td>\n",
              "      <td>27</td>\n",
              "      <td>Texas</td>\n",
              "      <td>85000.0</td>\n",
              "    </tr>\n",
              "  </tbody>\n",
              "</table>\n",
              "</div>"
            ],
            "text/plain": [
              "  ID   NAME  AGE     ADDRESS   SALARY\n",
              "   3  Teddy   23      Norway  20000.0\n",
              "   4   Mark   25  Rich-Mond   65000.0\n",
              "   5  David   27       Texas  85000.0"
            ]
          },
          "metadata": {
            "tags": []
          },
          "execution_count": 29
        }
      ]
    },
    {
      "cell_type": "markdown",
      "metadata": {
        "id": "MVr19MGqTWJu",
        "colab_type": "text"
      },
      "source": [
        "# อัพเพตข้อมูล (UPDATE Query)\n",
        "\n",
        "\n",
        "---\n",
        "\n"
      ]
    },
    {
      "cell_type": "code",
      "metadata": {
        "id": "Xodur_exTdjC",
        "colab_type": "code",
        "outputId": "303ca7cd-0e47-418e-ffc9-063a22f48099",
        "colab": {
          "base_uri": "https://localhost:8080/",
          "height": 51
        }
      },
      "source": [
        "conn = sqlite3.connect('test.db')\n",
        "\n",
        "with conn:\n",
        "  conn.execute(\"UPDATE COMPANY set SALARY = 25000.00 where ID = 1\")  \n",
        "  print(\"Total number of rows updated :\", conn.total_changes)\n",
        "\n",
        "conn.close()\n",
        "print(\"Operation done successfully\");"
      ],
      "execution_count": 0,
      "outputs": [
        {
          "output_type": "stream",
          "text": [
            "Total number of rows updated : 1\n",
            "Operation done successfully\n"
          ],
          "name": "stdout"
        }
      ]
    },
    {
      "cell_type": "markdown",
      "metadata": {
        "id": "SEXZLVfzj47B",
        "colab_type": "text"
      },
      "source": [
        "แสดงข้อมูลใน table หลังแก้ไข"
      ]
    },
    {
      "cell_type": "code",
      "metadata": {
        "id": "9fOICK_Ij19z",
        "colab_type": "code",
        "outputId": "c6e2a57f-e2a0-4b3d-c02b-c0a32907e6a9",
        "colab": {
          "base_uri": "https://localhost:8080/",
          "height": 345
        }
      },
      "source": [
        "conn = sqlite3.connect('test.db')\n",
        "\n",
        "cursor = conn.execute(\"SELECT id, name, address, salary from COMPANY\")\n",
        "df = get_data(cursor)\n",
        "\n",
        "conn.close()\n",
        "print(\"Operation done successfully\");\n",
        "df"
      ],
      "execution_count": 0,
      "outputs": [
        {
          "output_type": "stream",
          "text": [
            "Operation done successfully\n"
          ],
          "name": "stdout"
        },
        {
          "output_type": "execute_result",
          "data": {
            "text/html": [
              "<div>\n",
              "<style scoped>\n",
              "    .dataframe tbody tr th:only-of-type {\n",
              "        vertical-align: middle;\n",
              "    }\n",
              "\n",
              "    .dataframe tbody tr th {\n",
              "        vertical-align: top;\n",
              "    }\n",
              "\n",
              "    .dataframe thead th {\n",
              "        text-align: right;\n",
              "    }\n",
              "</style>\n",
              "<table border=\"1\" class=\"dataframe\">\n",
              "  <thead>\n",
              "    <tr style=\"text-align: right;\">\n",
              "      <th></th>\n",
              "      <th>ID</th>\n",
              "      <th>NAME</th>\n",
              "      <th>ADDRESS</th>\n",
              "      <th>SALARY</th>\n",
              "    </tr>\n",
              "  </thead>\n",
              "  <tbody>\n",
              "    <tr>\n",
              "      <th></th>\n",
              "      <td>1</td>\n",
              "      <td>Paul</td>\n",
              "      <td>California</td>\n",
              "      <td>25000.0</td>\n",
              "    </tr>\n",
              "    <tr>\n",
              "      <th></th>\n",
              "      <td>2</td>\n",
              "      <td>Allen</td>\n",
              "      <td>Texas</td>\n",
              "      <td>15000.0</td>\n",
              "    </tr>\n",
              "    <tr>\n",
              "      <th></th>\n",
              "      <td>3</td>\n",
              "      <td>Teddy</td>\n",
              "      <td>Norway</td>\n",
              "      <td>20000.0</td>\n",
              "    </tr>\n",
              "    <tr>\n",
              "      <th></th>\n",
              "      <td>4</td>\n",
              "      <td>Mark</td>\n",
              "      <td>Rich-Mond</td>\n",
              "      <td>65000.0</td>\n",
              "    </tr>\n",
              "    <tr>\n",
              "      <th></th>\n",
              "      <td>5</td>\n",
              "      <td>David</td>\n",
              "      <td>Texas</td>\n",
              "      <td>85000.0</td>\n",
              "    </tr>\n",
              "    <tr>\n",
              "      <th></th>\n",
              "      <td>6</td>\n",
              "      <td>Kim</td>\n",
              "      <td>South-Hall</td>\n",
              "      <td>45000.0</td>\n",
              "    </tr>\n",
              "    <tr>\n",
              "      <th></th>\n",
              "      <td>7</td>\n",
              "      <td>James</td>\n",
              "      <td>Houston</td>\n",
              "      <td>10000.0</td>\n",
              "    </tr>\n",
              "    <tr>\n",
              "      <th></th>\n",
              "      <td>8</td>\n",
              "      <td>Paul</td>\n",
              "      <td>Houston</td>\n",
              "      <td>20000.0</td>\n",
              "    </tr>\n",
              "    <tr>\n",
              "      <th></th>\n",
              "      <td>9</td>\n",
              "      <td>James</td>\n",
              "      <td>Norway</td>\n",
              "      <td>5000.0</td>\n",
              "    </tr>\n",
              "  </tbody>\n",
              "</table>\n",
              "</div>"
            ],
            "text/plain": [
              "  ID   NAME     ADDRESS   SALARY\n",
              "   1   Paul  California  25000.0\n",
              "   2  Allen       Texas  15000.0\n",
              "   3  Teddy      Norway  20000.0\n",
              "   4   Mark  Rich-Mond   65000.0\n",
              "   5  David       Texas  85000.0\n",
              "   6    Kim  South-Hall  45000.0\n",
              "   7  James     Houston  10000.0\n",
              "   8   Paul     Houston  20000.0\n",
              "   9  James      Norway   5000.0"
            ]
          },
          "metadata": {
            "tags": []
          },
          "execution_count": 31
        }
      ]
    },
    {
      "cell_type": "markdown",
      "metadata": {
        "id": "J5V4Wu5oUfDs",
        "colab_type": "text"
      },
      "source": [
        "# ลบ Record (DELETE Query)\n",
        "\n",
        "\n",
        "---\n",
        "\n"
      ]
    },
    {
      "cell_type": "markdown",
      "metadata": {
        "id": "sS8LDc-iVrZ9",
        "colab_type": "text"
      },
      "source": [
        "**ตัวอย่างการลบ record ที่มี id = 2**"
      ]
    },
    {
      "cell_type": "code",
      "metadata": {
        "id": "LgeZ-0XnUjI9",
        "colab_type": "code",
        "outputId": "6076cefe-ce9b-4f18-f9b5-2e64d2343e52",
        "colab": {
          "base_uri": "https://localhost:8080/",
          "height": 34
        }
      },
      "source": [
        "conn = sqlite3.connect('test.db')\n",
        "\n",
        "with conn:\n",
        "  conn.execute(\"DELETE from COMPANY where ID = 2\")\n",
        "  print(\"Total number of rows deleted :\", conn.total_changes)\n",
        "\n",
        "conn.close()    \n"
      ],
      "execution_count": 0,
      "outputs": [
        {
          "output_type": "stream",
          "text": [
            "Total number of rows deleted : 1\n"
          ],
          "name": "stdout"
        }
      ]
    },
    {
      "cell_type": "markdown",
      "metadata": {
        "id": "LawqbMTbVvQu",
        "colab_type": "text"
      },
      "source": [
        "**ลองค้นหาข้อมูลใน Table ใหม่**"
      ]
    },
    {
      "cell_type": "code",
      "metadata": {
        "id": "RU2yB4rNQasj",
        "colab_type": "code",
        "outputId": "028facdf-e2a3-4588-80d7-003334585f44",
        "colab": {
          "base_uri": "https://localhost:8080/",
          "height": 314
        }
      },
      "source": [
        "conn = sqlite3.connect('test.db')\n",
        "\n",
        "cursor = conn.execute(\"SELECT id, name, address, salary from COMPANY\")\n",
        "df = get_data(cursor)\n",
        "\n",
        "conn.close()\n",
        "print(\"Operation done successfully\");\n",
        "df"
      ],
      "execution_count": 0,
      "outputs": [
        {
          "output_type": "stream",
          "text": [
            "Operation done successfully\n"
          ],
          "name": "stdout"
        },
        {
          "output_type": "execute_result",
          "data": {
            "text/html": [
              "<div>\n",
              "<style scoped>\n",
              "    .dataframe tbody tr th:only-of-type {\n",
              "        vertical-align: middle;\n",
              "    }\n",
              "\n",
              "    .dataframe tbody tr th {\n",
              "        vertical-align: top;\n",
              "    }\n",
              "\n",
              "    .dataframe thead th {\n",
              "        text-align: right;\n",
              "    }\n",
              "</style>\n",
              "<table border=\"1\" class=\"dataframe\">\n",
              "  <thead>\n",
              "    <tr style=\"text-align: right;\">\n",
              "      <th></th>\n",
              "      <th>ID</th>\n",
              "      <th>NAME</th>\n",
              "      <th>ADDRESS</th>\n",
              "      <th>SALARY</th>\n",
              "    </tr>\n",
              "  </thead>\n",
              "  <tbody>\n",
              "    <tr>\n",
              "      <th></th>\n",
              "      <td>1</td>\n",
              "      <td>Paul</td>\n",
              "      <td>California</td>\n",
              "      <td>25000.0</td>\n",
              "    </tr>\n",
              "    <tr>\n",
              "      <th></th>\n",
              "      <td>3</td>\n",
              "      <td>Teddy</td>\n",
              "      <td>Norway</td>\n",
              "      <td>20000.0</td>\n",
              "    </tr>\n",
              "    <tr>\n",
              "      <th></th>\n",
              "      <td>4</td>\n",
              "      <td>Mark</td>\n",
              "      <td>Rich-Mond</td>\n",
              "      <td>65000.0</td>\n",
              "    </tr>\n",
              "    <tr>\n",
              "      <th></th>\n",
              "      <td>5</td>\n",
              "      <td>David</td>\n",
              "      <td>Texas</td>\n",
              "      <td>85000.0</td>\n",
              "    </tr>\n",
              "    <tr>\n",
              "      <th></th>\n",
              "      <td>6</td>\n",
              "      <td>Kim</td>\n",
              "      <td>South-Hall</td>\n",
              "      <td>45000.0</td>\n",
              "    </tr>\n",
              "    <tr>\n",
              "      <th></th>\n",
              "      <td>7</td>\n",
              "      <td>James</td>\n",
              "      <td>Houston</td>\n",
              "      <td>10000.0</td>\n",
              "    </tr>\n",
              "    <tr>\n",
              "      <th></th>\n",
              "      <td>8</td>\n",
              "      <td>Paul</td>\n",
              "      <td>Houston</td>\n",
              "      <td>20000.0</td>\n",
              "    </tr>\n",
              "    <tr>\n",
              "      <th></th>\n",
              "      <td>9</td>\n",
              "      <td>James</td>\n",
              "      <td>Norway</td>\n",
              "      <td>5000.0</td>\n",
              "    </tr>\n",
              "  </tbody>\n",
              "</table>\n",
              "</div>"
            ],
            "text/plain": [
              "  ID   NAME     ADDRESS   SALARY\n",
              "   1   Paul  California  25000.0\n",
              "   3  Teddy      Norway  20000.0\n",
              "   4   Mark  Rich-Mond   65000.0\n",
              "   5  David       Texas  85000.0\n",
              "   6    Kim  South-Hall  45000.0\n",
              "   7  James     Houston  10000.0\n",
              "   8   Paul     Houston  20000.0\n",
              "   9  James      Norway   5000.0"
            ]
          },
          "metadata": {
            "tags": []
          },
          "execution_count": 33
        }
      ]
    },
    {
      "cell_type": "markdown",
      "metadata": {
        "id": "FcQcQQffS18_",
        "colab_type": "text"
      },
      "source": [
        "# Commit กับ Rollback"
      ]
    },
    {
      "cell_type": "markdown",
      "metadata": {
        "id": "pFcewRWm-7U_",
        "colab_type": "text"
      },
      "source": [
        "## ตัวอย่างเรียกใช้ commit()"
      ]
    },
    {
      "cell_type": "code",
      "metadata": {
        "id": "Um4CqwMc-o5a",
        "colab_type": "code",
        "outputId": "745653d0-631e-4eb4-efcc-7eba73de4c9a",
        "colab": {
          "base_uri": "https://localhost:8080/",
          "height": 34
        }
      },
      "source": [
        "conn = sqlite3.connect('test.db')\n",
        "\n",
        "conn.execute(\"INSERT INTO COMPANY (NAME,AGE,ADDRESS,SALARY)\\\n",
        "            VALUES ('Mana', 65, 'Thailand', 15000.00)\")\n",
        "conn.commit()\n",
        "conn.close()   \n",
        "print(\"Records created successfully\")"
      ],
      "execution_count": 0,
      "outputs": [
        {
          "output_type": "stream",
          "text": [
            "Records created successfully\n"
          ],
          "name": "stdout"
        }
      ]
    },
    {
      "cell_type": "markdown",
      "metadata": {
        "id": "UZJ31bD-_BcB",
        "colab_type": "text"
      },
      "source": [
        "## ตัวอย่างเรียกใช้ rollback()"
      ]
    },
    {
      "cell_type": "code",
      "metadata": {
        "id": "1yB4MDSt_GsA",
        "colab_type": "code",
        "outputId": "b481e68b-76bd-41b7-c056-40b387a03edb",
        "colab": {
          "base_uri": "https://localhost:8080/",
          "height": 34
        }
      },
      "source": [
        "conn = sqlite3.connect('test.db')\n",
        "\n",
        "conn.execute(\"INSERT INTO COMPANY (NAME,AGE,ADDRESS,SALARY)\\\n",
        "            VALUES ('Manee', 15, 'Thailand', 15000.00)\")\n",
        "conn.rollback()\n",
        "conn.close()   \n",
        "print(\"Table created successfully\")"
      ],
      "execution_count": 0,
      "outputs": [
        {
          "output_type": "stream",
          "text": [
            "Table created successfully\n"
          ],
          "name": "stdout"
        }
      ]
    },
    {
      "cell_type": "markdown",
      "metadata": {
        "id": "7C-LSCX9_RKS",
        "colab_type": "text"
      },
      "source": [
        "**ลองคิวรี่ดูข้อมูล**"
      ]
    },
    {
      "cell_type": "code",
      "metadata": {
        "id": "1RZRJESx_Qig",
        "colab_type": "code",
        "outputId": "2284546d-42d6-42a5-a101-d01a545bf688",
        "colab": {
          "base_uri": "https://localhost:8080/",
          "height": 345
        }
      },
      "source": [
        "conn = sqlite3.connect('test.db')\n",
        "\n",
        "cursor = conn.execute(\"SELECT id, name, address, salary from COMPANY\")\n",
        "df = get_data(cursor)\n",
        "\n",
        "conn.close() \n",
        "print(\"Operation done successfully\")\n",
        "df "
      ],
      "execution_count": 0,
      "outputs": [
        {
          "output_type": "stream",
          "text": [
            "Operation done successfully\n"
          ],
          "name": "stdout"
        },
        {
          "output_type": "execute_result",
          "data": {
            "text/html": [
              "<div>\n",
              "<style scoped>\n",
              "    .dataframe tbody tr th:only-of-type {\n",
              "        vertical-align: middle;\n",
              "    }\n",
              "\n",
              "    .dataframe tbody tr th {\n",
              "        vertical-align: top;\n",
              "    }\n",
              "\n",
              "    .dataframe thead th {\n",
              "        text-align: right;\n",
              "    }\n",
              "</style>\n",
              "<table border=\"1\" class=\"dataframe\">\n",
              "  <thead>\n",
              "    <tr style=\"text-align: right;\">\n",
              "      <th></th>\n",
              "      <th>ID</th>\n",
              "      <th>NAME</th>\n",
              "      <th>ADDRESS</th>\n",
              "      <th>SALARY</th>\n",
              "    </tr>\n",
              "  </thead>\n",
              "  <tbody>\n",
              "    <tr>\n",
              "      <th></th>\n",
              "      <td>1</td>\n",
              "      <td>Paul</td>\n",
              "      <td>California</td>\n",
              "      <td>25000.0</td>\n",
              "    </tr>\n",
              "    <tr>\n",
              "      <th></th>\n",
              "      <td>3</td>\n",
              "      <td>Teddy</td>\n",
              "      <td>Norway</td>\n",
              "      <td>20000.0</td>\n",
              "    </tr>\n",
              "    <tr>\n",
              "      <th></th>\n",
              "      <td>4</td>\n",
              "      <td>Mark</td>\n",
              "      <td>Rich-Mond</td>\n",
              "      <td>65000.0</td>\n",
              "    </tr>\n",
              "    <tr>\n",
              "      <th></th>\n",
              "      <td>5</td>\n",
              "      <td>David</td>\n",
              "      <td>Texas</td>\n",
              "      <td>85000.0</td>\n",
              "    </tr>\n",
              "    <tr>\n",
              "      <th></th>\n",
              "      <td>6</td>\n",
              "      <td>Kim</td>\n",
              "      <td>South-Hall</td>\n",
              "      <td>45000.0</td>\n",
              "    </tr>\n",
              "    <tr>\n",
              "      <th></th>\n",
              "      <td>7</td>\n",
              "      <td>James</td>\n",
              "      <td>Houston</td>\n",
              "      <td>10000.0</td>\n",
              "    </tr>\n",
              "    <tr>\n",
              "      <th></th>\n",
              "      <td>8</td>\n",
              "      <td>Paul</td>\n",
              "      <td>Houston</td>\n",
              "      <td>20000.0</td>\n",
              "    </tr>\n",
              "    <tr>\n",
              "      <th></th>\n",
              "      <td>9</td>\n",
              "      <td>James</td>\n",
              "      <td>Norway</td>\n",
              "      <td>5000.0</td>\n",
              "    </tr>\n",
              "    <tr>\n",
              "      <th></th>\n",
              "      <td>10</td>\n",
              "      <td>Mana</td>\n",
              "      <td>Thailand</td>\n",
              "      <td>15000.0</td>\n",
              "    </tr>\n",
              "  </tbody>\n",
              "</table>\n",
              "</div>"
            ],
            "text/plain": [
              "  ID   NAME     ADDRESS   SALARY\n",
              "   1   Paul  California  25000.0\n",
              "   3  Teddy      Norway  20000.0\n",
              "   4   Mark  Rich-Mond   65000.0\n",
              "   5  David       Texas  85000.0\n",
              "   6    Kim  South-Hall  45000.0\n",
              "   7  James     Houston  10000.0\n",
              "   8   Paul     Houston  20000.0\n",
              "   9  James      Norway   5000.0\n",
              "  10   Mana    Thailand  15000.0"
            ]
          },
          "metadata": {
            "tags": []
          },
          "execution_count": 36
        }
      ]
    },
    {
      "cell_type": "markdown",
      "metadata": {
        "id": "540pRweL9jmp",
        "colab_type": "text"
      },
      "source": [
        "## เมื่อใช้ประโยค with\n",
        "* เมธอด commit() จะถูกเรียกอัตโนมัติหลังจากบล็อกทำงานเสร็จ\n",
        "* เมธอด rollback() จะถูกเรียกอัตโนมัติเมื่อเกิด exception"
      ]
    },
    {
      "cell_type": "code",
      "metadata": {
        "id": "3pj138j-S3qb",
        "colab_type": "code",
        "outputId": "fa63a270-3e3c-4a91-9335-0abcc2adbd07",
        "colab": {
          "base_uri": "https://localhost:8080/",
          "height": 34
        }
      },
      "source": [
        "conn = sqlite3.connect('test.db')\n",
        "\n",
        "# Successful, con.commit() is called automatically afterwards\n",
        "with conn:\n",
        "    conn.execute(\"DELETE FROM COMPANY WHERE AGE = 65\")\n",
        "    print(\"Total number of rows deleted :\", conn.total_changes)\n",
        "\n",
        "# con.rollback() is called after the with block finishes with an exception, the\n",
        "# exception is still raised and must be caught\n",
        "try:\n",
        "    with conn:\n",
        "        conn.execute(\"DELETE FROM COMPANY WHERE AGE = 65\")\n",
        "except sqlite3.IntegrityError:\n",
        "    print (\"couldn't delete twice\")\n",
        "\n",
        "conn.close()"
      ],
      "execution_count": 0,
      "outputs": [
        {
          "output_type": "stream",
          "text": [
            "Total number of rows deleted : 1\n"
          ],
          "name": "stdout"
        }
      ]
    },
    {
      "cell_type": "markdown",
      "metadata": {
        "id": "4x_RDPc6zHBb",
        "colab_type": "text"
      },
      "source": [
        "# ประโยค ORDER BY "
      ]
    },
    {
      "cell_type": "markdown",
      "metadata": {
        "id": "8MwgTSl_dhvP",
        "colab_type": "text"
      },
      "source": [
        "## ตัวอย่างใช้ ASC"
      ]
    },
    {
      "cell_type": "code",
      "metadata": {
        "id": "xmkWBh0-zI5C",
        "colab_type": "code",
        "outputId": "a90a8622-ecd0-4f38-9fa2-fca3d627ae42",
        "colab": {
          "base_uri": "https://localhost:8080/",
          "height": 314
        }
      },
      "source": [
        "conn = sqlite3.connect('test.db')\n",
        "\n",
        "cursor = conn.execute(\"SELECT * FROM COMPANY ORDER BY SALARY ASC\")\n",
        "df = get_data(cursor)\n",
        "\n",
        "conn.close()\n",
        "print(\"Operation done successfully\")\n",
        "df"
      ],
      "execution_count": 0,
      "outputs": [
        {
          "output_type": "stream",
          "text": [
            "Operation done successfully\n"
          ],
          "name": "stdout"
        },
        {
          "output_type": "execute_result",
          "data": {
            "text/html": [
              "<div>\n",
              "<style scoped>\n",
              "    .dataframe tbody tr th:only-of-type {\n",
              "        vertical-align: middle;\n",
              "    }\n",
              "\n",
              "    .dataframe tbody tr th {\n",
              "        vertical-align: top;\n",
              "    }\n",
              "\n",
              "    .dataframe thead th {\n",
              "        text-align: right;\n",
              "    }\n",
              "</style>\n",
              "<table border=\"1\" class=\"dataframe\">\n",
              "  <thead>\n",
              "    <tr style=\"text-align: right;\">\n",
              "      <th></th>\n",
              "      <th>ID</th>\n",
              "      <th>NAME</th>\n",
              "      <th>AGE</th>\n",
              "      <th>ADDRESS</th>\n",
              "      <th>SALARY</th>\n",
              "    </tr>\n",
              "  </thead>\n",
              "  <tbody>\n",
              "    <tr>\n",
              "      <th></th>\n",
              "      <td>9</td>\n",
              "      <td>James</td>\n",
              "      <td>44</td>\n",
              "      <td>Norway</td>\n",
              "      <td>5000.0</td>\n",
              "    </tr>\n",
              "    <tr>\n",
              "      <th></th>\n",
              "      <td>7</td>\n",
              "      <td>James</td>\n",
              "      <td>24</td>\n",
              "      <td>Houston</td>\n",
              "      <td>10000.0</td>\n",
              "    </tr>\n",
              "    <tr>\n",
              "      <th></th>\n",
              "      <td>3</td>\n",
              "      <td>Teddy</td>\n",
              "      <td>23</td>\n",
              "      <td>Norway</td>\n",
              "      <td>20000.0</td>\n",
              "    </tr>\n",
              "    <tr>\n",
              "      <th></th>\n",
              "      <td>8</td>\n",
              "      <td>Paul</td>\n",
              "      <td>24</td>\n",
              "      <td>Houston</td>\n",
              "      <td>20000.0</td>\n",
              "    </tr>\n",
              "    <tr>\n",
              "      <th></th>\n",
              "      <td>1</td>\n",
              "      <td>Paul</td>\n",
              "      <td>32</td>\n",
              "      <td>California</td>\n",
              "      <td>25000.0</td>\n",
              "    </tr>\n",
              "    <tr>\n",
              "      <th></th>\n",
              "      <td>6</td>\n",
              "      <td>Kim</td>\n",
              "      <td>22</td>\n",
              "      <td>South-Hall</td>\n",
              "      <td>45000.0</td>\n",
              "    </tr>\n",
              "    <tr>\n",
              "      <th></th>\n",
              "      <td>4</td>\n",
              "      <td>Mark</td>\n",
              "      <td>25</td>\n",
              "      <td>Rich-Mond</td>\n",
              "      <td>65000.0</td>\n",
              "    </tr>\n",
              "    <tr>\n",
              "      <th></th>\n",
              "      <td>5</td>\n",
              "      <td>David</td>\n",
              "      <td>27</td>\n",
              "      <td>Texas</td>\n",
              "      <td>85000.0</td>\n",
              "    </tr>\n",
              "  </tbody>\n",
              "</table>\n",
              "</div>"
            ],
            "text/plain": [
              "  ID   NAME  AGE     ADDRESS   SALARY\n",
              "   9  James   44      Norway   5000.0\n",
              "   7  James   24     Houston  10000.0\n",
              "   3  Teddy   23      Norway  20000.0\n",
              "   8   Paul   24     Houston  20000.0\n",
              "   1   Paul   32  California  25000.0\n",
              "   6    Kim   22  South-Hall  45000.0\n",
              "   4   Mark   25  Rich-Mond   65000.0\n",
              "   5  David   27       Texas  85000.0"
            ]
          },
          "metadata": {
            "tags": []
          },
          "execution_count": 38
        }
      ]
    },
    {
      "cell_type": "code",
      "metadata": {
        "id": "1a_uGoCizRUt",
        "colab_type": "code",
        "outputId": "0779dc53-5c52-4a26-d248-118ef30db390",
        "colab": {
          "base_uri": "https://localhost:8080/",
          "height": 314
        }
      },
      "source": [
        "conn = sqlite3.connect('test.db')\n",
        "\n",
        "cursor = conn.execute(\"SELECT * FROM COMPANY ORDER BY NAME, SALARY ASC\")\n",
        "df = get_data(cursor)\n",
        "\n",
        "conn.close()\n",
        "print(\"Operation done successfully\")\n",
        "df\n"
      ],
      "execution_count": 0,
      "outputs": [
        {
          "output_type": "stream",
          "text": [
            "Operation done successfully\n"
          ],
          "name": "stdout"
        },
        {
          "output_type": "execute_result",
          "data": {
            "text/html": [
              "<div>\n",
              "<style scoped>\n",
              "    .dataframe tbody tr th:only-of-type {\n",
              "        vertical-align: middle;\n",
              "    }\n",
              "\n",
              "    .dataframe tbody tr th {\n",
              "        vertical-align: top;\n",
              "    }\n",
              "\n",
              "    .dataframe thead th {\n",
              "        text-align: right;\n",
              "    }\n",
              "</style>\n",
              "<table border=\"1\" class=\"dataframe\">\n",
              "  <thead>\n",
              "    <tr style=\"text-align: right;\">\n",
              "      <th></th>\n",
              "      <th>ID</th>\n",
              "      <th>NAME</th>\n",
              "      <th>AGE</th>\n",
              "      <th>ADDRESS</th>\n",
              "      <th>SALARY</th>\n",
              "    </tr>\n",
              "  </thead>\n",
              "  <tbody>\n",
              "    <tr>\n",
              "      <th></th>\n",
              "      <td>5</td>\n",
              "      <td>David</td>\n",
              "      <td>27</td>\n",
              "      <td>Texas</td>\n",
              "      <td>85000.0</td>\n",
              "    </tr>\n",
              "    <tr>\n",
              "      <th></th>\n",
              "      <td>9</td>\n",
              "      <td>James</td>\n",
              "      <td>44</td>\n",
              "      <td>Norway</td>\n",
              "      <td>5000.0</td>\n",
              "    </tr>\n",
              "    <tr>\n",
              "      <th></th>\n",
              "      <td>7</td>\n",
              "      <td>James</td>\n",
              "      <td>24</td>\n",
              "      <td>Houston</td>\n",
              "      <td>10000.0</td>\n",
              "    </tr>\n",
              "    <tr>\n",
              "      <th></th>\n",
              "      <td>6</td>\n",
              "      <td>Kim</td>\n",
              "      <td>22</td>\n",
              "      <td>South-Hall</td>\n",
              "      <td>45000.0</td>\n",
              "    </tr>\n",
              "    <tr>\n",
              "      <th></th>\n",
              "      <td>4</td>\n",
              "      <td>Mark</td>\n",
              "      <td>25</td>\n",
              "      <td>Rich-Mond</td>\n",
              "      <td>65000.0</td>\n",
              "    </tr>\n",
              "    <tr>\n",
              "      <th></th>\n",
              "      <td>8</td>\n",
              "      <td>Paul</td>\n",
              "      <td>24</td>\n",
              "      <td>Houston</td>\n",
              "      <td>20000.0</td>\n",
              "    </tr>\n",
              "    <tr>\n",
              "      <th></th>\n",
              "      <td>1</td>\n",
              "      <td>Paul</td>\n",
              "      <td>32</td>\n",
              "      <td>California</td>\n",
              "      <td>25000.0</td>\n",
              "    </tr>\n",
              "    <tr>\n",
              "      <th></th>\n",
              "      <td>3</td>\n",
              "      <td>Teddy</td>\n",
              "      <td>23</td>\n",
              "      <td>Norway</td>\n",
              "      <td>20000.0</td>\n",
              "    </tr>\n",
              "  </tbody>\n",
              "</table>\n",
              "</div>"
            ],
            "text/plain": [
              "  ID   NAME  AGE     ADDRESS   SALARY\n",
              "   5  David   27       Texas  85000.0\n",
              "   9  James   44      Norway   5000.0\n",
              "   7  James   24     Houston  10000.0\n",
              "   6    Kim   22  South-Hall  45000.0\n",
              "   4   Mark   25  Rich-Mond   65000.0\n",
              "   8   Paul   24     Houston  20000.0\n",
              "   1   Paul   32  California  25000.0\n",
              "   3  Teddy   23      Norway  20000.0"
            ]
          },
          "metadata": {
            "tags": []
          },
          "execution_count": 39
        }
      ]
    },
    {
      "cell_type": "markdown",
      "metadata": {
        "id": "V2WcVjo3dqHH",
        "colab_type": "text"
      },
      "source": [
        "##  ตัวอย่างใช้ DESC"
      ]
    },
    {
      "cell_type": "code",
      "metadata": {
        "id": "4F8N-NJrzYZP",
        "colab_type": "code",
        "outputId": "e1e474f7-eb00-4966-bf4c-1bc88ba1f4c3",
        "colab": {
          "base_uri": "https://localhost:8080/",
          "height": 314
        }
      },
      "source": [
        "conn = sqlite3.connect('test.db')\n",
        "\n",
        "cursor = conn.execute(\"SELECT * FROM COMPANY ORDER BY NAME DESC\")\n",
        "df = get_data(cursor)\n",
        "\n",
        "conn.close()\n",
        "print(\"Operation done successfully\")\n",
        "df\n"
      ],
      "execution_count": 0,
      "outputs": [
        {
          "output_type": "stream",
          "text": [
            "Operation done successfully\n"
          ],
          "name": "stdout"
        },
        {
          "output_type": "execute_result",
          "data": {
            "text/html": [
              "<div>\n",
              "<style scoped>\n",
              "    .dataframe tbody tr th:only-of-type {\n",
              "        vertical-align: middle;\n",
              "    }\n",
              "\n",
              "    .dataframe tbody tr th {\n",
              "        vertical-align: top;\n",
              "    }\n",
              "\n",
              "    .dataframe thead th {\n",
              "        text-align: right;\n",
              "    }\n",
              "</style>\n",
              "<table border=\"1\" class=\"dataframe\">\n",
              "  <thead>\n",
              "    <tr style=\"text-align: right;\">\n",
              "      <th></th>\n",
              "      <th>ID</th>\n",
              "      <th>NAME</th>\n",
              "      <th>AGE</th>\n",
              "      <th>ADDRESS</th>\n",
              "      <th>SALARY</th>\n",
              "    </tr>\n",
              "  </thead>\n",
              "  <tbody>\n",
              "    <tr>\n",
              "      <th></th>\n",
              "      <td>3</td>\n",
              "      <td>Teddy</td>\n",
              "      <td>23</td>\n",
              "      <td>Norway</td>\n",
              "      <td>20000.0</td>\n",
              "    </tr>\n",
              "    <tr>\n",
              "      <th></th>\n",
              "      <td>1</td>\n",
              "      <td>Paul</td>\n",
              "      <td>32</td>\n",
              "      <td>California</td>\n",
              "      <td>25000.0</td>\n",
              "    </tr>\n",
              "    <tr>\n",
              "      <th></th>\n",
              "      <td>8</td>\n",
              "      <td>Paul</td>\n",
              "      <td>24</td>\n",
              "      <td>Houston</td>\n",
              "      <td>20000.0</td>\n",
              "    </tr>\n",
              "    <tr>\n",
              "      <th></th>\n",
              "      <td>4</td>\n",
              "      <td>Mark</td>\n",
              "      <td>25</td>\n",
              "      <td>Rich-Mond</td>\n",
              "      <td>65000.0</td>\n",
              "    </tr>\n",
              "    <tr>\n",
              "      <th></th>\n",
              "      <td>6</td>\n",
              "      <td>Kim</td>\n",
              "      <td>22</td>\n",
              "      <td>South-Hall</td>\n",
              "      <td>45000.0</td>\n",
              "    </tr>\n",
              "    <tr>\n",
              "      <th></th>\n",
              "      <td>7</td>\n",
              "      <td>James</td>\n",
              "      <td>24</td>\n",
              "      <td>Houston</td>\n",
              "      <td>10000.0</td>\n",
              "    </tr>\n",
              "    <tr>\n",
              "      <th></th>\n",
              "      <td>9</td>\n",
              "      <td>James</td>\n",
              "      <td>44</td>\n",
              "      <td>Norway</td>\n",
              "      <td>5000.0</td>\n",
              "    </tr>\n",
              "    <tr>\n",
              "      <th></th>\n",
              "      <td>5</td>\n",
              "      <td>David</td>\n",
              "      <td>27</td>\n",
              "      <td>Texas</td>\n",
              "      <td>85000.0</td>\n",
              "    </tr>\n",
              "  </tbody>\n",
              "</table>\n",
              "</div>"
            ],
            "text/plain": [
              "  ID   NAME  AGE     ADDRESS   SALARY\n",
              "   3  Teddy   23      Norway  20000.0\n",
              "   1   Paul   32  California  25000.0\n",
              "   8   Paul   24     Houston  20000.0\n",
              "   4   Mark   25  Rich-Mond   65000.0\n",
              "   6    Kim   22  South-Hall  45000.0\n",
              "   7  James   24     Houston  10000.0\n",
              "   9  James   44      Norway   5000.0\n",
              "   5  David   27       Texas  85000.0"
            ]
          },
          "metadata": {
            "tags": []
          },
          "execution_count": 40
        }
      ]
    },
    {
      "cell_type": "markdown",
      "metadata": {
        "id": "wmCKjtcP6AX7",
        "colab_type": "text"
      },
      "source": [
        "# ประโยค GROUP BY"
      ]
    },
    {
      "cell_type": "markdown",
      "metadata": {
        "id": "WV9LwUau4j24",
        "colab_type": "text"
      },
      "source": [
        "**ตัวอย่างใช้ GROUP BY**"
      ]
    },
    {
      "cell_type": "code",
      "metadata": {
        "id": "HCKUjMEE5zKh",
        "colab_type": "code",
        "outputId": "46cf6e86-9d76-438a-cb67-b28b9cfb66cb",
        "colab": {
          "base_uri": "https://localhost:8080/",
          "height": 252
        }
      },
      "source": [
        "conn = sqlite3.connect('test.db')\n",
        "\n",
        "cursor = conn.execute(\"SELECT NAME, SUM(SALARY) FROM COMPANY GROUP BY NAME\")\n",
        "df = get_data(cursor)\n",
        "\n",
        "conn.close()\n",
        "print(\"Operation done successfully\")\n",
        "df"
      ],
      "execution_count": 0,
      "outputs": [
        {
          "output_type": "stream",
          "text": [
            "Operation done successfully\n"
          ],
          "name": "stdout"
        },
        {
          "output_type": "execute_result",
          "data": {
            "text/html": [
              "<div>\n",
              "<style scoped>\n",
              "    .dataframe tbody tr th:only-of-type {\n",
              "        vertical-align: middle;\n",
              "    }\n",
              "\n",
              "    .dataframe tbody tr th {\n",
              "        vertical-align: top;\n",
              "    }\n",
              "\n",
              "    .dataframe thead th {\n",
              "        text-align: right;\n",
              "    }\n",
              "</style>\n",
              "<table border=\"1\" class=\"dataframe\">\n",
              "  <thead>\n",
              "    <tr style=\"text-align: right;\">\n",
              "      <th></th>\n",
              "      <th>NAME</th>\n",
              "      <th>SUM(SALARY)</th>\n",
              "    </tr>\n",
              "  </thead>\n",
              "  <tbody>\n",
              "    <tr>\n",
              "      <th></th>\n",
              "      <td>David</td>\n",
              "      <td>85000.0</td>\n",
              "    </tr>\n",
              "    <tr>\n",
              "      <th></th>\n",
              "      <td>James</td>\n",
              "      <td>15000.0</td>\n",
              "    </tr>\n",
              "    <tr>\n",
              "      <th></th>\n",
              "      <td>Kim</td>\n",
              "      <td>45000.0</td>\n",
              "    </tr>\n",
              "    <tr>\n",
              "      <th></th>\n",
              "      <td>Mark</td>\n",
              "      <td>65000.0</td>\n",
              "    </tr>\n",
              "    <tr>\n",
              "      <th></th>\n",
              "      <td>Paul</td>\n",
              "      <td>45000.0</td>\n",
              "    </tr>\n",
              "    <tr>\n",
              "      <th></th>\n",
              "      <td>Teddy</td>\n",
              "      <td>20000.0</td>\n",
              "    </tr>\n",
              "  </tbody>\n",
              "</table>\n",
              "</div>"
            ],
            "text/plain": [
              "   NAME  SUM(SALARY)\n",
              "  David      85000.0\n",
              "  James      15000.0\n",
              "    Kim      45000.0\n",
              "   Mark      65000.0\n",
              "   Paul      45000.0\n",
              "  Teddy      20000.0"
            ]
          },
          "metadata": {
            "tags": []
          },
          "execution_count": 41
        }
      ]
    },
    {
      "cell_type": "markdown",
      "metadata": {
        "id": "Wm08y-ia4gcK",
        "colab_type": "text"
      },
      "source": [
        "**ตัวอย่างใช้ GROUP BY ร่วมกับ ORDER BY**"
      ]
    },
    {
      "cell_type": "code",
      "metadata": {
        "id": "F_bBFEu17cPv",
        "colab_type": "code",
        "outputId": "f1e6063c-71ef-4761-9727-8b59fee68f7e",
        "colab": {
          "base_uri": "https://localhost:8080/",
          "height": 252
        }
      },
      "source": [
        "conn = sqlite3.connect('test.db')\n",
        "\n",
        "cursor = conn.execute(\"SELECT NAME, SUM(SALARY) FROM COMPANY GROUP BY NAME ORDER BY NAME\")\n",
        "df = get_data(cursor)\n",
        "\n",
        "conn.close()\n",
        "print(\"Operation done successfully\")\n",
        "df"
      ],
      "execution_count": 0,
      "outputs": [
        {
          "output_type": "stream",
          "text": [
            "Operation done successfully\n"
          ],
          "name": "stdout"
        },
        {
          "output_type": "execute_result",
          "data": {
            "text/html": [
              "<div>\n",
              "<style scoped>\n",
              "    .dataframe tbody tr th:only-of-type {\n",
              "        vertical-align: middle;\n",
              "    }\n",
              "\n",
              "    .dataframe tbody tr th {\n",
              "        vertical-align: top;\n",
              "    }\n",
              "\n",
              "    .dataframe thead th {\n",
              "        text-align: right;\n",
              "    }\n",
              "</style>\n",
              "<table border=\"1\" class=\"dataframe\">\n",
              "  <thead>\n",
              "    <tr style=\"text-align: right;\">\n",
              "      <th></th>\n",
              "      <th>NAME</th>\n",
              "      <th>SUM(SALARY)</th>\n",
              "    </tr>\n",
              "  </thead>\n",
              "  <tbody>\n",
              "    <tr>\n",
              "      <th></th>\n",
              "      <td>David</td>\n",
              "      <td>85000.0</td>\n",
              "    </tr>\n",
              "    <tr>\n",
              "      <th></th>\n",
              "      <td>James</td>\n",
              "      <td>15000.0</td>\n",
              "    </tr>\n",
              "    <tr>\n",
              "      <th></th>\n",
              "      <td>Kim</td>\n",
              "      <td>45000.0</td>\n",
              "    </tr>\n",
              "    <tr>\n",
              "      <th></th>\n",
              "      <td>Mark</td>\n",
              "      <td>65000.0</td>\n",
              "    </tr>\n",
              "    <tr>\n",
              "      <th></th>\n",
              "      <td>Paul</td>\n",
              "      <td>45000.0</td>\n",
              "    </tr>\n",
              "    <tr>\n",
              "      <th></th>\n",
              "      <td>Teddy</td>\n",
              "      <td>20000.0</td>\n",
              "    </tr>\n",
              "  </tbody>\n",
              "</table>\n",
              "</div>"
            ],
            "text/plain": [
              "   NAME  SUM(SALARY)\n",
              "  David      85000.0\n",
              "  James      15000.0\n",
              "    Kim      45000.0\n",
              "   Mark      65000.0\n",
              "   Paul      45000.0\n",
              "  Teddy      20000.0"
            ]
          },
          "metadata": {
            "tags": []
          },
          "execution_count": 42
        }
      ]
    },
    {
      "cell_type": "markdown",
      "metadata": {
        "id": "YDHHM6eZ4SlL",
        "colab_type": "text"
      },
      "source": [
        "**ตัวอย่างใช้ GROUP BY ร่วมกับ ORDER BY และ DESC**"
      ]
    },
    {
      "cell_type": "code",
      "metadata": {
        "id": "b6plgEje8RDi",
        "colab_type": "code",
        "outputId": "05171264-8cbc-4e61-94e8-d4917d37c1cf",
        "colab": {
          "base_uri": "https://localhost:8080/",
          "height": 252
        }
      },
      "source": [
        "conn = sqlite3.connect('test.db')\n",
        "\n",
        "cursor = conn.execute(\"SELECT NAME, SUM(SALARY) FROM COMPANY GROUP BY NAME ORDER BY NAME DESC\")\n",
        "df = get_data(cursor)\n",
        "\n",
        "conn.close()\n",
        "print(\"Operation done successfully\")\n",
        "df"
      ],
      "execution_count": 0,
      "outputs": [
        {
          "output_type": "stream",
          "text": [
            "Operation done successfully\n"
          ],
          "name": "stdout"
        },
        {
          "output_type": "execute_result",
          "data": {
            "text/html": [
              "<div>\n",
              "<style scoped>\n",
              "    .dataframe tbody tr th:only-of-type {\n",
              "        vertical-align: middle;\n",
              "    }\n",
              "\n",
              "    .dataframe tbody tr th {\n",
              "        vertical-align: top;\n",
              "    }\n",
              "\n",
              "    .dataframe thead th {\n",
              "        text-align: right;\n",
              "    }\n",
              "</style>\n",
              "<table border=\"1\" class=\"dataframe\">\n",
              "  <thead>\n",
              "    <tr style=\"text-align: right;\">\n",
              "      <th></th>\n",
              "      <th>NAME</th>\n",
              "      <th>SUM(SALARY)</th>\n",
              "    </tr>\n",
              "  </thead>\n",
              "  <tbody>\n",
              "    <tr>\n",
              "      <th></th>\n",
              "      <td>Teddy</td>\n",
              "      <td>20000.0</td>\n",
              "    </tr>\n",
              "    <tr>\n",
              "      <th></th>\n",
              "      <td>Paul</td>\n",
              "      <td>45000.0</td>\n",
              "    </tr>\n",
              "    <tr>\n",
              "      <th></th>\n",
              "      <td>Mark</td>\n",
              "      <td>65000.0</td>\n",
              "    </tr>\n",
              "    <tr>\n",
              "      <th></th>\n",
              "      <td>Kim</td>\n",
              "      <td>45000.0</td>\n",
              "    </tr>\n",
              "    <tr>\n",
              "      <th></th>\n",
              "      <td>James</td>\n",
              "      <td>15000.0</td>\n",
              "    </tr>\n",
              "    <tr>\n",
              "      <th></th>\n",
              "      <td>David</td>\n",
              "      <td>85000.0</td>\n",
              "    </tr>\n",
              "  </tbody>\n",
              "</table>\n",
              "</div>"
            ],
            "text/plain": [
              "   NAME  SUM(SALARY)\n",
              "  Teddy      20000.0\n",
              "   Paul      45000.0\n",
              "   Mark      65000.0\n",
              "    Kim      45000.0\n",
              "  James      15000.0\n",
              "  David      85000.0"
            ]
          },
          "metadata": {
            "tags": []
          },
          "execution_count": 43
        }
      ]
    },
    {
      "cell_type": "markdown",
      "metadata": {
        "id": "BB_pYIIacbOn",
        "colab_type": "text"
      },
      "source": [
        "# ประโยค Having\n",
        "\n",
        "\n",
        "---\n",
        "\n"
      ]
    },
    {
      "cell_type": "markdown",
      "metadata": {
        "id": "doYBjzv04rmU",
        "colab_type": "text"
      },
      "source": [
        "**ตัวอย่างใช้ count**"
      ]
    },
    {
      "cell_type": "code",
      "metadata": {
        "id": "0LyAJJm3cc8Z",
        "colab_type": "code",
        "outputId": "5a59d940-ca86-45d5-ea4e-21dfa4934b23",
        "colab": {
          "base_uri": "https://localhost:8080/",
          "height": 190
        }
      },
      "source": [
        "conn = sqlite3.connect('test.db')\n",
        "\n",
        "cursor = conn.execute(\"SELECT * FROM COMPANY GROUP BY name HAVING count(name) < 2\")\n",
        "df = get_data(cursor)\n",
        "\n",
        "conn.close()\n",
        "print(\"Operation done successfully\")\n",
        "df"
      ],
      "execution_count": 0,
      "outputs": [
        {
          "output_type": "stream",
          "text": [
            "Operation done successfully\n"
          ],
          "name": "stdout"
        },
        {
          "output_type": "execute_result",
          "data": {
            "text/html": [
              "<div>\n",
              "<style scoped>\n",
              "    .dataframe tbody tr th:only-of-type {\n",
              "        vertical-align: middle;\n",
              "    }\n",
              "\n",
              "    .dataframe tbody tr th {\n",
              "        vertical-align: top;\n",
              "    }\n",
              "\n",
              "    .dataframe thead th {\n",
              "        text-align: right;\n",
              "    }\n",
              "</style>\n",
              "<table border=\"1\" class=\"dataframe\">\n",
              "  <thead>\n",
              "    <tr style=\"text-align: right;\">\n",
              "      <th></th>\n",
              "      <th>ID</th>\n",
              "      <th>NAME</th>\n",
              "      <th>AGE</th>\n",
              "      <th>ADDRESS</th>\n",
              "      <th>SALARY</th>\n",
              "    </tr>\n",
              "  </thead>\n",
              "  <tbody>\n",
              "    <tr>\n",
              "      <th></th>\n",
              "      <td>5</td>\n",
              "      <td>David</td>\n",
              "      <td>27</td>\n",
              "      <td>Texas</td>\n",
              "      <td>85000.0</td>\n",
              "    </tr>\n",
              "    <tr>\n",
              "      <th></th>\n",
              "      <td>6</td>\n",
              "      <td>Kim</td>\n",
              "      <td>22</td>\n",
              "      <td>South-Hall</td>\n",
              "      <td>45000.0</td>\n",
              "    </tr>\n",
              "    <tr>\n",
              "      <th></th>\n",
              "      <td>4</td>\n",
              "      <td>Mark</td>\n",
              "      <td>25</td>\n",
              "      <td>Rich-Mond</td>\n",
              "      <td>65000.0</td>\n",
              "    </tr>\n",
              "    <tr>\n",
              "      <th></th>\n",
              "      <td>3</td>\n",
              "      <td>Teddy</td>\n",
              "      <td>23</td>\n",
              "      <td>Norway</td>\n",
              "      <td>20000.0</td>\n",
              "    </tr>\n",
              "  </tbody>\n",
              "</table>\n",
              "</div>"
            ],
            "text/plain": [
              "  ID   NAME  AGE     ADDRESS   SALARY\n",
              "   5  David   27       Texas  85000.0\n",
              "   6    Kim   22  South-Hall  45000.0\n",
              "   4   Mark   25  Rich-Mond   65000.0\n",
              "   3  Teddy   23      Norway  20000.0"
            ]
          },
          "metadata": {
            "tags": []
          },
          "execution_count": 44
        }
      ]
    },
    {
      "cell_type": "markdown",
      "metadata": {
        "id": "e4O4lTkm4vyY",
        "colab_type": "text"
      },
      "source": [
        "**ตัวอย่างใช้ count**"
      ]
    },
    {
      "cell_type": "code",
      "metadata": {
        "id": "txW5OxdLcrgW",
        "colab_type": "code",
        "outputId": "30d2b99c-10a1-4f46-af06-29cd901082db",
        "colab": {
          "base_uri": "https://localhost:8080/",
          "height": 66
        }
      },
      "source": [
        "conn = sqlite3.connect('test.db')\n",
        "\n",
        "cursor = conn.execute(\"SELECT * FROM COMPANY GROUP BY name HAVING count(name) > 2\")\n",
        "df = get_data(cursor)\n",
        "\n",
        "conn.close()\n",
        "print(\"Operation done successfully\")\n",
        "df"
      ],
      "execution_count": 0,
      "outputs": [
        {
          "output_type": "stream",
          "text": [
            "Operation done successfully\n"
          ],
          "name": "stdout"
        },
        {
          "output_type": "execute_result",
          "data": {
            "text/html": [
              "<div>\n",
              "<style scoped>\n",
              "    .dataframe tbody tr th:only-of-type {\n",
              "        vertical-align: middle;\n",
              "    }\n",
              "\n",
              "    .dataframe tbody tr th {\n",
              "        vertical-align: top;\n",
              "    }\n",
              "\n",
              "    .dataframe thead th {\n",
              "        text-align: right;\n",
              "    }\n",
              "</style>\n",
              "<table border=\"1\" class=\"dataframe\">\n",
              "  <thead>\n",
              "    <tr style=\"text-align: right;\">\n",
              "      <th></th>\n",
              "      <th>ID</th>\n",
              "      <th>NAME</th>\n",
              "      <th>AGE</th>\n",
              "      <th>ADDRESS</th>\n",
              "      <th>SALARY</th>\n",
              "    </tr>\n",
              "  </thead>\n",
              "  <tbody>\n",
              "  </tbody>\n",
              "</table>\n",
              "</div>"
            ],
            "text/plain": [
              "Empty DataFrame\n",
              "Columns: [ID, NAME, AGE, ADDRESS, SALARY]\n",
              "Index: []"
            ]
          },
          "metadata": {
            "tags": []
          },
          "execution_count": 45
        }
      ]
    },
    {
      "cell_type": "markdown",
      "metadata": {
        "id": "7kU9-RFpc336",
        "colab_type": "text"
      },
      "source": [
        "# JOIN\n",
        "\n",
        "\n",
        "---\n",
        "\n"
      ]
    },
    {
      "cell_type": "markdown",
      "metadata": {
        "id": "XBG-E_vPdOT8",
        "colab_type": "text"
      },
      "source": [
        "## สร้าง Table ขึ้นมาใหม่"
      ]
    },
    {
      "cell_type": "code",
      "metadata": {
        "id": "AnWG5BYbc5uK",
        "colab_type": "code",
        "outputId": "19d9e015-14e8-423b-9d74-2608ad389cfa",
        "colab": {
          "base_uri": "https://localhost:8080/",
          "height": 34
        }
      },
      "source": [
        "conn = sqlite3.connect('test.db')\n",
        "\n",
        "with conn:\n",
        "  conn.execute('''CREATE TABLE DEPARTMENT(\n",
        "   ID INT PRIMARY KEY      NOT NULL,\n",
        "   DEPT           CHAR(50) NOT NULL,\n",
        "   EMP_ID         INT      NOT NULL\n",
        "  );''')\n",
        "\n",
        "conn.close()\n",
        "print(\"Table created successfully\")"
      ],
      "execution_count": 0,
      "outputs": [
        {
          "output_type": "stream",
          "text": [
            "Table created successfully\n"
          ],
          "name": "stdout"
        }
      ]
    },
    {
      "cell_type": "markdown",
      "metadata": {
        "id": "bEUK6tijd-jo",
        "colab_type": "text"
      },
      "source": [
        "## เพิ่ม Record ใหม่ลงไป"
      ]
    },
    {
      "cell_type": "code",
      "metadata": {
        "id": "fUas5-mNeET9",
        "colab_type": "code",
        "outputId": "18bcb8de-c277-4f5d-ee03-19d97db2c092",
        "colab": {
          "base_uri": "https://localhost:8080/",
          "height": 34
        }
      },
      "source": [
        "conn = sqlite3.connect('test.db')\n",
        "\n",
        "with conn:\n",
        "  conn.execute(\"INSERT INTO DEPARTMENT (ID, DEPT, EMP_ID) \\\n",
        "  VALUES (1, 'IT Billing', 1 )\")\n",
        "\n",
        "  conn.execute(\"INSERT INTO DEPARTMENT (ID, DEPT, EMP_ID) \\\n",
        "  VALUES (2, 'Engineering', 2 )\")\n",
        "\n",
        "  conn.execute(\"INSERT INTO DEPARTMENT (ID, DEPT, EMP_ID) \\\n",
        "  VALUES (3, 'Finance', 7 )\")\n",
        "\n",
        "conn.close()\n",
        "print(\"Records created successfully\")"
      ],
      "execution_count": 0,
      "outputs": [
        {
          "output_type": "stream",
          "text": [
            "Records created successfully\n"
          ],
          "name": "stdout"
        }
      ]
    },
    {
      "cell_type": "markdown",
      "metadata": {
        "id": "aHqqse_pgXyR",
        "colab_type": "text"
      },
      "source": [
        "## ลองแสดงข้อมูลอง DEPARTMENT"
      ]
    },
    {
      "cell_type": "code",
      "metadata": {
        "id": "8cCMDwDUgftX",
        "colab_type": "code",
        "outputId": "e4ca6653-6ae2-4e0e-ad63-49b0be79140c",
        "colab": {
          "base_uri": "https://localhost:8080/",
          "height": 159
        }
      },
      "source": [
        "conn = sqlite3.connect('test.db')\n",
        "\n",
        "cursor = conn.execute(\"SELECT id, DEPT, EMP_ID from DEPARTMENT\")\n",
        "df = get_data(cursor)\n",
        "\n",
        "conn.close()\n",
        "print(\"Operation done successfully\")\n",
        "df"
      ],
      "execution_count": 0,
      "outputs": [
        {
          "output_type": "stream",
          "text": [
            "Operation done successfully\n"
          ],
          "name": "stdout"
        },
        {
          "output_type": "execute_result",
          "data": {
            "text/html": [
              "<div>\n",
              "<style scoped>\n",
              "    .dataframe tbody tr th:only-of-type {\n",
              "        vertical-align: middle;\n",
              "    }\n",
              "\n",
              "    .dataframe tbody tr th {\n",
              "        vertical-align: top;\n",
              "    }\n",
              "\n",
              "    .dataframe thead th {\n",
              "        text-align: right;\n",
              "    }\n",
              "</style>\n",
              "<table border=\"1\" class=\"dataframe\">\n",
              "  <thead>\n",
              "    <tr style=\"text-align: right;\">\n",
              "      <th></th>\n",
              "      <th>ID</th>\n",
              "      <th>DEPT</th>\n",
              "      <th>EMP_ID</th>\n",
              "    </tr>\n",
              "  </thead>\n",
              "  <tbody>\n",
              "    <tr>\n",
              "      <th></th>\n",
              "      <td>1</td>\n",
              "      <td>IT Billing</td>\n",
              "      <td>1</td>\n",
              "    </tr>\n",
              "    <tr>\n",
              "      <th></th>\n",
              "      <td>2</td>\n",
              "      <td>Engineering</td>\n",
              "      <td>2</td>\n",
              "    </tr>\n",
              "    <tr>\n",
              "      <th></th>\n",
              "      <td>3</td>\n",
              "      <td>Finance</td>\n",
              "      <td>7</td>\n",
              "    </tr>\n",
              "  </tbody>\n",
              "</table>\n",
              "</div>"
            ],
            "text/plain": [
              "  ID         DEPT  EMP_ID\n",
              "   1   IT Billing       1\n",
              "   2  Engineering       2\n",
              "   3      Finance       7"
            ]
          },
          "metadata": {
            "tags": []
          },
          "execution_count": 48
        }
      ]
    },
    {
      "cell_type": "markdown",
      "metadata": {
        "id": "HK12Cjw8oO9d",
        "colab_type": "text"
      },
      "source": [
        "## Cross Join"
      ]
    },
    {
      "cell_type": "code",
      "metadata": {
        "id": "G620MLkRn7e9",
        "colab_type": "code",
        "outputId": "6c24ec88-aede-44f7-e1a5-5e8487b0702a",
        "colab": {
          "base_uri": "https://localhost:8080/",
          "height": 810
        }
      },
      "source": [
        "conn = sqlite3.connect('test.db')\n",
        "\n",
        "cursor = conn.execute(\"SELECT EMP_ID, NAME, DEPT FROM COMPANY CROSS JOIN DEPARTMENT\")\n",
        "df = get_data(cursor)\n",
        "\n",
        "print(\"Operation done successfully\")\n",
        "conn.close()\n",
        "df"
      ],
      "execution_count": 0,
      "outputs": [
        {
          "output_type": "stream",
          "text": [
            "Operation done successfully\n"
          ],
          "name": "stdout"
        },
        {
          "output_type": "execute_result",
          "data": {
            "text/html": [
              "<div>\n",
              "<style scoped>\n",
              "    .dataframe tbody tr th:only-of-type {\n",
              "        vertical-align: middle;\n",
              "    }\n",
              "\n",
              "    .dataframe tbody tr th {\n",
              "        vertical-align: top;\n",
              "    }\n",
              "\n",
              "    .dataframe thead th {\n",
              "        text-align: right;\n",
              "    }\n",
              "</style>\n",
              "<table border=\"1\" class=\"dataframe\">\n",
              "  <thead>\n",
              "    <tr style=\"text-align: right;\">\n",
              "      <th></th>\n",
              "      <th>EMP_ID</th>\n",
              "      <th>NAME</th>\n",
              "      <th>DEPT</th>\n",
              "    </tr>\n",
              "  </thead>\n",
              "  <tbody>\n",
              "    <tr>\n",
              "      <th></th>\n",
              "      <td>1</td>\n",
              "      <td>Paul</td>\n",
              "      <td>IT Billing</td>\n",
              "    </tr>\n",
              "    <tr>\n",
              "      <th></th>\n",
              "      <td>2</td>\n",
              "      <td>Paul</td>\n",
              "      <td>Engineering</td>\n",
              "    </tr>\n",
              "    <tr>\n",
              "      <th></th>\n",
              "      <td>7</td>\n",
              "      <td>Paul</td>\n",
              "      <td>Finance</td>\n",
              "    </tr>\n",
              "    <tr>\n",
              "      <th></th>\n",
              "      <td>1</td>\n",
              "      <td>Teddy</td>\n",
              "      <td>IT Billing</td>\n",
              "    </tr>\n",
              "    <tr>\n",
              "      <th></th>\n",
              "      <td>2</td>\n",
              "      <td>Teddy</td>\n",
              "      <td>Engineering</td>\n",
              "    </tr>\n",
              "    <tr>\n",
              "      <th></th>\n",
              "      <td>7</td>\n",
              "      <td>Teddy</td>\n",
              "      <td>Finance</td>\n",
              "    </tr>\n",
              "    <tr>\n",
              "      <th></th>\n",
              "      <td>1</td>\n",
              "      <td>Mark</td>\n",
              "      <td>IT Billing</td>\n",
              "    </tr>\n",
              "    <tr>\n",
              "      <th></th>\n",
              "      <td>2</td>\n",
              "      <td>Mark</td>\n",
              "      <td>Engineering</td>\n",
              "    </tr>\n",
              "    <tr>\n",
              "      <th></th>\n",
              "      <td>7</td>\n",
              "      <td>Mark</td>\n",
              "      <td>Finance</td>\n",
              "    </tr>\n",
              "    <tr>\n",
              "      <th></th>\n",
              "      <td>1</td>\n",
              "      <td>David</td>\n",
              "      <td>IT Billing</td>\n",
              "    </tr>\n",
              "    <tr>\n",
              "      <th></th>\n",
              "      <td>2</td>\n",
              "      <td>David</td>\n",
              "      <td>Engineering</td>\n",
              "    </tr>\n",
              "    <tr>\n",
              "      <th></th>\n",
              "      <td>7</td>\n",
              "      <td>David</td>\n",
              "      <td>Finance</td>\n",
              "    </tr>\n",
              "    <tr>\n",
              "      <th></th>\n",
              "      <td>1</td>\n",
              "      <td>Kim</td>\n",
              "      <td>IT Billing</td>\n",
              "    </tr>\n",
              "    <tr>\n",
              "      <th></th>\n",
              "      <td>2</td>\n",
              "      <td>Kim</td>\n",
              "      <td>Engineering</td>\n",
              "    </tr>\n",
              "    <tr>\n",
              "      <th></th>\n",
              "      <td>7</td>\n",
              "      <td>Kim</td>\n",
              "      <td>Finance</td>\n",
              "    </tr>\n",
              "    <tr>\n",
              "      <th></th>\n",
              "      <td>1</td>\n",
              "      <td>James</td>\n",
              "      <td>IT Billing</td>\n",
              "    </tr>\n",
              "    <tr>\n",
              "      <th></th>\n",
              "      <td>2</td>\n",
              "      <td>James</td>\n",
              "      <td>Engineering</td>\n",
              "    </tr>\n",
              "    <tr>\n",
              "      <th></th>\n",
              "      <td>7</td>\n",
              "      <td>James</td>\n",
              "      <td>Finance</td>\n",
              "    </tr>\n",
              "    <tr>\n",
              "      <th></th>\n",
              "      <td>1</td>\n",
              "      <td>Paul</td>\n",
              "      <td>IT Billing</td>\n",
              "    </tr>\n",
              "    <tr>\n",
              "      <th></th>\n",
              "      <td>2</td>\n",
              "      <td>Paul</td>\n",
              "      <td>Engineering</td>\n",
              "    </tr>\n",
              "    <tr>\n",
              "      <th></th>\n",
              "      <td>7</td>\n",
              "      <td>Paul</td>\n",
              "      <td>Finance</td>\n",
              "    </tr>\n",
              "    <tr>\n",
              "      <th></th>\n",
              "      <td>1</td>\n",
              "      <td>James</td>\n",
              "      <td>IT Billing</td>\n",
              "    </tr>\n",
              "    <tr>\n",
              "      <th></th>\n",
              "      <td>2</td>\n",
              "      <td>James</td>\n",
              "      <td>Engineering</td>\n",
              "    </tr>\n",
              "    <tr>\n",
              "      <th></th>\n",
              "      <td>7</td>\n",
              "      <td>James</td>\n",
              "      <td>Finance</td>\n",
              "    </tr>\n",
              "  </tbody>\n",
              "</table>\n",
              "</div>"
            ],
            "text/plain": [
              "  EMP_ID   NAME         DEPT\n",
              "       1   Paul   IT Billing\n",
              "       2   Paul  Engineering\n",
              "       7   Paul      Finance\n",
              "       1  Teddy   IT Billing\n",
              "       2  Teddy  Engineering\n",
              "       7  Teddy      Finance\n",
              "       1   Mark   IT Billing\n",
              "       2   Mark  Engineering\n",
              "       7   Mark      Finance\n",
              "       1  David   IT Billing\n",
              "       2  David  Engineering\n",
              "       7  David      Finance\n",
              "       1    Kim   IT Billing\n",
              "       2    Kim  Engineering\n",
              "       7    Kim      Finance\n",
              "       1  James   IT Billing\n",
              "       2  James  Engineering\n",
              "       7  James      Finance\n",
              "       1   Paul   IT Billing\n",
              "       2   Paul  Engineering\n",
              "       7   Paul      Finance\n",
              "       1  James   IT Billing\n",
              "       2  James  Engineering\n",
              "       7  James      Finance"
            ]
          },
          "metadata": {
            "tags": []
          },
          "execution_count": 49
        }
      ]
    },
    {
      "cell_type": "markdown",
      "metadata": {
        "id": "4ELH00I-oXIF",
        "colab_type": "text"
      },
      "source": [
        "## Inner Join"
      ]
    },
    {
      "cell_type": "code",
      "metadata": {
        "id": "Tci9bFdfoYuI",
        "colab_type": "code",
        "outputId": "34e8450b-8b8d-46ce-ce6a-34eb1479464f",
        "colab": {
          "base_uri": "https://localhost:8080/",
          "height": 128
        }
      },
      "source": [
        "conn = sqlite3.connect('test.db')\n",
        "\n",
        "cursor = conn.execute(\"SELECT EMP_ID, NAME, DEPT FROM COMPANY INNER JOIN DEPARTMENT \\\n",
        "   ON COMPANY.ID = DEPARTMENT.EMP_ID\")\n",
        "df = get_data(cursor)\n",
        "\n",
        "conn.close()\n",
        "print(\"Operation done successfully\")\n",
        "df"
      ],
      "execution_count": 0,
      "outputs": [
        {
          "output_type": "stream",
          "text": [
            "Operation done successfully\n"
          ],
          "name": "stdout"
        },
        {
          "output_type": "execute_result",
          "data": {
            "text/html": [
              "<div>\n",
              "<style scoped>\n",
              "    .dataframe tbody tr th:only-of-type {\n",
              "        vertical-align: middle;\n",
              "    }\n",
              "\n",
              "    .dataframe tbody tr th {\n",
              "        vertical-align: top;\n",
              "    }\n",
              "\n",
              "    .dataframe thead th {\n",
              "        text-align: right;\n",
              "    }\n",
              "</style>\n",
              "<table border=\"1\" class=\"dataframe\">\n",
              "  <thead>\n",
              "    <tr style=\"text-align: right;\">\n",
              "      <th></th>\n",
              "      <th>EMP_ID</th>\n",
              "      <th>NAME</th>\n",
              "      <th>DEPT</th>\n",
              "    </tr>\n",
              "  </thead>\n",
              "  <tbody>\n",
              "    <tr>\n",
              "      <th></th>\n",
              "      <td>1</td>\n",
              "      <td>Paul</td>\n",
              "      <td>IT Billing</td>\n",
              "    </tr>\n",
              "    <tr>\n",
              "      <th></th>\n",
              "      <td>7</td>\n",
              "      <td>James</td>\n",
              "      <td>Finance</td>\n",
              "    </tr>\n",
              "  </tbody>\n",
              "</table>\n",
              "</div>"
            ],
            "text/plain": [
              "  EMP_ID   NAME        DEPT\n",
              "       1   Paul  IT Billing\n",
              "       7  James     Finance"
            ]
          },
          "metadata": {
            "tags": []
          },
          "execution_count": 50
        }
      ]
    },
    {
      "cell_type": "markdown",
      "metadata": {
        "id": "xOSLdnHxo6Ww",
        "colab_type": "text"
      },
      "source": [
        "## Outer Join"
      ]
    },
    {
      "cell_type": "code",
      "metadata": {
        "id": "hunRs10Bof7w",
        "colab_type": "code",
        "outputId": "a9ab27ef-06fd-4e49-c810-481d8f40cd75",
        "colab": {
          "base_uri": "https://localhost:8080/",
          "height": 314
        }
      },
      "source": [
        "conn = sqlite3.connect('test.db')\n",
        "\n",
        "cursor = conn.execute(\"SELECT EMP_ID, NAME, DEPT FROM COMPANY LEFT OUTER JOIN DEPARTMENT \\\n",
        "   ON COMPANY.ID = DEPARTMENT.EMP_ID\")\n",
        "df = get_data(cursor)\n",
        "\n",
        "conn.close()\n",
        "print(\"Operation done successfully\")\n",
        "df"
      ],
      "execution_count": 0,
      "outputs": [
        {
          "output_type": "stream",
          "text": [
            "Operation done successfully\n"
          ],
          "name": "stdout"
        },
        {
          "output_type": "execute_result",
          "data": {
            "text/html": [
              "<div>\n",
              "<style scoped>\n",
              "    .dataframe tbody tr th:only-of-type {\n",
              "        vertical-align: middle;\n",
              "    }\n",
              "\n",
              "    .dataframe tbody tr th {\n",
              "        vertical-align: top;\n",
              "    }\n",
              "\n",
              "    .dataframe thead th {\n",
              "        text-align: right;\n",
              "    }\n",
              "</style>\n",
              "<table border=\"1\" class=\"dataframe\">\n",
              "  <thead>\n",
              "    <tr style=\"text-align: right;\">\n",
              "      <th></th>\n",
              "      <th>EMP_ID</th>\n",
              "      <th>NAME</th>\n",
              "      <th>DEPT</th>\n",
              "    </tr>\n",
              "  </thead>\n",
              "  <tbody>\n",
              "    <tr>\n",
              "      <th></th>\n",
              "      <td>1.0</td>\n",
              "      <td>Paul</td>\n",
              "      <td>IT Billing</td>\n",
              "    </tr>\n",
              "    <tr>\n",
              "      <th></th>\n",
              "      <td>NaN</td>\n",
              "      <td>Teddy</td>\n",
              "      <td>None</td>\n",
              "    </tr>\n",
              "    <tr>\n",
              "      <th></th>\n",
              "      <td>NaN</td>\n",
              "      <td>Mark</td>\n",
              "      <td>None</td>\n",
              "    </tr>\n",
              "    <tr>\n",
              "      <th></th>\n",
              "      <td>NaN</td>\n",
              "      <td>David</td>\n",
              "      <td>None</td>\n",
              "    </tr>\n",
              "    <tr>\n",
              "      <th></th>\n",
              "      <td>NaN</td>\n",
              "      <td>Kim</td>\n",
              "      <td>None</td>\n",
              "    </tr>\n",
              "    <tr>\n",
              "      <th></th>\n",
              "      <td>7.0</td>\n",
              "      <td>James</td>\n",
              "      <td>Finance</td>\n",
              "    </tr>\n",
              "    <tr>\n",
              "      <th></th>\n",
              "      <td>NaN</td>\n",
              "      <td>Paul</td>\n",
              "      <td>None</td>\n",
              "    </tr>\n",
              "    <tr>\n",
              "      <th></th>\n",
              "      <td>NaN</td>\n",
              "      <td>James</td>\n",
              "      <td>None</td>\n",
              "    </tr>\n",
              "  </tbody>\n",
              "</table>\n",
              "</div>"
            ],
            "text/plain": [
              "  EMP_ID   NAME        DEPT\n",
              "     1.0   Paul  IT Billing\n",
              "     NaN  Teddy        None\n",
              "     NaN   Mark        None\n",
              "     NaN  David        None\n",
              "     NaN    Kim        None\n",
              "     7.0  James     Finance\n",
              "     NaN   Paul        None\n",
              "     NaN  James        None"
            ]
          },
          "metadata": {
            "tags": []
          },
          "execution_count": 51
        }
      ]
    },
    {
      "cell_type": "markdown",
      "metadata": {
        "id": "y7D_JLaKrq1e",
        "colab_type": "text"
      },
      "source": [
        "# UNION"
      ]
    },
    {
      "cell_type": "markdown",
      "metadata": {
        "id": "BRce76Gs1cv1",
        "colab_type": "text"
      },
      "source": [
        "**ลองดูข้อมูลจาก COMPANY**"
      ]
    },
    {
      "cell_type": "code",
      "metadata": {
        "id": "M_Pe7bBVt9OT",
        "colab_type": "code",
        "outputId": "ffed6aa3-08d5-4244-e70c-7d5c676b71df",
        "colab": {
          "base_uri": "https://localhost:8080/",
          "height": 314
        }
      },
      "source": [
        "conn = sqlite3.connect('test.db')\n",
        "\n",
        "cursor = conn.execute(\"select * from COMPANY\")\n",
        "df = get_data(cursor)\n",
        "\n",
        "conn.close()\n",
        "print(\"Operation done successfully\")\n",
        "df\n"
      ],
      "execution_count": 0,
      "outputs": [
        {
          "output_type": "stream",
          "text": [
            "Operation done successfully\n"
          ],
          "name": "stdout"
        },
        {
          "output_type": "execute_result",
          "data": {
            "text/html": [
              "<div>\n",
              "<style scoped>\n",
              "    .dataframe tbody tr th:only-of-type {\n",
              "        vertical-align: middle;\n",
              "    }\n",
              "\n",
              "    .dataframe tbody tr th {\n",
              "        vertical-align: top;\n",
              "    }\n",
              "\n",
              "    .dataframe thead th {\n",
              "        text-align: right;\n",
              "    }\n",
              "</style>\n",
              "<table border=\"1\" class=\"dataframe\">\n",
              "  <thead>\n",
              "    <tr style=\"text-align: right;\">\n",
              "      <th></th>\n",
              "      <th>ID</th>\n",
              "      <th>NAME</th>\n",
              "      <th>AGE</th>\n",
              "      <th>ADDRESS</th>\n",
              "      <th>SALARY</th>\n",
              "    </tr>\n",
              "  </thead>\n",
              "  <tbody>\n",
              "    <tr>\n",
              "      <th></th>\n",
              "      <td>1</td>\n",
              "      <td>Paul</td>\n",
              "      <td>32</td>\n",
              "      <td>California</td>\n",
              "      <td>25000.0</td>\n",
              "    </tr>\n",
              "    <tr>\n",
              "      <th></th>\n",
              "      <td>3</td>\n",
              "      <td>Teddy</td>\n",
              "      <td>23</td>\n",
              "      <td>Norway</td>\n",
              "      <td>20000.0</td>\n",
              "    </tr>\n",
              "    <tr>\n",
              "      <th></th>\n",
              "      <td>4</td>\n",
              "      <td>Mark</td>\n",
              "      <td>25</td>\n",
              "      <td>Rich-Mond</td>\n",
              "      <td>65000.0</td>\n",
              "    </tr>\n",
              "    <tr>\n",
              "      <th></th>\n",
              "      <td>5</td>\n",
              "      <td>David</td>\n",
              "      <td>27</td>\n",
              "      <td>Texas</td>\n",
              "      <td>85000.0</td>\n",
              "    </tr>\n",
              "    <tr>\n",
              "      <th></th>\n",
              "      <td>6</td>\n",
              "      <td>Kim</td>\n",
              "      <td>22</td>\n",
              "      <td>South-Hall</td>\n",
              "      <td>45000.0</td>\n",
              "    </tr>\n",
              "    <tr>\n",
              "      <th></th>\n",
              "      <td>7</td>\n",
              "      <td>James</td>\n",
              "      <td>24</td>\n",
              "      <td>Houston</td>\n",
              "      <td>10000.0</td>\n",
              "    </tr>\n",
              "    <tr>\n",
              "      <th></th>\n",
              "      <td>8</td>\n",
              "      <td>Paul</td>\n",
              "      <td>24</td>\n",
              "      <td>Houston</td>\n",
              "      <td>20000.0</td>\n",
              "    </tr>\n",
              "    <tr>\n",
              "      <th></th>\n",
              "      <td>9</td>\n",
              "      <td>James</td>\n",
              "      <td>44</td>\n",
              "      <td>Norway</td>\n",
              "      <td>5000.0</td>\n",
              "    </tr>\n",
              "  </tbody>\n",
              "</table>\n",
              "</div>"
            ],
            "text/plain": [
              "  ID   NAME  AGE     ADDRESS   SALARY\n",
              "   1   Paul   32  California  25000.0\n",
              "   3  Teddy   23      Norway  20000.0\n",
              "   4   Mark   25  Rich-Mond   65000.0\n",
              "   5  David   27       Texas  85000.0\n",
              "   6    Kim   22  South-Hall  45000.0\n",
              "   7  James   24     Houston  10000.0\n",
              "   8   Paul   24     Houston  20000.0\n",
              "   9  James   44      Norway   5000.0"
            ]
          },
          "metadata": {
            "tags": []
          },
          "execution_count": 52
        }
      ]
    },
    {
      "cell_type": "markdown",
      "metadata": {
        "id": "ePdS7MUl1vkf",
        "colab_type": "text"
      },
      "source": [
        "**ลองดูข้อมูลใน DEPARTMENT**"
      ]
    },
    {
      "cell_type": "code",
      "metadata": {
        "id": "fAJGxhMTt-m2",
        "colab_type": "code",
        "outputId": "7054ae85-1fdd-436d-f210-1009da66cc19",
        "colab": {
          "base_uri": "https://localhost:8080/",
          "height": 159
        }
      },
      "source": [
        "conn = sqlite3.connect('test.db')\n",
        "\n",
        "cursor = conn.execute(\"select * from DEPARTMENT\")\n",
        "df = get_data(cursor)\n",
        "\n",
        "conn.close()\n",
        "print(\"Operation done successfully\")\n",
        "df\n"
      ],
      "execution_count": 0,
      "outputs": [
        {
          "output_type": "stream",
          "text": [
            "Operation done successfully\n"
          ],
          "name": "stdout"
        },
        {
          "output_type": "execute_result",
          "data": {
            "text/html": [
              "<div>\n",
              "<style scoped>\n",
              "    .dataframe tbody tr th:only-of-type {\n",
              "        vertical-align: middle;\n",
              "    }\n",
              "\n",
              "    .dataframe tbody tr th {\n",
              "        vertical-align: top;\n",
              "    }\n",
              "\n",
              "    .dataframe thead th {\n",
              "        text-align: right;\n",
              "    }\n",
              "</style>\n",
              "<table border=\"1\" class=\"dataframe\">\n",
              "  <thead>\n",
              "    <tr style=\"text-align: right;\">\n",
              "      <th></th>\n",
              "      <th>ID</th>\n",
              "      <th>DEPT</th>\n",
              "      <th>EMP_ID</th>\n",
              "    </tr>\n",
              "  </thead>\n",
              "  <tbody>\n",
              "    <tr>\n",
              "      <th></th>\n",
              "      <td>1</td>\n",
              "      <td>IT Billing</td>\n",
              "      <td>1</td>\n",
              "    </tr>\n",
              "    <tr>\n",
              "      <th></th>\n",
              "      <td>2</td>\n",
              "      <td>Engineering</td>\n",
              "      <td>2</td>\n",
              "    </tr>\n",
              "    <tr>\n",
              "      <th></th>\n",
              "      <td>3</td>\n",
              "      <td>Finance</td>\n",
              "      <td>7</td>\n",
              "    </tr>\n",
              "  </tbody>\n",
              "</table>\n",
              "</div>"
            ],
            "text/plain": [
              "  ID         DEPT  EMP_ID\n",
              "   1   IT Billing       1\n",
              "   2  Engineering       2\n",
              "   3      Finance       7"
            ]
          },
          "metadata": {
            "tags": []
          },
          "execution_count": 53
        }
      ]
    },
    {
      "cell_type": "markdown",
      "metadata": {
        "id": "oPCIkTvo5AW1",
        "colab_type": "text"
      },
      "source": [
        "## ตัวอย่างใช้ UNION"
      ]
    },
    {
      "cell_type": "code",
      "metadata": {
        "id": "0DAZ3rzVrsTN",
        "colab_type": "code",
        "outputId": "7f9edfd5-25fe-400e-cc62-6007fda3ec68",
        "colab": {
          "base_uri": "https://localhost:8080/",
          "height": 314
        }
      },
      "source": [
        "conn = sqlite3.connect('test.db')\n",
        "\n",
        "cursor = conn.execute('''SELECT EMP_ID, NAME, DEPT FROM COMPANY INNER JOIN DEPARTMENT\n",
        "         ON COMPANY.ID = DEPARTMENT.EMP_ID\n",
        "         \n",
        "         UNION\n",
        "         \n",
        "         SELECT EMP_ID, NAME, DEPT FROM COMPANY LEFT OUTER JOIN DEPARTMENT\n",
        "         ON COMPANY.ID = DEPARTMENT.EMP_ID''')\n",
        "\n",
        "df = get_data(cursor)\n",
        "\n",
        "conn.close()\n",
        "print(\"Operation done successfully\")\n",
        "df"
      ],
      "execution_count": 0,
      "outputs": [
        {
          "output_type": "stream",
          "text": [
            "Operation done successfully\n"
          ],
          "name": "stdout"
        },
        {
          "output_type": "execute_result",
          "data": {
            "text/html": [
              "<div>\n",
              "<style scoped>\n",
              "    .dataframe tbody tr th:only-of-type {\n",
              "        vertical-align: middle;\n",
              "    }\n",
              "\n",
              "    .dataframe tbody tr th {\n",
              "        vertical-align: top;\n",
              "    }\n",
              "\n",
              "    .dataframe thead th {\n",
              "        text-align: right;\n",
              "    }\n",
              "</style>\n",
              "<table border=\"1\" class=\"dataframe\">\n",
              "  <thead>\n",
              "    <tr style=\"text-align: right;\">\n",
              "      <th></th>\n",
              "      <th>EMP_ID</th>\n",
              "      <th>NAME</th>\n",
              "      <th>DEPT</th>\n",
              "    </tr>\n",
              "  </thead>\n",
              "  <tbody>\n",
              "    <tr>\n",
              "      <th></th>\n",
              "      <td>NaN</td>\n",
              "      <td>David</td>\n",
              "      <td>None</td>\n",
              "    </tr>\n",
              "    <tr>\n",
              "      <th></th>\n",
              "      <td>NaN</td>\n",
              "      <td>James</td>\n",
              "      <td>None</td>\n",
              "    </tr>\n",
              "    <tr>\n",
              "      <th></th>\n",
              "      <td>NaN</td>\n",
              "      <td>Kim</td>\n",
              "      <td>None</td>\n",
              "    </tr>\n",
              "    <tr>\n",
              "      <th></th>\n",
              "      <td>NaN</td>\n",
              "      <td>Mark</td>\n",
              "      <td>None</td>\n",
              "    </tr>\n",
              "    <tr>\n",
              "      <th></th>\n",
              "      <td>NaN</td>\n",
              "      <td>Paul</td>\n",
              "      <td>None</td>\n",
              "    </tr>\n",
              "    <tr>\n",
              "      <th></th>\n",
              "      <td>NaN</td>\n",
              "      <td>Teddy</td>\n",
              "      <td>None</td>\n",
              "    </tr>\n",
              "    <tr>\n",
              "      <th></th>\n",
              "      <td>1.0</td>\n",
              "      <td>Paul</td>\n",
              "      <td>IT Billing</td>\n",
              "    </tr>\n",
              "    <tr>\n",
              "      <th></th>\n",
              "      <td>7.0</td>\n",
              "      <td>James</td>\n",
              "      <td>Finance</td>\n",
              "    </tr>\n",
              "  </tbody>\n",
              "</table>\n",
              "</div>"
            ],
            "text/plain": [
              "  EMP_ID   NAME        DEPT\n",
              "     NaN  David        None\n",
              "     NaN  James        None\n",
              "     NaN    Kim        None\n",
              "     NaN   Mark        None\n",
              "     NaN   Paul        None\n",
              "     NaN  Teddy        None\n",
              "     1.0   Paul  IT Billing\n",
              "     7.0  James     Finance"
            ]
          },
          "metadata": {
            "tags": []
          },
          "execution_count": 54
        }
      ]
    },
    {
      "cell_type": "markdown",
      "metadata": {
        "id": "ZXyCIMptsDZp",
        "colab_type": "text"
      },
      "source": [
        "## ตัวอย่างใช้ UNION ALL "
      ]
    },
    {
      "cell_type": "code",
      "metadata": {
        "id": "eKMJct2QsE7Q",
        "colab_type": "code",
        "outputId": "8af5da34-4096-4615-bb3a-50f34901c4e8",
        "colab": {
          "base_uri": "https://localhost:8080/",
          "height": 376
        }
      },
      "source": [
        "conn = sqlite3.connect('test.db')\n",
        "\n",
        "cursor = conn.execute('''SELECT EMP_ID, NAME, DEPT FROM COMPANY INNER JOIN DEPARTMENT\n",
        "         ON COMPANY.ID = DEPARTMENT.EMP_ID\n",
        "         \n",
        "         UNION ALL\n",
        "\n",
        "         SELECT EMP_ID, NAME, DEPT FROM COMPANY LEFT OUTER JOIN DEPARTMENT\n",
        "         ON COMPANY.ID = DEPARTMENT.EMP_ID;''')\n",
        "\n",
        "df = get_data(cursor)\n",
        "\n",
        "conn.close()\n",
        "print(\"Operation done successfully\")\n",
        "df"
      ],
      "execution_count": 0,
      "outputs": [
        {
          "output_type": "stream",
          "text": [
            "Operation done successfully\n"
          ],
          "name": "stdout"
        },
        {
          "output_type": "execute_result",
          "data": {
            "text/html": [
              "<div>\n",
              "<style scoped>\n",
              "    .dataframe tbody tr th:only-of-type {\n",
              "        vertical-align: middle;\n",
              "    }\n",
              "\n",
              "    .dataframe tbody tr th {\n",
              "        vertical-align: top;\n",
              "    }\n",
              "\n",
              "    .dataframe thead th {\n",
              "        text-align: right;\n",
              "    }\n",
              "</style>\n",
              "<table border=\"1\" class=\"dataframe\">\n",
              "  <thead>\n",
              "    <tr style=\"text-align: right;\">\n",
              "      <th></th>\n",
              "      <th>EMP_ID</th>\n",
              "      <th>NAME</th>\n",
              "      <th>DEPT</th>\n",
              "    </tr>\n",
              "  </thead>\n",
              "  <tbody>\n",
              "    <tr>\n",
              "      <th></th>\n",
              "      <td>1.0</td>\n",
              "      <td>Paul</td>\n",
              "      <td>IT Billing</td>\n",
              "    </tr>\n",
              "    <tr>\n",
              "      <th></th>\n",
              "      <td>7.0</td>\n",
              "      <td>James</td>\n",
              "      <td>Finance</td>\n",
              "    </tr>\n",
              "    <tr>\n",
              "      <th></th>\n",
              "      <td>1.0</td>\n",
              "      <td>Paul</td>\n",
              "      <td>IT Billing</td>\n",
              "    </tr>\n",
              "    <tr>\n",
              "      <th></th>\n",
              "      <td>NaN</td>\n",
              "      <td>Teddy</td>\n",
              "      <td>None</td>\n",
              "    </tr>\n",
              "    <tr>\n",
              "      <th></th>\n",
              "      <td>NaN</td>\n",
              "      <td>Mark</td>\n",
              "      <td>None</td>\n",
              "    </tr>\n",
              "    <tr>\n",
              "      <th></th>\n",
              "      <td>NaN</td>\n",
              "      <td>David</td>\n",
              "      <td>None</td>\n",
              "    </tr>\n",
              "    <tr>\n",
              "      <th></th>\n",
              "      <td>NaN</td>\n",
              "      <td>Kim</td>\n",
              "      <td>None</td>\n",
              "    </tr>\n",
              "    <tr>\n",
              "      <th></th>\n",
              "      <td>7.0</td>\n",
              "      <td>James</td>\n",
              "      <td>Finance</td>\n",
              "    </tr>\n",
              "    <tr>\n",
              "      <th></th>\n",
              "      <td>NaN</td>\n",
              "      <td>Paul</td>\n",
              "      <td>None</td>\n",
              "    </tr>\n",
              "    <tr>\n",
              "      <th></th>\n",
              "      <td>NaN</td>\n",
              "      <td>James</td>\n",
              "      <td>None</td>\n",
              "    </tr>\n",
              "  </tbody>\n",
              "</table>\n",
              "</div>"
            ],
            "text/plain": [
              "  EMP_ID   NAME        DEPT\n",
              "     1.0   Paul  IT Billing\n",
              "     7.0  James     Finance\n",
              "     1.0   Paul  IT Billing\n",
              "     NaN  Teddy        None\n",
              "     NaN   Mark        None\n",
              "     NaN  David        None\n",
              "     NaN    Kim        None\n",
              "     7.0  James     Finance\n",
              "     NaN   Paul        None\n",
              "     NaN  James        None"
            ]
          },
          "metadata": {
            "tags": []
          },
          "execution_count": 55
        }
      ]
    },
    {
      "cell_type": "markdown",
      "metadata": {
        "id": "epXYvMH1YV4S",
        "colab_type": "text"
      },
      "source": [
        "# ใช้ ALIAS อ้างอิง Table หรือคอลัมน์เสียใหม่"
      ]
    },
    {
      "cell_type": "markdown",
      "metadata": {
        "id": "OtKsTp_eZmvA",
        "colab_type": "text"
      },
      "source": [
        "## ตัวอย่างต้งชื่ออ้างอิง Tale"
      ]
    },
    {
      "cell_type": "code",
      "metadata": {
        "id": "rIfnGqLCYfQQ",
        "colab_type": "code",
        "outputId": "060ab22c-78cc-43da-dce5-e976672fda78",
        "colab": {
          "base_uri": "https://localhost:8080/",
          "height": 128
        }
      },
      "source": [
        "conn = sqlite3.connect('test.db')\n",
        "\n",
        "cursor = conn.execute('''SELECT C.ID, C.NAME, C.AGE, D.DEPT\n",
        "                FROM COMPANY AS C, DEPARTMENT AS D\n",
        "                WHERE  C.ID = D.EMP_ID''')\n",
        "df = get_data(cursor)\n",
        "\n",
        "conn.close()\n",
        "print(\"Operation done successfully\")\n",
        "df\n"
      ],
      "execution_count": 0,
      "outputs": [
        {
          "output_type": "stream",
          "text": [
            "Operation done successfully\n"
          ],
          "name": "stdout"
        },
        {
          "output_type": "execute_result",
          "data": {
            "text/html": [
              "<div>\n",
              "<style scoped>\n",
              "    .dataframe tbody tr th:only-of-type {\n",
              "        vertical-align: middle;\n",
              "    }\n",
              "\n",
              "    .dataframe tbody tr th {\n",
              "        vertical-align: top;\n",
              "    }\n",
              "\n",
              "    .dataframe thead th {\n",
              "        text-align: right;\n",
              "    }\n",
              "</style>\n",
              "<table border=\"1\" class=\"dataframe\">\n",
              "  <thead>\n",
              "    <tr style=\"text-align: right;\">\n",
              "      <th></th>\n",
              "      <th>ID</th>\n",
              "      <th>NAME</th>\n",
              "      <th>AGE</th>\n",
              "      <th>DEPT</th>\n",
              "    </tr>\n",
              "  </thead>\n",
              "  <tbody>\n",
              "    <tr>\n",
              "      <th></th>\n",
              "      <td>1</td>\n",
              "      <td>Paul</td>\n",
              "      <td>32</td>\n",
              "      <td>IT Billing</td>\n",
              "    </tr>\n",
              "    <tr>\n",
              "      <th></th>\n",
              "      <td>7</td>\n",
              "      <td>James</td>\n",
              "      <td>24</td>\n",
              "      <td>Finance</td>\n",
              "    </tr>\n",
              "  </tbody>\n",
              "</table>\n",
              "</div>"
            ],
            "text/plain": [
              "  ID   NAME  AGE        DEPT\n",
              "   1   Paul   32  IT Billing\n",
              "   7  James   24     Finance"
            ]
          },
          "metadata": {
            "tags": []
          },
          "execution_count": 56
        }
      ]
    },
    {
      "cell_type": "markdown",
      "metadata": {
        "id": "_cYIX6aqZrMF",
        "colab_type": "text"
      },
      "source": [
        "## ตัวอย่างต้งชื่ออ้างอิงคอลัมน์"
      ]
    },
    {
      "cell_type": "code",
      "metadata": {
        "id": "vK1vuliPZ7rR",
        "colab_type": "code",
        "outputId": "acf381c4-5d0c-4c6d-b01a-c16e91926d42",
        "colab": {
          "base_uri": "https://localhost:8080/",
          "height": 128
        }
      },
      "source": [
        "conn = sqlite3.connect('test.db')\n",
        "\n",
        "cursor = conn.execute('''SELECT C.ID AS COMPANY_ID, C.NAME AS COMPANY_NAME, C.AGE, D.DEPT\n",
        "                          FROM COMPANY AS C, DEPARTMENT AS D\n",
        "                          WHERE  C.ID = D.EMP_ID''')\n",
        "df = get_data(cursor)\n",
        "\n",
        "conn.close()\n",
        "print(\"Operation done successfully\")\n",
        "df"
      ],
      "execution_count": 0,
      "outputs": [
        {
          "output_type": "stream",
          "text": [
            "Operation done successfully\n"
          ],
          "name": "stdout"
        },
        {
          "output_type": "execute_result",
          "data": {
            "text/html": [
              "<div>\n",
              "<style scoped>\n",
              "    .dataframe tbody tr th:only-of-type {\n",
              "        vertical-align: middle;\n",
              "    }\n",
              "\n",
              "    .dataframe tbody tr th {\n",
              "        vertical-align: top;\n",
              "    }\n",
              "\n",
              "    .dataframe thead th {\n",
              "        text-align: right;\n",
              "    }\n",
              "</style>\n",
              "<table border=\"1\" class=\"dataframe\">\n",
              "  <thead>\n",
              "    <tr style=\"text-align: right;\">\n",
              "      <th></th>\n",
              "      <th>COMPANY_ID</th>\n",
              "      <th>COMPANY_NAME</th>\n",
              "      <th>AGE</th>\n",
              "      <th>DEPT</th>\n",
              "    </tr>\n",
              "  </thead>\n",
              "  <tbody>\n",
              "    <tr>\n",
              "      <th></th>\n",
              "      <td>1</td>\n",
              "      <td>Paul</td>\n",
              "      <td>32</td>\n",
              "      <td>IT Billing</td>\n",
              "    </tr>\n",
              "    <tr>\n",
              "      <th></th>\n",
              "      <td>7</td>\n",
              "      <td>James</td>\n",
              "      <td>24</td>\n",
              "      <td>Finance</td>\n",
              "    </tr>\n",
              "  </tbody>\n",
              "</table>\n",
              "</div>"
            ],
            "text/plain": [
              "  COMPANY_ID COMPANY_NAME  AGE        DEPT\n",
              "           1         Paul   32  IT Billing\n",
              "           7        James   24     Finance"
            ]
          },
          "metadata": {
            "tags": []
          },
          "execution_count": 57
        }
      ]
    },
    {
      "cell_type": "markdown",
      "metadata": {
        "id": "zRBgumDGitxx",
        "colab_type": "text"
      },
      "source": [
        "# คิวรี่ย่อย (Subqueries)"
      ]
    },
    {
      "cell_type": "markdown",
      "metadata": {
        "id": "z050GGFyjPrN",
        "colab_type": "text"
      },
      "source": [
        "## ตัวอย่างประโยค SELECT กับคิวรี่ย่อย"
      ]
    },
    {
      "cell_type": "code",
      "metadata": {
        "id": "nMKgyPjgi1LB",
        "colab_type": "code",
        "outputId": "172b5c69-dc9b-4bc6-9ee2-7467b2342856",
        "colab": {
          "base_uri": "https://localhost:8080/",
          "height": 128
        }
      },
      "source": [
        "conn = sqlite3.connect('test.db')\n",
        "\n",
        "cursor = conn.execute('''SELECT * \n",
        "   FROM COMPANY \n",
        "   WHERE ID IN (SELECT ID \n",
        "      FROM COMPANY \n",
        "      WHERE SALARY > 45000)''')\n",
        "df = get_data(cursor)\n",
        "\n",
        "conn.close()\n",
        "print(\"Operation done successfully\")\n",
        "df"
      ],
      "execution_count": 0,
      "outputs": [
        {
          "output_type": "stream",
          "text": [
            "Operation done successfully\n"
          ],
          "name": "stdout"
        },
        {
          "output_type": "execute_result",
          "data": {
            "text/html": [
              "<div>\n",
              "<style scoped>\n",
              "    .dataframe tbody tr th:only-of-type {\n",
              "        vertical-align: middle;\n",
              "    }\n",
              "\n",
              "    .dataframe tbody tr th {\n",
              "        vertical-align: top;\n",
              "    }\n",
              "\n",
              "    .dataframe thead th {\n",
              "        text-align: right;\n",
              "    }\n",
              "</style>\n",
              "<table border=\"1\" class=\"dataframe\">\n",
              "  <thead>\n",
              "    <tr style=\"text-align: right;\">\n",
              "      <th></th>\n",
              "      <th>ID</th>\n",
              "      <th>NAME</th>\n",
              "      <th>AGE</th>\n",
              "      <th>ADDRESS</th>\n",
              "      <th>SALARY</th>\n",
              "    </tr>\n",
              "  </thead>\n",
              "  <tbody>\n",
              "    <tr>\n",
              "      <th></th>\n",
              "      <td>4</td>\n",
              "      <td>Mark</td>\n",
              "      <td>25</td>\n",
              "      <td>Rich-Mond</td>\n",
              "      <td>65000.0</td>\n",
              "    </tr>\n",
              "    <tr>\n",
              "      <th></th>\n",
              "      <td>5</td>\n",
              "      <td>David</td>\n",
              "      <td>27</td>\n",
              "      <td>Texas</td>\n",
              "      <td>85000.0</td>\n",
              "    </tr>\n",
              "  </tbody>\n",
              "</table>\n",
              "</div>"
            ],
            "text/plain": [
              "  ID   NAME  AGE     ADDRESS   SALARY\n",
              "   4   Mark   25  Rich-Mond   65000.0\n",
              "   5  David   27       Texas  85000.0"
            ]
          },
          "metadata": {
            "tags": []
          },
          "execution_count": 58
        }
      ]
    },
    {
      "cell_type": "markdown",
      "metadata": {
        "id": "Vc3hZqVJkDTv",
        "colab_type": "text"
      },
      "source": [
        "## ตัวอย่างประโยค INSERT กับคิวรี่ย่อย"
      ]
    },
    {
      "cell_type": "markdown",
      "metadata": {
        "id": "yzLGe-OpmYNI",
        "colab_type": "text"
      },
      "source": [
        "**สร้างอีก Table หนึ่งชื่อ COMPANY_BKP**"
      ]
    },
    {
      "cell_type": "code",
      "metadata": {
        "id": "aU03kWcNmPMx",
        "colab_type": "code",
        "outputId": "cc021930-a0c8-498a-95d9-a0de8b37bbcf",
        "colab": {
          "base_uri": "https://localhost:8080/",
          "height": 34
        }
      },
      "source": [
        "conn = sqlite3.connect('test.db')\n",
        "\n",
        "with conn:\n",
        "  conn.execute('''CREATE TABLE COMPANY_BKP\n",
        "         (ID INT PRIMARY KEY     NOT NULL,\n",
        "         NAME           TEXT    NOT NULL,\n",
        "         AGE            INT     NOT NULL,\n",
        "         ADDRESS        CHAR(50),\n",
        "         SALARY         REAL)''')\n",
        "\n",
        "conn.close()\n",
        "print(\"Table created successfully\")"
      ],
      "execution_count": 0,
      "outputs": [
        {
          "output_type": "stream",
          "text": [
            "Table created successfully\n"
          ],
          "name": "stdout"
        }
      ]
    },
    {
      "cell_type": "markdown",
      "metadata": {
        "id": "xIrbEKktmYF5",
        "colab_type": "text"
      },
      "source": [
        "**ใช้ INSERT กับคิวรี่ย่อย**"
      ]
    },
    {
      "cell_type": "code",
      "metadata": {
        "id": "LBuiUrWFkH0P",
        "colab_type": "code",
        "outputId": "7289c09f-e22a-49e9-b158-9433cbbfa1c4",
        "colab": {
          "base_uri": "https://localhost:8080/",
          "height": 34
        }
      },
      "source": [
        "conn = sqlite3.connect('test.db')\n",
        "\n",
        "with conn:\n",
        "  cursor = conn.execute('''INSERT INTO COMPANY_BKP\n",
        "   SELECT * FROM COMPANY \n",
        "   WHERE ID IN (SELECT ID \n",
        "      FROM COMPANY)''')\n",
        "\n",
        "conn.close()\n",
        "print(\"Records created successfully\")"
      ],
      "execution_count": 0,
      "outputs": [
        {
          "output_type": "stream",
          "text": [
            "Records created successfully\n"
          ],
          "name": "stdout"
        }
      ]
    },
    {
      "cell_type": "markdown",
      "metadata": {
        "id": "WfcHmXuKmnrV",
        "colab_type": "text"
      },
      "source": [
        "**แสดงข้อมูลใน COMPANY_BKP ออกมาดู**"
      ]
    },
    {
      "cell_type": "code",
      "metadata": {
        "id": "ntx2pN7KkHx6",
        "colab_type": "code",
        "outputId": "07128968-481c-41e6-b238-9fc18d06524b",
        "colab": {
          "base_uri": "https://localhost:8080/",
          "height": 314
        }
      },
      "source": [
        "conn = sqlite3.connect('test.db')\n",
        "\n",
        "cursor = conn.execute(\"SELECT * FROM COMPANY_BKP\")\n",
        "df = get_data(cursor)\n",
        "\n",
        "conn.close()\n",
        "print(\"Operation done successfully\")\n",
        "df"
      ],
      "execution_count": 0,
      "outputs": [
        {
          "output_type": "stream",
          "text": [
            "Operation done successfully\n"
          ],
          "name": "stdout"
        },
        {
          "output_type": "execute_result",
          "data": {
            "text/html": [
              "<div>\n",
              "<style scoped>\n",
              "    .dataframe tbody tr th:only-of-type {\n",
              "        vertical-align: middle;\n",
              "    }\n",
              "\n",
              "    .dataframe tbody tr th {\n",
              "        vertical-align: top;\n",
              "    }\n",
              "\n",
              "    .dataframe thead th {\n",
              "        text-align: right;\n",
              "    }\n",
              "</style>\n",
              "<table border=\"1\" class=\"dataframe\">\n",
              "  <thead>\n",
              "    <tr style=\"text-align: right;\">\n",
              "      <th></th>\n",
              "      <th>ID</th>\n",
              "      <th>NAME</th>\n",
              "      <th>AGE</th>\n",
              "      <th>ADDRESS</th>\n",
              "      <th>SALARY</th>\n",
              "    </tr>\n",
              "  </thead>\n",
              "  <tbody>\n",
              "    <tr>\n",
              "      <th></th>\n",
              "      <td>1</td>\n",
              "      <td>Paul</td>\n",
              "      <td>32</td>\n",
              "      <td>California</td>\n",
              "      <td>25000.0</td>\n",
              "    </tr>\n",
              "    <tr>\n",
              "      <th></th>\n",
              "      <td>3</td>\n",
              "      <td>Teddy</td>\n",
              "      <td>23</td>\n",
              "      <td>Norway</td>\n",
              "      <td>20000.0</td>\n",
              "    </tr>\n",
              "    <tr>\n",
              "      <th></th>\n",
              "      <td>4</td>\n",
              "      <td>Mark</td>\n",
              "      <td>25</td>\n",
              "      <td>Rich-Mond</td>\n",
              "      <td>65000.0</td>\n",
              "    </tr>\n",
              "    <tr>\n",
              "      <th></th>\n",
              "      <td>5</td>\n",
              "      <td>David</td>\n",
              "      <td>27</td>\n",
              "      <td>Texas</td>\n",
              "      <td>85000.0</td>\n",
              "    </tr>\n",
              "    <tr>\n",
              "      <th></th>\n",
              "      <td>6</td>\n",
              "      <td>Kim</td>\n",
              "      <td>22</td>\n",
              "      <td>South-Hall</td>\n",
              "      <td>45000.0</td>\n",
              "    </tr>\n",
              "    <tr>\n",
              "      <th></th>\n",
              "      <td>7</td>\n",
              "      <td>James</td>\n",
              "      <td>24</td>\n",
              "      <td>Houston</td>\n",
              "      <td>10000.0</td>\n",
              "    </tr>\n",
              "    <tr>\n",
              "      <th></th>\n",
              "      <td>8</td>\n",
              "      <td>Paul</td>\n",
              "      <td>24</td>\n",
              "      <td>Houston</td>\n",
              "      <td>20000.0</td>\n",
              "    </tr>\n",
              "    <tr>\n",
              "      <th></th>\n",
              "      <td>9</td>\n",
              "      <td>James</td>\n",
              "      <td>44</td>\n",
              "      <td>Norway</td>\n",
              "      <td>5000.0</td>\n",
              "    </tr>\n",
              "  </tbody>\n",
              "</table>\n",
              "</div>"
            ],
            "text/plain": [
              "  ID   NAME  AGE     ADDRESS   SALARY\n",
              "   1   Paul   32  California  25000.0\n",
              "   3  Teddy   23      Norway  20000.0\n",
              "   4   Mark   25  Rich-Mond   65000.0\n",
              "   5  David   27       Texas  85000.0\n",
              "   6    Kim   22  South-Hall  45000.0\n",
              "   7  James   24     Houston  10000.0\n",
              "   8   Paul   24     Houston  20000.0\n",
              "   9  James   44      Norway   5000.0"
            ]
          },
          "metadata": {
            "tags": []
          },
          "execution_count": 61
        }
      ]
    },
    {
      "cell_type": "markdown",
      "metadata": {
        "id": "rRkcm8nGn4-x",
        "colab_type": "text"
      },
      "source": [
        "## ตัวอย่างประโยค UPDATE กับคิวรี่ย่อย"
      ]
    },
    {
      "cell_type": "markdown",
      "metadata": {
        "id": "tom9QDlUoU5G",
        "colab_type": "text"
      },
      "source": [
        "**ใช้ UPDATE กับคิวรี่ย่อย**"
      ]
    },
    {
      "cell_type": "code",
      "metadata": {
        "id": "9l534iIQkHu3",
        "colab_type": "code",
        "outputId": "a5cbfd09-a63e-408d-d5c6-4a319102ac63",
        "colab": {
          "base_uri": "https://localhost:8080/",
          "height": 34
        }
      },
      "source": [
        "conn = sqlite3.connect('test.db')\n",
        "\n",
        "with conn:\n",
        "  cursor = conn.execute('''UPDATE COMPANY\n",
        "   SET SALARY = SALARY * 0.50\n",
        "   WHERE AGE IN (SELECT AGE FROM COMPANY_BKP\n",
        "      WHERE AGE >= 27 )''')\n",
        "\n",
        "conn.close()\n",
        "print(\"Records created successfully\")\n"
      ],
      "execution_count": 0,
      "outputs": [
        {
          "output_type": "stream",
          "text": [
            "Records created successfully\n"
          ],
          "name": "stdout"
        }
      ]
    },
    {
      "cell_type": "markdown",
      "metadata": {
        "id": "AEGTQif1oPOI",
        "colab_type": "text"
      },
      "source": [
        "**ลองคิวรี่ข้อมูลจาก COMPANY**"
      ]
    },
    {
      "cell_type": "code",
      "metadata": {
        "id": "FQIem5uqoFD5",
        "colab_type": "code",
        "outputId": "a52892f7-3d34-4f53-a63e-71ac9d786bdb",
        "colab": {
          "base_uri": "https://localhost:8080/",
          "height": 314
        }
      },
      "source": [
        "conn = sqlite3.connect('test.db')\n",
        "\n",
        "cursor = conn.execute(\"SELECT * FROM COMPANY\")\n",
        "df = get_data(cursor)\n",
        "\n",
        "conn.close()\n",
        "print(\"Operation done successfully\")\n",
        "df"
      ],
      "execution_count": 0,
      "outputs": [
        {
          "output_type": "stream",
          "text": [
            "Operation done successfully\n"
          ],
          "name": "stdout"
        },
        {
          "output_type": "execute_result",
          "data": {
            "text/html": [
              "<div>\n",
              "<style scoped>\n",
              "    .dataframe tbody tr th:only-of-type {\n",
              "        vertical-align: middle;\n",
              "    }\n",
              "\n",
              "    .dataframe tbody tr th {\n",
              "        vertical-align: top;\n",
              "    }\n",
              "\n",
              "    .dataframe thead th {\n",
              "        text-align: right;\n",
              "    }\n",
              "</style>\n",
              "<table border=\"1\" class=\"dataframe\">\n",
              "  <thead>\n",
              "    <tr style=\"text-align: right;\">\n",
              "      <th></th>\n",
              "      <th>ID</th>\n",
              "      <th>NAME</th>\n",
              "      <th>AGE</th>\n",
              "      <th>ADDRESS</th>\n",
              "      <th>SALARY</th>\n",
              "    </tr>\n",
              "  </thead>\n",
              "  <tbody>\n",
              "    <tr>\n",
              "      <th></th>\n",
              "      <td>1</td>\n",
              "      <td>Paul</td>\n",
              "      <td>32</td>\n",
              "      <td>California</td>\n",
              "      <td>12500.0</td>\n",
              "    </tr>\n",
              "    <tr>\n",
              "      <th></th>\n",
              "      <td>3</td>\n",
              "      <td>Teddy</td>\n",
              "      <td>23</td>\n",
              "      <td>Norway</td>\n",
              "      <td>20000.0</td>\n",
              "    </tr>\n",
              "    <tr>\n",
              "      <th></th>\n",
              "      <td>4</td>\n",
              "      <td>Mark</td>\n",
              "      <td>25</td>\n",
              "      <td>Rich-Mond</td>\n",
              "      <td>65000.0</td>\n",
              "    </tr>\n",
              "    <tr>\n",
              "      <th></th>\n",
              "      <td>5</td>\n",
              "      <td>David</td>\n",
              "      <td>27</td>\n",
              "      <td>Texas</td>\n",
              "      <td>42500.0</td>\n",
              "    </tr>\n",
              "    <tr>\n",
              "      <th></th>\n",
              "      <td>6</td>\n",
              "      <td>Kim</td>\n",
              "      <td>22</td>\n",
              "      <td>South-Hall</td>\n",
              "      <td>45000.0</td>\n",
              "    </tr>\n",
              "    <tr>\n",
              "      <th></th>\n",
              "      <td>7</td>\n",
              "      <td>James</td>\n",
              "      <td>24</td>\n",
              "      <td>Houston</td>\n",
              "      <td>10000.0</td>\n",
              "    </tr>\n",
              "    <tr>\n",
              "      <th></th>\n",
              "      <td>8</td>\n",
              "      <td>Paul</td>\n",
              "      <td>24</td>\n",
              "      <td>Houston</td>\n",
              "      <td>20000.0</td>\n",
              "    </tr>\n",
              "    <tr>\n",
              "      <th></th>\n",
              "      <td>9</td>\n",
              "      <td>James</td>\n",
              "      <td>44</td>\n",
              "      <td>Norway</td>\n",
              "      <td>2500.0</td>\n",
              "    </tr>\n",
              "  </tbody>\n",
              "</table>\n",
              "</div>"
            ],
            "text/plain": [
              "  ID   NAME  AGE     ADDRESS   SALARY\n",
              "   1   Paul   32  California  12500.0\n",
              "   3  Teddy   23      Norway  20000.0\n",
              "   4   Mark   25  Rich-Mond   65000.0\n",
              "   5  David   27       Texas  42500.0\n",
              "   6    Kim   22  South-Hall  45000.0\n",
              "   7  James   24     Houston  10000.0\n",
              "   8   Paul   24     Houston  20000.0\n",
              "   9  James   44      Norway   2500.0"
            ]
          },
          "metadata": {
            "tags": []
          },
          "execution_count": 63
        }
      ]
    },
    {
      "cell_type": "markdown",
      "metadata": {
        "id": "Bpjfr0lZohOF",
        "colab_type": "text"
      },
      "source": [
        "## ตัวอย่างประโยค DELETE กับคิวรี่่ย่อย"
      ]
    },
    {
      "cell_type": "markdown",
      "metadata": {
        "id": "rO2GR-C3o0GT",
        "colab_type": "text"
      },
      "source": [
        "**ใช้ประโยค DELETE กับคิวรี่่ย่อย**"
      ]
    },
    {
      "cell_type": "code",
      "metadata": {
        "id": "GPK0Yt-Fomh7",
        "colab_type": "code",
        "outputId": "932fc057-5245-4198-b640-1dcc99d406d2",
        "colab": {
          "base_uri": "https://localhost:8080/",
          "height": 34
        }
      },
      "source": [
        "conn = sqlite3.connect('test.db')\n",
        "\n",
        "with conn:\n",
        "  cursor = conn.execute('''DELETE FROM COMPANY\n",
        "   WHERE AGE IN (SELECT AGE FROM COMPANY_BKP\n",
        "   WHERE AGE > 27 )''')\n",
        "\n",
        "conn.close()\n",
        "print(\"Records created successfully\")"
      ],
      "execution_count": 0,
      "outputs": [
        {
          "output_type": "stream",
          "text": [
            "Records created successfully\n"
          ],
          "name": "stdout"
        }
      ]
    },
    {
      "cell_type": "markdown",
      "metadata": {
        "id": "dpM17X5DpC0p",
        "colab_type": "text"
      },
      "source": [
        "**ลองคิวรี่ข้อมูลจาก COMPANY**"
      ]
    },
    {
      "cell_type": "code",
      "metadata": {
        "id": "sZJCxrTGo8mC",
        "colab_type": "code",
        "outputId": "6db83339-6107-4db5-c405-f2f18a693ebd",
        "colab": {
          "base_uri": "https://localhost:8080/",
          "height": 252
        }
      },
      "source": [
        "conn = sqlite3.connect('test.db')\n",
        "\n",
        "cursor = conn.execute(\"SELECT * FROM COMPANY\")\n",
        "df = get_data(cursor)\n",
        "\n",
        "conn.close()\n",
        "print(\"Operation done successfully\")\n",
        "df"
      ],
      "execution_count": 0,
      "outputs": [
        {
          "output_type": "stream",
          "text": [
            "Operation done successfully\n"
          ],
          "name": "stdout"
        },
        {
          "output_type": "execute_result",
          "data": {
            "text/html": [
              "<div>\n",
              "<style scoped>\n",
              "    .dataframe tbody tr th:only-of-type {\n",
              "        vertical-align: middle;\n",
              "    }\n",
              "\n",
              "    .dataframe tbody tr th {\n",
              "        vertical-align: top;\n",
              "    }\n",
              "\n",
              "    .dataframe thead th {\n",
              "        text-align: right;\n",
              "    }\n",
              "</style>\n",
              "<table border=\"1\" class=\"dataframe\">\n",
              "  <thead>\n",
              "    <tr style=\"text-align: right;\">\n",
              "      <th></th>\n",
              "      <th>ID</th>\n",
              "      <th>NAME</th>\n",
              "      <th>AGE</th>\n",
              "      <th>ADDRESS</th>\n",
              "      <th>SALARY</th>\n",
              "    </tr>\n",
              "  </thead>\n",
              "  <tbody>\n",
              "    <tr>\n",
              "      <th></th>\n",
              "      <td>3</td>\n",
              "      <td>Teddy</td>\n",
              "      <td>23</td>\n",
              "      <td>Norway</td>\n",
              "      <td>20000.0</td>\n",
              "    </tr>\n",
              "    <tr>\n",
              "      <th></th>\n",
              "      <td>4</td>\n",
              "      <td>Mark</td>\n",
              "      <td>25</td>\n",
              "      <td>Rich-Mond</td>\n",
              "      <td>65000.0</td>\n",
              "    </tr>\n",
              "    <tr>\n",
              "      <th></th>\n",
              "      <td>5</td>\n",
              "      <td>David</td>\n",
              "      <td>27</td>\n",
              "      <td>Texas</td>\n",
              "      <td>42500.0</td>\n",
              "    </tr>\n",
              "    <tr>\n",
              "      <th></th>\n",
              "      <td>6</td>\n",
              "      <td>Kim</td>\n",
              "      <td>22</td>\n",
              "      <td>South-Hall</td>\n",
              "      <td>45000.0</td>\n",
              "    </tr>\n",
              "    <tr>\n",
              "      <th></th>\n",
              "      <td>7</td>\n",
              "      <td>James</td>\n",
              "      <td>24</td>\n",
              "      <td>Houston</td>\n",
              "      <td>10000.0</td>\n",
              "    </tr>\n",
              "    <tr>\n",
              "      <th></th>\n",
              "      <td>8</td>\n",
              "      <td>Paul</td>\n",
              "      <td>24</td>\n",
              "      <td>Houston</td>\n",
              "      <td>20000.0</td>\n",
              "    </tr>\n",
              "  </tbody>\n",
              "</table>\n",
              "</div>"
            ],
            "text/plain": [
              "  ID   NAME  AGE     ADDRESS   SALARY\n",
              "   3  Teddy   23      Norway  20000.0\n",
              "   4   Mark   25  Rich-Mond   65000.0\n",
              "   5  David   27       Texas  42500.0\n",
              "   6    Kim   22  South-Hall  45000.0\n",
              "   7  James   24     Houston  10000.0\n",
              "   8   Paul   24     Houston  20000.0"
            ]
          },
          "metadata": {
            "tags": []
          },
          "execution_count": 65
        }
      ]
    },
    {
      "cell_type": "markdown",
      "metadata": {
        "id": "5YEQf2_0yzmE",
        "colab_type": "text"
      },
      "source": [
        "# Indexes"
      ]
    },
    {
      "cell_type": "markdown",
      "metadata": {
        "id": "1sKxmpHZzPNm",
        "colab_type": "text"
      },
      "source": [
        "## ตัวอย่างสร้าง Index"
      ]
    },
    {
      "cell_type": "code",
      "metadata": {
        "id": "Jx1JSYLmy7C9",
        "colab_type": "code",
        "outputId": "b73c88ae-6ffb-450d-ac7f-99ed49299495",
        "colab": {
          "base_uri": "https://localhost:8080/",
          "height": 34
        }
      },
      "source": [
        "conn = sqlite3.connect('test.db')\n",
        "\n",
        "with conn:\n",
        "  cursor = conn.execute(\"CREATE INDEX salary_index ON COMPANY (salary)\")\n",
        "\n",
        "conn.close()\n",
        "print(\"Operation done successfully\")"
      ],
      "execution_count": 0,
      "outputs": [
        {
          "output_type": "stream",
          "text": [
            "Operation done successfully\n"
          ],
          "name": "stdout"
        }
      ]
    },
    {
      "cell_type": "markdown",
      "metadata": {
        "id": "8LOX_onZzRq6",
        "colab_type": "text"
      },
      "source": [
        "## ตัวอย่างค้นหา Index"
      ]
    },
    {
      "cell_type": "code",
      "metadata": {
        "id": "VoY4H5bizFdX",
        "colab_type": "code",
        "outputId": "6511cd4b-560c-4d57-9bc1-0419ba68ee5e",
        "colab": {
          "base_uri": "https://localhost:8080/",
          "height": 159
        }
      },
      "source": [
        "conn = sqlite3.connect('test.db')\n",
        "\n",
        "cursor = conn.execute(\"SELECT * FROM sqlite_master WHERE type = 'index'\")\n",
        "df = get_data(cursor)\n",
        "\n",
        "conn.close()\n",
        "print(\"Operation done successfully\")\n",
        "df"
      ],
      "execution_count": 0,
      "outputs": [
        {
          "output_type": "stream",
          "text": [
            "Operation done successfully\n"
          ],
          "name": "stdout"
        },
        {
          "output_type": "execute_result",
          "data": {
            "text/html": [
              "<div>\n",
              "<style scoped>\n",
              "    .dataframe tbody tr th:only-of-type {\n",
              "        vertical-align: middle;\n",
              "    }\n",
              "\n",
              "    .dataframe tbody tr th {\n",
              "        vertical-align: top;\n",
              "    }\n",
              "\n",
              "    .dataframe thead th {\n",
              "        text-align: right;\n",
              "    }\n",
              "</style>\n",
              "<table border=\"1\" class=\"dataframe\">\n",
              "  <thead>\n",
              "    <tr style=\"text-align: right;\">\n",
              "      <th></th>\n",
              "      <th>type</th>\n",
              "      <th>name</th>\n",
              "      <th>tbl_name</th>\n",
              "      <th>rootpage</th>\n",
              "      <th>sql</th>\n",
              "    </tr>\n",
              "  </thead>\n",
              "  <tbody>\n",
              "    <tr>\n",
              "      <th></th>\n",
              "      <td>index</td>\n",
              "      <td>sqlite_autoindex_DEPARTMENT_1</td>\n",
              "      <td>DEPARTMENT</td>\n",
              "      <td>5</td>\n",
              "      <td>None</td>\n",
              "    </tr>\n",
              "    <tr>\n",
              "      <th></th>\n",
              "      <td>index</td>\n",
              "      <td>sqlite_autoindex_COMPANY_BKP_1</td>\n",
              "      <td>COMPANY_BKP</td>\n",
              "      <td>7</td>\n",
              "      <td>None</td>\n",
              "    </tr>\n",
              "    <tr>\n",
              "      <th></th>\n",
              "      <td>index</td>\n",
              "      <td>salary_index</td>\n",
              "      <td>COMPANY</td>\n",
              "      <td>8</td>\n",
              "      <td>CREATE INDEX salary_index ON COMPANY (salary)</td>\n",
              "    </tr>\n",
              "  </tbody>\n",
              "</table>\n",
              "</div>"
            ],
            "text/plain": [
              "   type                            name     tbl_name  rootpage  \\\n",
              "  index   sqlite_autoindex_DEPARTMENT_1   DEPARTMENT         5   \n",
              "  index  sqlite_autoindex_COMPANY_BKP_1  COMPANY_BKP         7   \n",
              "  index                    salary_index      COMPANY         8   \n",
              "\n",
              "                                            sql  \n",
              "                                           None  \n",
              "                                           None  \n",
              "  CREATE INDEX salary_index ON COMPANY (salary)  "
            ]
          },
          "metadata": {
            "tags": []
          },
          "execution_count": 67
        }
      ]
    },
    {
      "cell_type": "markdown",
      "metadata": {
        "id": "liFU245-_I32",
        "colab_type": "text"
      },
      "source": [
        "## ใช้ SELECT ร่วมกับ index"
      ]
    },
    {
      "cell_type": "code",
      "metadata": {
        "id": "0a7ygWQk_Hj5",
        "colab_type": "code",
        "outputId": "092dd212-c4f7-4421-d014-9ce975fede1f",
        "colab": {
          "base_uri": "https://localhost:8080/",
          "height": 252
        }
      },
      "source": [
        "conn = sqlite3.connect('test.db')\n",
        "\n",
        "cursor = conn.execute(\"SELECT * FROM COMPANY INDEXED BY salary_index WHERE salary > 5000\")\n",
        "df = get_data(cursor)\n",
        "\n",
        "conn.close()\n",
        "print(\"Operation done successfully\")\n",
        "df"
      ],
      "execution_count": 0,
      "outputs": [
        {
          "output_type": "stream",
          "text": [
            "Operation done successfully\n"
          ],
          "name": "stdout"
        },
        {
          "output_type": "execute_result",
          "data": {
            "text/html": [
              "<div>\n",
              "<style scoped>\n",
              "    .dataframe tbody tr th:only-of-type {\n",
              "        vertical-align: middle;\n",
              "    }\n",
              "\n",
              "    .dataframe tbody tr th {\n",
              "        vertical-align: top;\n",
              "    }\n",
              "\n",
              "    .dataframe thead th {\n",
              "        text-align: right;\n",
              "    }\n",
              "</style>\n",
              "<table border=\"1\" class=\"dataframe\">\n",
              "  <thead>\n",
              "    <tr style=\"text-align: right;\">\n",
              "      <th></th>\n",
              "      <th>ID</th>\n",
              "      <th>NAME</th>\n",
              "      <th>AGE</th>\n",
              "      <th>ADDRESS</th>\n",
              "      <th>SALARY</th>\n",
              "    </tr>\n",
              "  </thead>\n",
              "  <tbody>\n",
              "    <tr>\n",
              "      <th></th>\n",
              "      <td>7</td>\n",
              "      <td>James</td>\n",
              "      <td>24</td>\n",
              "      <td>Houston</td>\n",
              "      <td>10000.0</td>\n",
              "    </tr>\n",
              "    <tr>\n",
              "      <th></th>\n",
              "      <td>3</td>\n",
              "      <td>Teddy</td>\n",
              "      <td>23</td>\n",
              "      <td>Norway</td>\n",
              "      <td>20000.0</td>\n",
              "    </tr>\n",
              "    <tr>\n",
              "      <th></th>\n",
              "      <td>8</td>\n",
              "      <td>Paul</td>\n",
              "      <td>24</td>\n",
              "      <td>Houston</td>\n",
              "      <td>20000.0</td>\n",
              "    </tr>\n",
              "    <tr>\n",
              "      <th></th>\n",
              "      <td>5</td>\n",
              "      <td>David</td>\n",
              "      <td>27</td>\n",
              "      <td>Texas</td>\n",
              "      <td>42500.0</td>\n",
              "    </tr>\n",
              "    <tr>\n",
              "      <th></th>\n",
              "      <td>6</td>\n",
              "      <td>Kim</td>\n",
              "      <td>22</td>\n",
              "      <td>South-Hall</td>\n",
              "      <td>45000.0</td>\n",
              "    </tr>\n",
              "    <tr>\n",
              "      <th></th>\n",
              "      <td>4</td>\n",
              "      <td>Mark</td>\n",
              "      <td>25</td>\n",
              "      <td>Rich-Mond</td>\n",
              "      <td>65000.0</td>\n",
              "    </tr>\n",
              "  </tbody>\n",
              "</table>\n",
              "</div>"
            ],
            "text/plain": [
              "  ID   NAME  AGE     ADDRESS   SALARY\n",
              "   7  James   24     Houston  10000.0\n",
              "   3  Teddy   23      Norway  20000.0\n",
              "   8   Paul   24     Houston  20000.0\n",
              "   5  David   27       Texas  42500.0\n",
              "   6    Kim   22  South-Hall  45000.0\n",
              "   4   Mark   25  Rich-Mond   65000.0"
            ]
          },
          "metadata": {
            "tags": []
          },
          "execution_count": 68
        }
      ]
    },
    {
      "cell_type": "markdown",
      "metadata": {
        "id": "jdLuNiomzaNi",
        "colab_type": "text"
      },
      "source": [
        "## ลบ Index"
      ]
    },
    {
      "cell_type": "code",
      "metadata": {
        "id": "6bxNrxgfzLub",
        "colab_type": "code",
        "outputId": "56029255-3dd6-4823-c6f4-b627f4bc620c",
        "colab": {
          "base_uri": "https://localhost:8080/",
          "height": 34
        }
      },
      "source": [
        "conn = sqlite3.connect('test.db')\n",
        "\n",
        "with conn:\n",
        "  cursor = conn.execute(\"DROP INDEX salary_index\")\n",
        "\n",
        "conn.close()\n",
        "print(\"Operation done successfully\")"
      ],
      "execution_count": 0,
      "outputs": [
        {
          "output_type": "stream",
          "text": [
            "Operation done successfully\n"
          ],
          "name": "stdout"
        }
      ]
    },
    {
      "cell_type": "markdown",
      "metadata": {
        "id": "xTXJyPrwQC9H",
        "colab_type": "text"
      },
      "source": [
        "# Views"
      ]
    },
    {
      "cell_type": "markdown",
      "metadata": {
        "id": "TS3-9l4eUM9I",
        "colab_type": "text"
      },
      "source": [
        "**ตัวอย่างสร้าง View**"
      ]
    },
    {
      "cell_type": "code",
      "metadata": {
        "id": "NV3RwlTgQJxJ",
        "colab_type": "code",
        "outputId": "852615f1-64b7-49ec-e4eb-1f25787b59fa",
        "colab": {
          "base_uri": "https://localhost:8080/",
          "height": 34
        }
      },
      "source": [
        "conn = sqlite3.connect('test.db')\n",
        "\n",
        "with conn:\n",
        "  conn.execute('''CREATE VIEW COMPANY_VIEW AS\n",
        "                SELECT ID, NAME, AGE\n",
        "                FROM  COMPANY;''')\n",
        "\n",
        "conn.close()\n",
        "print(\"View created successfully\")\n"
      ],
      "execution_count": 0,
      "outputs": [
        {
          "output_type": "stream",
          "text": [
            "View created successfully\n"
          ],
          "name": "stdout"
        }
      ]
    },
    {
      "cell_type": "markdown",
      "metadata": {
        "id": "9_BEjXHUUIh2",
        "colab_type": "text"
      },
      "source": [
        "**ตัวอย่างแสดง View**"
      ]
    },
    {
      "cell_type": "code",
      "metadata": {
        "id": "SWtbQ1SIT94v",
        "colab_type": "code",
        "outputId": "64e9c903-2192-44c4-ccaa-b459fbd5fef3",
        "colab": {
          "base_uri": "https://localhost:8080/",
          "height": 252
        }
      },
      "source": [
        "conn = sqlite3.connect('test.db')\n",
        "\n",
        "cursor = conn.execute(\"SELECT * FROM COMPANY_VIEW\")\n",
        "df = get_data(cursor)\n",
        "\n",
        "conn.close()\n",
        "print(\"Operation done successfully\")\n",
        "df\n"
      ],
      "execution_count": 0,
      "outputs": [
        {
          "output_type": "stream",
          "text": [
            "Operation done successfully\n"
          ],
          "name": "stdout"
        },
        {
          "output_type": "execute_result",
          "data": {
            "text/html": [
              "<div>\n",
              "<style scoped>\n",
              "    .dataframe tbody tr th:only-of-type {\n",
              "        vertical-align: middle;\n",
              "    }\n",
              "\n",
              "    .dataframe tbody tr th {\n",
              "        vertical-align: top;\n",
              "    }\n",
              "\n",
              "    .dataframe thead th {\n",
              "        text-align: right;\n",
              "    }\n",
              "</style>\n",
              "<table border=\"1\" class=\"dataframe\">\n",
              "  <thead>\n",
              "    <tr style=\"text-align: right;\">\n",
              "      <th></th>\n",
              "      <th>ID</th>\n",
              "      <th>NAME</th>\n",
              "      <th>AGE</th>\n",
              "    </tr>\n",
              "  </thead>\n",
              "  <tbody>\n",
              "    <tr>\n",
              "      <th></th>\n",
              "      <td>3</td>\n",
              "      <td>Teddy</td>\n",
              "      <td>23</td>\n",
              "    </tr>\n",
              "    <tr>\n",
              "      <th></th>\n",
              "      <td>4</td>\n",
              "      <td>Mark</td>\n",
              "      <td>25</td>\n",
              "    </tr>\n",
              "    <tr>\n",
              "      <th></th>\n",
              "      <td>5</td>\n",
              "      <td>David</td>\n",
              "      <td>27</td>\n",
              "    </tr>\n",
              "    <tr>\n",
              "      <th></th>\n",
              "      <td>6</td>\n",
              "      <td>Kim</td>\n",
              "      <td>22</td>\n",
              "    </tr>\n",
              "    <tr>\n",
              "      <th></th>\n",
              "      <td>7</td>\n",
              "      <td>James</td>\n",
              "      <td>24</td>\n",
              "    </tr>\n",
              "    <tr>\n",
              "      <th></th>\n",
              "      <td>8</td>\n",
              "      <td>Paul</td>\n",
              "      <td>24</td>\n",
              "    </tr>\n",
              "  </tbody>\n",
              "</table>\n",
              "</div>"
            ],
            "text/plain": [
              "  ID   NAME  AGE\n",
              "   3  Teddy   23\n",
              "   4   Mark   25\n",
              "   5  David   27\n",
              "   6    Kim   22\n",
              "   7  James   24\n",
              "   8   Paul   24"
            ]
          },
          "metadata": {
            "tags": []
          },
          "execution_count": 71
        }
      ]
    },
    {
      "cell_type": "markdown",
      "metadata": {
        "id": "pTEXezqLUlYe",
        "colab_type": "text"
      },
      "source": [
        "**ตัวอย่างลบ View**"
      ]
    },
    {
      "cell_type": "code",
      "metadata": {
        "colab_type": "code",
        "id": "Y0OMu_NRUYuF",
        "outputId": "065be283-ea25-4942-bb07-934777f79606",
        "colab": {
          "base_uri": "https://localhost:8080/",
          "height": 34
        }
      },
      "source": [
        "conn = sqlite3.connect('test.db')\n",
        "\n",
        "with conn:\n",
        "  cursor = conn.execute(\"DROP VIEW COMPANY_VIEW\")\n",
        "\n",
        "conn.close()\n",
        "print(\"Operation done successfully\")"
      ],
      "execution_count": 0,
      "outputs": [
        {
          "output_type": "stream",
          "text": [
            "Operation done successfully\n"
          ],
          "name": "stdout"
        }
      ]
    },
    {
      "cell_type": "markdown",
      "metadata": {
        "id": "R88U6H2XC1hW",
        "colab_type": "text"
      },
      "source": [
        "# ฟังก์ชัน (รองรับ SQLite)"
      ]
    },
    {
      "cell_type": "markdown",
      "metadata": {
        "id": "nnBoRlmkVZ_5",
        "colab_type": "text"
      },
      "source": [
        "ฟังก์ชัน count จะนับจำนวนแถวของ Table"
      ]
    },
    {
      "cell_type": "code",
      "metadata": {
        "id": "vwW4HpcQC-4b",
        "colab_type": "code",
        "outputId": "f829467a-e0e3-48b6-b3ae-d2e3e230b058",
        "colab": {
          "base_uri": "https://localhost:8080/",
          "height": 97
        }
      },
      "source": [
        "conn = sqlite3.connect('test.db')\n",
        "\n",
        "cursor = conn.execute(\"SELECT count(*) FROM COMPANY\")\n",
        "df = get_data(cursor)\n",
        "\n",
        "conn.close()\n",
        "print(\"Operation done successfully\")\n",
        "df"
      ],
      "execution_count": 0,
      "outputs": [
        {
          "output_type": "stream",
          "text": [
            "Operation done successfully\n"
          ],
          "name": "stdout"
        },
        {
          "output_type": "execute_result",
          "data": {
            "text/html": [
              "<div>\n",
              "<style scoped>\n",
              "    .dataframe tbody tr th:only-of-type {\n",
              "        vertical-align: middle;\n",
              "    }\n",
              "\n",
              "    .dataframe tbody tr th {\n",
              "        vertical-align: top;\n",
              "    }\n",
              "\n",
              "    .dataframe thead th {\n",
              "        text-align: right;\n",
              "    }\n",
              "</style>\n",
              "<table border=\"1\" class=\"dataframe\">\n",
              "  <thead>\n",
              "    <tr style=\"text-align: right;\">\n",
              "      <th></th>\n",
              "      <th>count(*)</th>\n",
              "    </tr>\n",
              "  </thead>\n",
              "  <tbody>\n",
              "    <tr>\n",
              "      <th></th>\n",
              "      <td>6</td>\n",
              "    </tr>\n",
              "  </tbody>\n",
              "</table>\n",
              "</div>"
            ],
            "text/plain": [
              "  count(*)\n",
              "         6"
            ]
          },
          "metadata": {
            "tags": []
          },
          "execution_count": 73
        }
      ]
    },
    {
      "cell_type": "markdown",
      "metadata": {
        "id": "wrjW-g0BVP-t",
        "colab_type": "text"
      },
      "source": [
        "**ฟังก์ชัน max ให้ค่ามากสุดของคอลัมน์นั้น**"
      ]
    },
    {
      "cell_type": "code",
      "metadata": {
        "id": "K2vGgJP4DDxn",
        "colab_type": "code",
        "outputId": "e872aa46-0522-4976-8ea9-b01f1e45675e",
        "colab": {
          "base_uri": "https://localhost:8080/",
          "height": 97
        }
      },
      "source": [
        "conn = sqlite3.connect('test.db')\n",
        "\n",
        "cursor = conn.execute(\"SELECT max(salary) FROM COMPANY\")\n",
        "df = get_data(cursor)\n",
        "\n",
        "conn.close()\n",
        "print(\"Operation done successfully\")\n",
        "df"
      ],
      "execution_count": 0,
      "outputs": [
        {
          "output_type": "stream",
          "text": [
            "Operation done successfully\n"
          ],
          "name": "stdout"
        },
        {
          "output_type": "execute_result",
          "data": {
            "text/html": [
              "<div>\n",
              "<style scoped>\n",
              "    .dataframe tbody tr th:only-of-type {\n",
              "        vertical-align: middle;\n",
              "    }\n",
              "\n",
              "    .dataframe tbody tr th {\n",
              "        vertical-align: top;\n",
              "    }\n",
              "\n",
              "    .dataframe thead th {\n",
              "        text-align: right;\n",
              "    }\n",
              "</style>\n",
              "<table border=\"1\" class=\"dataframe\">\n",
              "  <thead>\n",
              "    <tr style=\"text-align: right;\">\n",
              "      <th></th>\n",
              "      <th>max(salary)</th>\n",
              "    </tr>\n",
              "  </thead>\n",
              "  <tbody>\n",
              "    <tr>\n",
              "      <th></th>\n",
              "      <td>65000.0</td>\n",
              "    </tr>\n",
              "  </tbody>\n",
              "</table>\n",
              "</div>"
            ],
            "text/plain": [
              "  max(salary)\n",
              "      65000.0"
            ]
          },
          "metadata": {
            "tags": []
          },
          "execution_count": 74
        }
      ]
    },
    {
      "cell_type": "markdown",
      "metadata": {
        "id": "2Cx4RrBSUMwC",
        "colab_type": "text"
      },
      "source": [
        "**ฟังก์ชัน min จะให้ค่าต่ำสุดของคอลัมน์นั้น**"
      ]
    },
    {
      "cell_type": "code",
      "metadata": {
        "id": "8shC26PINzkK",
        "colab_type": "code",
        "outputId": "169e8006-64c8-45f7-b2a7-1dff6cf0685c",
        "colab": {
          "base_uri": "https://localhost:8080/",
          "height": 97
        }
      },
      "source": [
        "conn = sqlite3.connect('test.db')\n",
        "\n",
        "cursor = conn.execute(\"SELECT min(salary) FROM COMPANY\")\n",
        "df = get_data(cursor)\n",
        "\n",
        "conn.close()\n",
        "print(\"Operation done successfully\")\n",
        "df "
      ],
      "execution_count": 0,
      "outputs": [
        {
          "output_type": "stream",
          "text": [
            "Operation done successfully\n"
          ],
          "name": "stdout"
        },
        {
          "output_type": "execute_result",
          "data": {
            "text/html": [
              "<div>\n",
              "<style scoped>\n",
              "    .dataframe tbody tr th:only-of-type {\n",
              "        vertical-align: middle;\n",
              "    }\n",
              "\n",
              "    .dataframe tbody tr th {\n",
              "        vertical-align: top;\n",
              "    }\n",
              "\n",
              "    .dataframe thead th {\n",
              "        text-align: right;\n",
              "    }\n",
              "</style>\n",
              "<table border=\"1\" class=\"dataframe\">\n",
              "  <thead>\n",
              "    <tr style=\"text-align: right;\">\n",
              "      <th></th>\n",
              "      <th>min(salary)</th>\n",
              "    </tr>\n",
              "  </thead>\n",
              "  <tbody>\n",
              "    <tr>\n",
              "      <th></th>\n",
              "      <td>10000.0</td>\n",
              "    </tr>\n",
              "  </tbody>\n",
              "</table>\n",
              "</div>"
            ],
            "text/plain": [
              "  min(salary)\n",
              "      10000.0"
            ]
          },
          "metadata": {
            "tags": []
          },
          "execution_count": 75
        }
      ]
    },
    {
      "cell_type": "markdown",
      "metadata": {
        "id": "vdTUFQ0oUGpQ",
        "colab_type": "text"
      },
      "source": [
        "**ฟังก์ชัน avg จะให้ค่าเฉลี่ยของคอลัมน์นั้น**"
      ]
    },
    {
      "cell_type": "code",
      "metadata": {
        "id": "oPDx22-hN7gs",
        "colab_type": "code",
        "outputId": "0c45cf91-ba6a-43b9-e97e-d7716fe472da",
        "colab": {
          "base_uri": "https://localhost:8080/",
          "height": 97
        }
      },
      "source": [
        "conn = sqlite3.connect('test.db')\n",
        "\n",
        "cursor = conn.execute(\"SELECT avg(salary) FROM COMPANY\")\n",
        "df = get_data(cursor)\n",
        "\n",
        "conn.close()\n",
        "print(\"Operation done successfully\")\n",
        "df "
      ],
      "execution_count": 0,
      "outputs": [
        {
          "output_type": "stream",
          "text": [
            "Operation done successfully\n"
          ],
          "name": "stdout"
        },
        {
          "output_type": "execute_result",
          "data": {
            "text/html": [
              "<div>\n",
              "<style scoped>\n",
              "    .dataframe tbody tr th:only-of-type {\n",
              "        vertical-align: middle;\n",
              "    }\n",
              "\n",
              "    .dataframe tbody tr th {\n",
              "        vertical-align: top;\n",
              "    }\n",
              "\n",
              "    .dataframe thead th {\n",
              "        text-align: right;\n",
              "    }\n",
              "</style>\n",
              "<table border=\"1\" class=\"dataframe\">\n",
              "  <thead>\n",
              "    <tr style=\"text-align: right;\">\n",
              "      <th></th>\n",
              "      <th>avg(salary)</th>\n",
              "    </tr>\n",
              "  </thead>\n",
              "  <tbody>\n",
              "    <tr>\n",
              "      <th></th>\n",
              "      <td>33750.0</td>\n",
              "    </tr>\n",
              "  </tbody>\n",
              "</table>\n",
              "</div>"
            ],
            "text/plain": [
              "  avg(salary)\n",
              "      33750.0"
            ]
          },
          "metadata": {
            "tags": []
          },
          "execution_count": 76
        }
      ]
    },
    {
      "cell_type": "markdown",
      "metadata": {
        "id": "w1R9XM1QT77K",
        "colab_type": "text"
      },
      "source": [
        "**ฟังก์ชัน sum จะให้ผลรวมของคอลัมน์นั้นๆ**"
      ]
    },
    {
      "cell_type": "code",
      "metadata": {
        "id": "zL-3sGbGN-ii",
        "colab_type": "code",
        "outputId": "1b05e536-3a58-4b6b-f207-2543c8ff7998",
        "colab": {
          "base_uri": "https://localhost:8080/",
          "height": 97
        }
      },
      "source": [
        "conn = sqlite3.connect('test.db')\n",
        "\n",
        "cursor = conn.execute(\"SELECT sum(salary) FROM COMPANY\")\n",
        "df = get_data(cursor)\n",
        "\n",
        "conn.close()\n",
        "print(\"Operation done successfully\")\n",
        "df "
      ],
      "execution_count": 0,
      "outputs": [
        {
          "output_type": "stream",
          "text": [
            "Operation done successfully\n"
          ],
          "name": "stdout"
        },
        {
          "output_type": "execute_result",
          "data": {
            "text/html": [
              "<div>\n",
              "<style scoped>\n",
              "    .dataframe tbody tr th:only-of-type {\n",
              "        vertical-align: middle;\n",
              "    }\n",
              "\n",
              "    .dataframe tbody tr th {\n",
              "        vertical-align: top;\n",
              "    }\n",
              "\n",
              "    .dataframe thead th {\n",
              "        text-align: right;\n",
              "    }\n",
              "</style>\n",
              "<table border=\"1\" class=\"dataframe\">\n",
              "  <thead>\n",
              "    <tr style=\"text-align: right;\">\n",
              "      <th></th>\n",
              "      <th>sum(salary)</th>\n",
              "    </tr>\n",
              "  </thead>\n",
              "  <tbody>\n",
              "    <tr>\n",
              "      <th></th>\n",
              "      <td>202500.0</td>\n",
              "    </tr>\n",
              "  </tbody>\n",
              "</table>\n",
              "</div>"
            ],
            "text/plain": [
              "  sum(salary)\n",
              "     202500.0"
            ]
          },
          "metadata": {
            "tags": []
          },
          "execution_count": 77
        }
      ]
    },
    {
      "cell_type": "markdown",
      "metadata": {
        "id": "FCGEuh5qTrO9",
        "colab_type": "text"
      },
      "source": [
        "**ฟังก์ชัน random จะให้ค่าจำนวเต็มระหว่าง -9223372036854775808 กับ +9223372036854775807**"
      ]
    },
    {
      "cell_type": "code",
      "metadata": {
        "id": "iZJB3JbsOG6c",
        "colab_type": "code",
        "outputId": "d92d066d-8588-4978-f8bb-2d1c1b93e1ba",
        "colab": {
          "base_uri": "https://localhost:8080/",
          "height": 97
        }
      },
      "source": [
        "conn = sqlite3.connect('test.db')\n",
        "\n",
        "cursor = conn.execute(\"SELECT random() AS Random\")\n",
        "df = get_data(cursor)\n",
        "\n",
        "conn.close()\n",
        "print(\"Operation done successfully\")\n",
        "df "
      ],
      "execution_count": 0,
      "outputs": [
        {
          "output_type": "stream",
          "text": [
            "Operation done successfully\n"
          ],
          "name": "stdout"
        },
        {
          "output_type": "execute_result",
          "data": {
            "text/html": [
              "<div>\n",
              "<style scoped>\n",
              "    .dataframe tbody tr th:only-of-type {\n",
              "        vertical-align: middle;\n",
              "    }\n",
              "\n",
              "    .dataframe tbody tr th {\n",
              "        vertical-align: top;\n",
              "    }\n",
              "\n",
              "    .dataframe thead th {\n",
              "        text-align: right;\n",
              "    }\n",
              "</style>\n",
              "<table border=\"1\" class=\"dataframe\">\n",
              "  <thead>\n",
              "    <tr style=\"text-align: right;\">\n",
              "      <th></th>\n",
              "      <th>Random</th>\n",
              "    </tr>\n",
              "  </thead>\n",
              "  <tbody>\n",
              "    <tr>\n",
              "      <th></th>\n",
              "      <td>2615033217997756127</td>\n",
              "    </tr>\n",
              "  </tbody>\n",
              "</table>\n",
              "</div>"
            ],
            "text/plain": [
              "               Random\n",
              "  2615033217997756127"
            ]
          },
          "metadata": {
            "tags": []
          },
          "execution_count": 78
        }
      ]
    },
    {
      "cell_type": "markdown",
      "metadata": {
        "id": "vGsC8ZN8S-KJ",
        "colab_type": "text"
      },
      "source": [
        "**ฟังก์ชัน abs จะให้ค่า absolute**"
      ]
    },
    {
      "cell_type": "code",
      "metadata": {
        "id": "ANm0DnJqOG3L",
        "colab_type": "code",
        "outputId": "8cb56b98-0c4b-4f59-9c4a-7c09b7d73aee",
        "colab": {
          "base_uri": "https://localhost:8080/",
          "height": 97
        }
      },
      "source": [
        "conn = sqlite3.connect('test.db')\n",
        "\n",
        "cursor = conn.execute(\"SELECT abs(5), abs(-15), abs(NULL), abs(0), abs('ABC')\")\n",
        "df = get_data(cursor)\n",
        "\n",
        "conn.close()\n",
        "print(\"Operation done successfully\")\n",
        "df "
      ],
      "execution_count": 0,
      "outputs": [
        {
          "output_type": "stream",
          "text": [
            "Operation done successfully\n"
          ],
          "name": "stdout"
        },
        {
          "output_type": "execute_result",
          "data": {
            "text/html": [
              "<div>\n",
              "<style scoped>\n",
              "    .dataframe tbody tr th:only-of-type {\n",
              "        vertical-align: middle;\n",
              "    }\n",
              "\n",
              "    .dataframe tbody tr th {\n",
              "        vertical-align: top;\n",
              "    }\n",
              "\n",
              "    .dataframe thead th {\n",
              "        text-align: right;\n",
              "    }\n",
              "</style>\n",
              "<table border=\"1\" class=\"dataframe\">\n",
              "  <thead>\n",
              "    <tr style=\"text-align: right;\">\n",
              "      <th></th>\n",
              "      <th>abs(5)</th>\n",
              "      <th>abs(-15)</th>\n",
              "      <th>abs(NULL)</th>\n",
              "      <th>abs(0)</th>\n",
              "      <th>abs('ABC')</th>\n",
              "    </tr>\n",
              "  </thead>\n",
              "  <tbody>\n",
              "    <tr>\n",
              "      <th></th>\n",
              "      <td>5</td>\n",
              "      <td>15</td>\n",
              "      <td>None</td>\n",
              "      <td>0</td>\n",
              "      <td>0.0</td>\n",
              "    </tr>\n",
              "  </tbody>\n",
              "</table>\n",
              "</div>"
            ],
            "text/plain": [
              "  abs(5)  abs(-15) abs(NULL)  abs(0)  abs('ABC')\n",
              "       5        15      None       0         0.0"
            ]
          },
          "metadata": {
            "tags": []
          },
          "execution_count": 79
        }
      ]
    },
    {
      "cell_type": "markdown",
      "metadata": {
        "id": "Dx619Yh2Sxbu",
        "colab_type": "text"
      },
      "source": [
        "**ฟังก์ชัน upper จะแปลงสตริงเป็นตัวใหญ่ให้หมด**"
      ]
    },
    {
      "cell_type": "code",
      "metadata": {
        "id": "SxnJ_YyVOQ0N",
        "colab_type": "code",
        "outputId": "14498ab2-68cb-40c0-95c7-6cdce99d86df",
        "colab": {
          "base_uri": "https://localhost:8080/",
          "height": 252
        }
      },
      "source": [
        "conn = sqlite3.connect('test.db')\n",
        "\n",
        "cursor = conn.execute(\"SELECT upper(name) FROM COMPANY\")\n",
        "df = get_data(cursor)\n",
        "\n",
        "conn.close()\n",
        "print(\"Operation done successfully\")\n",
        "df "
      ],
      "execution_count": 0,
      "outputs": [
        {
          "output_type": "stream",
          "text": [
            "Operation done successfully\n"
          ],
          "name": "stdout"
        },
        {
          "output_type": "execute_result",
          "data": {
            "text/html": [
              "<div>\n",
              "<style scoped>\n",
              "    .dataframe tbody tr th:only-of-type {\n",
              "        vertical-align: middle;\n",
              "    }\n",
              "\n",
              "    .dataframe tbody tr th {\n",
              "        vertical-align: top;\n",
              "    }\n",
              "\n",
              "    .dataframe thead th {\n",
              "        text-align: right;\n",
              "    }\n",
              "</style>\n",
              "<table border=\"1\" class=\"dataframe\">\n",
              "  <thead>\n",
              "    <tr style=\"text-align: right;\">\n",
              "      <th></th>\n",
              "      <th>upper(name)</th>\n",
              "    </tr>\n",
              "  </thead>\n",
              "  <tbody>\n",
              "    <tr>\n",
              "      <th></th>\n",
              "      <td>TEDDY</td>\n",
              "    </tr>\n",
              "    <tr>\n",
              "      <th></th>\n",
              "      <td>MARK</td>\n",
              "    </tr>\n",
              "    <tr>\n",
              "      <th></th>\n",
              "      <td>DAVID</td>\n",
              "    </tr>\n",
              "    <tr>\n",
              "      <th></th>\n",
              "      <td>KIM</td>\n",
              "    </tr>\n",
              "    <tr>\n",
              "      <th></th>\n",
              "      <td>JAMES</td>\n",
              "    </tr>\n",
              "    <tr>\n",
              "      <th></th>\n",
              "      <td>PAUL</td>\n",
              "    </tr>\n",
              "  </tbody>\n",
              "</table>\n",
              "</div>"
            ],
            "text/plain": [
              " upper(name)\n",
              "       TEDDY\n",
              "        MARK\n",
              "       DAVID\n",
              "         KIM\n",
              "       JAMES\n",
              "        PAUL"
            ]
          },
          "metadata": {
            "tags": []
          },
          "execution_count": 80
        }
      ]
    },
    {
      "cell_type": "markdown",
      "metadata": {
        "id": "nqgTWosNSe4i",
        "colab_type": "text"
      },
      "source": [
        "**ฟังก์ชัน lower จะแปลงสตริงเป็นตัวเล็กให้หมด**"
      ]
    },
    {
      "cell_type": "code",
      "metadata": {
        "id": "fJBLLpGIOWbO",
        "colab_type": "code",
        "outputId": "36f59760-108b-42ef-816c-00b37293d3a7",
        "colab": {
          "base_uri": "https://localhost:8080/",
          "height": 252
        }
      },
      "source": [
        "conn = sqlite3.connect('test.db')\n",
        "\n",
        "cursor = conn.execute(\"SELECT lower(name) FROM COMPANY\")\n",
        "df = get_data(cursor)\n",
        "\n",
        "conn.close()\n",
        "print(\"Operation done successfully\")\n",
        "df "
      ],
      "execution_count": 0,
      "outputs": [
        {
          "output_type": "stream",
          "text": [
            "Operation done successfully\n"
          ],
          "name": "stdout"
        },
        {
          "output_type": "execute_result",
          "data": {
            "text/html": [
              "<div>\n",
              "<style scoped>\n",
              "    .dataframe tbody tr th:only-of-type {\n",
              "        vertical-align: middle;\n",
              "    }\n",
              "\n",
              "    .dataframe tbody tr th {\n",
              "        vertical-align: top;\n",
              "    }\n",
              "\n",
              "    .dataframe thead th {\n",
              "        text-align: right;\n",
              "    }\n",
              "</style>\n",
              "<table border=\"1\" class=\"dataframe\">\n",
              "  <thead>\n",
              "    <tr style=\"text-align: right;\">\n",
              "      <th></th>\n",
              "      <th>lower(name)</th>\n",
              "    </tr>\n",
              "  </thead>\n",
              "  <tbody>\n",
              "    <tr>\n",
              "      <th></th>\n",
              "      <td>teddy</td>\n",
              "    </tr>\n",
              "    <tr>\n",
              "      <th></th>\n",
              "      <td>mark</td>\n",
              "    </tr>\n",
              "    <tr>\n",
              "      <th></th>\n",
              "      <td>david</td>\n",
              "    </tr>\n",
              "    <tr>\n",
              "      <th></th>\n",
              "      <td>kim</td>\n",
              "    </tr>\n",
              "    <tr>\n",
              "      <th></th>\n",
              "      <td>james</td>\n",
              "    </tr>\n",
              "    <tr>\n",
              "      <th></th>\n",
              "      <td>paul</td>\n",
              "    </tr>\n",
              "  </tbody>\n",
              "</table>\n",
              "</div>"
            ],
            "text/plain": [
              " lower(name)\n",
              "       teddy\n",
              "        mark\n",
              "       david\n",
              "         kim\n",
              "       james\n",
              "        paul"
            ]
          },
          "metadata": {
            "tags": []
          },
          "execution_count": 81
        }
      ]
    },
    {
      "cell_type": "markdown",
      "metadata": {
        "id": "dYCcqIaQSC6t",
        "colab_type": "text"
      },
      "source": [
        "**ฟังก์ชัน length เอาไว้นับความยาวสตริง**  "
      ]
    },
    {
      "cell_type": "code",
      "metadata": {
        "id": "GHrzx0sVOaVB",
        "colab_type": "code",
        "outputId": "8dc58bd6-90ad-4e05-b6a7-f238587d1346",
        "colab": {
          "base_uri": "https://localhost:8080/",
          "height": 252
        }
      },
      "source": [
        "conn = sqlite3.connect('test.db')\n",
        "\n",
        "cursor = conn.execute(\"SELECT name, length(name) FROM COMPANY\")\n",
        "df = get_data(cursor)\n",
        "\n",
        "conn.close()\n",
        "print(\"Operation done successfully\")\n",
        "df "
      ],
      "execution_count": 0,
      "outputs": [
        {
          "output_type": "stream",
          "text": [
            "Operation done successfully\n"
          ],
          "name": "stdout"
        },
        {
          "output_type": "execute_result",
          "data": {
            "text/html": [
              "<div>\n",
              "<style scoped>\n",
              "    .dataframe tbody tr th:only-of-type {\n",
              "        vertical-align: middle;\n",
              "    }\n",
              "\n",
              "    .dataframe tbody tr th {\n",
              "        vertical-align: top;\n",
              "    }\n",
              "\n",
              "    .dataframe thead th {\n",
              "        text-align: right;\n",
              "    }\n",
              "</style>\n",
              "<table border=\"1\" class=\"dataframe\">\n",
              "  <thead>\n",
              "    <tr style=\"text-align: right;\">\n",
              "      <th></th>\n",
              "      <th>NAME</th>\n",
              "      <th>length(name)</th>\n",
              "    </tr>\n",
              "  </thead>\n",
              "  <tbody>\n",
              "    <tr>\n",
              "      <th></th>\n",
              "      <td>Teddy</td>\n",
              "      <td>5</td>\n",
              "    </tr>\n",
              "    <tr>\n",
              "      <th></th>\n",
              "      <td>Mark</td>\n",
              "      <td>4</td>\n",
              "    </tr>\n",
              "    <tr>\n",
              "      <th></th>\n",
              "      <td>David</td>\n",
              "      <td>5</td>\n",
              "    </tr>\n",
              "    <tr>\n",
              "      <th></th>\n",
              "      <td>Kim</td>\n",
              "      <td>3</td>\n",
              "    </tr>\n",
              "    <tr>\n",
              "      <th></th>\n",
              "      <td>James</td>\n",
              "      <td>5</td>\n",
              "    </tr>\n",
              "    <tr>\n",
              "      <th></th>\n",
              "      <td>Paul</td>\n",
              "      <td>4</td>\n",
              "    </tr>\n",
              "  </tbody>\n",
              "</table>\n",
              "</div>"
            ],
            "text/plain": [
              "   NAME  length(name)\n",
              "  Teddy             5\n",
              "   Mark             4\n",
              "  David             5\n",
              "    Kim             3\n",
              "  James             5\n",
              "   Paul             4"
            ]
          },
          "metadata": {
            "tags": []
          },
          "execution_count": 82
        }
      ]
    },
    {
      "cell_type": "markdown",
      "metadata": {
        "id": "GMWTrgkEAHLR",
        "colab_type": "text"
      },
      "source": [
        "# อ้างอิง\n",
        "\n",
        "* https://www.w3schools.com/sql/sql_intro.asp\n",
        "* https://www.sqlite.org/index.html\n",
        "* https://docs.python.org/2/library/sqlite3.html\n",
        "* https://www.tutorialspoint.com/sqlite/sqlite_python.htm"
      ]
    },
    {
      "cell_type": "markdown",
      "metadata": {
        "id": "hcoEUAKB-5jG",
        "colab_type": "text"
      },
      "source": [
        "# ทิ้งท้าย"
      ]
    },
    {
      "cell_type": "code",
      "metadata": {
        "id": "i6eaaNE6AmqE",
        "colab_type": "code",
        "cellView": "form",
        "outputId": "2fde2a60-ee41-4c52-85ac-fee204eb3fc6",
        "colab": {
          "base_uri": "https://localhost:8080/",
          "height": 747
        }
      },
      "source": [
        "#@title สามารถดาวน์โหลดสรุปคำสั่ง SQL ได้ที่นี้\n",
        "\n",
        "%%HTML\n",
        "<iframe src=\"https://www.facebook.com/plugins/post.php?href=https%3A%2F%2Fwww.facebook.com%2Fprogrammerthai%2Fposts%2F2552667661689736&width=500\" width=\"500\" height=\"726\" style=\"border:none;overflow:hidden\" scrolling=\"no\" frameborder=\"0\" allowTransparency=\"true\" allow=\"encrypted-media\"></iframe>"
      ],
      "execution_count": 0,
      "outputs": [
        {
          "output_type": "display_data",
          "data": {
            "text/html": [
              "<iframe src=\"https://www.facebook.com/plugins/post.php?href=https%3A%2F%2Fwww.facebook.com%2Fprogrammerthai%2Fposts%2F2552667661689736&width=500\" width=\"500\" height=\"726\" style=\"border:none;overflow:hidden\" scrolling=\"no\" frameborder=\"0\" allowTransparency=\"true\" allow=\"encrypted-media\"></iframe>"
            ],
            "text/plain": [
              "<IPython.core.display.HTML object>"
            ]
          },
          "metadata": {
            "tags": []
          }
        }
      ]
    },
    {
      "cell_type": "markdown",
      "metadata": {
        "id": "3jSzdjQTWzUn",
        "colab_type": "text"
      },
      "source": [
        "# ฝากติดตาม\n",
        "<br>\n",
        "<img height=\"20px\" src=\"https://www.patanasongsivilai.com/blog/wp-content/uploads/2017/06/logo_facebook2.png\" align=\"left\" hspace=\"10px\" vspace=\"0px\"> <a href=\"https://www.facebook.com/programmerthai/\">https://www.facebook.com/programmerthai/</a>\n",
        "<br>\n",
        "<img height=\"14px\" src=\"https://www.patanasongsivilai.com/blog/wp-content/uploads/2019/03/youtube.png\" align=\"left\" hspace=\"10px\" vspace=\"3px\">  \n",
        "<a href=\"https://www.youtube.com/channel/UCvhCKtG5cRE6K5--RJPql_w\">https://www.youtube.com/channel/UCvhCKtG5cRE6K5--RJPql_w</a>"
      ]
    },
    {
      "cell_type": "markdown",
      "metadata": {
        "id": "BPkuiw1tq17Q",
        "colab_type": "text"
      },
      "source": [
        "# ฝากประชาสัมพันธ์"
      ]
    },
    {
      "cell_type": "code",
      "metadata": {
        "id": "Ci-APbPUq39e",
        "colab_type": "code",
        "cellView": "form",
        "outputId": "b3dfc6c5-d586-4129-c76a-18aca85cd67d",
        "colab": {
          "base_uri": "https://localhost:8080/",
          "height": 609
        }
      },
      "source": [
        "#@title หนังสือ AI (ปัญญาประดิษฐ์) ไม่ยาก เรียนรู้ได้ด้วยเลขม. ปลาย ราคา 295 บาท\n",
        "%%HTML\n",
        "<iframe src=\"https://www.facebook.com/plugins/post.php?href=https%3A%2F%2Fwww.facebook.com%2Fprogrammerthai%2Fphotos%2Fa.2410667485889755%2F2555677101388792%2F%3Ftype%3D3&width=500\" width=\"500\" height=\"588\" style=\"border:none;overflow:hidden\" scrolling=\"no\" frameborder=\"0\" allowTransparency=\"true\" allow=\"encrypted-media\"></iframe>"
      ],
      "execution_count": 0,
      "outputs": [
        {
          "output_type": "display_data",
          "data": {
            "text/html": [
              "<iframe src=\"https://www.facebook.com/plugins/post.php?href=https%3A%2F%2Fwww.facebook.com%2Fprogrammerthai%2Fphotos%2Fa.2410667485889755%2F2555677101388792%2F%3Ftype%3D3&width=500\" width=\"500\" height=\"588\" style=\"border:none;overflow:hidden\" scrolling=\"no\" frameborder=\"0\" allowTransparency=\"true\" allow=\"encrypted-media\"></iframe>"
            ],
            "text/plain": [
              "<IPython.core.display.HTML object>"
            ]
          },
          "metadata": {
            "tags": []
          }
        }
      ]
    }
  ]
}